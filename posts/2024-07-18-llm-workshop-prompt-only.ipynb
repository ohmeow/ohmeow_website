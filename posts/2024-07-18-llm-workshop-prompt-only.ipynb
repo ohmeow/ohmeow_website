{
 "cells": [
  {
   "cell_type": "raw",
   "metadata": {
    "vscode": {
     "languageId": "raw"
    }
   },
   "source": [
    "---\n",
    "title: 'LLM Workshop #3 - How Far Can We Get With Prompting Alone?”'\n",
    "image: images/blog-20240718/blog-20240718-header.png\n",
    "author: Wayde Gilliam\n",
    "date: '2024-07-18'\n",
    "description: You have to start somewhere, and that somewhere is with one or more of the big dogs in world of LLMs.  Back in the day, that used to mean OpenAI. Today, however, we live in a time that affords us the\n",
    "  opportunity to experiment with a number of both closed and open source models from the likes of OpenAI, Anthropic, FireworksAI, Meta, and many others. In this post I'll demonstrate how we can use several of these\n",
    "  vendors to actually build a pipeline that begins to meet our project objectives defined in the previously. I'm going to use the results as a vibe check to guage how realistic my vision is,\n",
    "  build intution around where improvements can be made, and also get an idea if using one or more of the big dogs is good enough.\n",
    "\n",
    "categories:\n",
    "- NLP\n",
    "- LLMS\n",
    "- OpenAI\n",
    "- Anthropic\n",
    "- Meta\n",
    "- FireworksAI\n",
    "- Replicate\n",
    "- Llama\n",
    "- learning\n",
    "- projects\n",
    "\n",
    "toc: true\n",
    "hide: false\n",
    "search: true\n",
    "\n",
    "output-file: 2024-07-18-llm-workshop-prompt-only.html\n",
    "---\n"
   ]
  },
  {
   "cell_type": "markdown",
   "metadata": {},
   "source": [
    "## In The Beginning ...\n",
    "\n",
    "> \"you should prototype with a powerful model to see what is possible\" <img src=\"images/blog-20240603/hamel-icon.png\" alt=\"Hamel\" style=\"border-radius:30px;width:auto;height:25px;\">\n",
    "\n",
    "This is our chance to do a \"vibe check\" and create confidence that our objectives are doable. It's also a good time to get a sense of which knobs we can turn to potentially improve results, understand likely primary failure modes, and see how far we can push the bigger models without fine tuning. As the general advice from the workshop is to avoid fine tuning until you can prove you need it, this step will also provide the base on top of which we begin building our evaluation pipeline for that very purpose.\n",
    "\n",
    "::: {.callout-tip}\n",
    "\n",
    "## Tip: Miminize friction\n",
    "\n",
    "The best way to learn if something will work is to build it. A common theme from the workshop revolves around \"minimizing friction\", and in a nutshell you can read that as being encouraged to \"get going and build!\" The best way to do this in the generative space is to try out one or more of the high quality models available to us via an API.\n",
    "\n",
    ":::\n",
    "\n",
    "**What do we want our model to do again?**\n",
    "\n",
    "Before we begin, let's distill <a href=\"https://ohmeow.com/posts/2024-07-14-llm-workshop-objectives-data-filtration.html#objective-definition\" target=\"\\_blank\">our objectives</a> into a few clear bullet points:\n",
    "\n",
    "1. It should work on a single document or a collection of related documents in the domain of higher education surveys. \\\n",
    "   (See <a href=\"https://ohmeow.com/posts/2024-07-14-llm-workshop-objectives-data-filtration.html#data-refinement\" target=\"\\_blank\">the \"Data Refinement\" section</a> in the previous post in this series where we've curated a set of documents representative of what we expect to see generally)\n",
    "\n",
    "2. We should be able to provide it NLP task-specific tools to use to perform analysis on those documents\n",
    "\n",
    "3. Core tools for translation, summarization, sentiment, NER, and thematic analysis will always be provided and designed to work against English texts\n",
    "\n",
    "4. A translation tool is required and need to be executed first if any documents are not in English\n",
    "\n",
    "5. The results are formatted as structured output.\n",
    "\n",
    "With that, let's define some tools. In partuclar, we will define the \"core\" tools that should should always be made available to the LLM.\n"
   ]
  },
  {
   "cell_type": "markdown",
   "metadata": {},
   "source": [
    "## Tools\n",
    "\n",
    "If you didn't know this already, apparently \"Pydantic is all you need\". There's even this video by <a href=\"https://x.com/jxnlco\" target=\"\\_blank\">Jason Liu</a> to prove it.\n",
    "\n",
    "{{< video https://www.youtube.com/watch?v=yj-wSRJwrrc >}}\n",
    "\n",
    "::: {.callout-tip}\n",
    "\n",
    "## Tip: Use Pydantic to define your structured outputs\n",
    "\n",
    "Pydantic is is my preferred way to define tools for structured output for <a href=\"https://python.useinstructor.com/blog/2024/06/15/zero-cost-abstractions/?h=pydantic#pydantic-more-powerful-than-plain-dictionaries\" target=\"\\_blank\">a number of reasons</a>. In particular, I like how ...\n",
    "\n",
    "- It's widely supported across most IDEs and libraries (e.g, FastAPI, LangChain, Instructor, OpenAI, etc.., etc...).\n",
    "\n",
    "- It makes your intentions and expectations crystal clear, especially for any developer with OO experience (which is everyone).\n",
    "\n",
    "- It has error handling baked in.\n",
    "\n",
    "- It provides all kinds of hooks you can use in the pre/post-processing of your class attributes.\n",
    "\n",
    "- It enables you to build complex structured outputs composed on nested objects quite intuitively. Even a non-developer can look at your object hierarchy and understand what it is supposed to produce.\n",
    "\n",
    ":::\n",
    "\n",
    "Let's use it to build out our core tools that we'll want to always make available for our users.\n"
   ]
  },
  {
   "cell_type": "markdown",
   "metadata": {},
   "source": [
    "### Core Tools\n"
   ]
  },
  {
   "cell_type": "code",
   "execution_count": null,
   "metadata": {},
   "outputs": [],
   "source": [
    "# | code-fold: true\n",
    "# | code-summary: \"Pydantic classes for the core tools\"\n",
    "\n",
    "# Translation\n",
    "class TranslationTask(BaseModel):\n",
    "    \"\"\"The translation of a document to English and the original language.\"\"\"\n",
    "\n",
    "    english_translation: str = Field(..., description=\"The English tranlsation\")\n",
    "    source_language: str = Field(\n",
    "        ..., description=\"The language of the original text (e.g., English, Spanish, French, Chinese, German, etc...)\"\n",
    "    )\n",
    "\n",
    "# Document summarization\n",
    "class DocumentSummaryTask(BaseModel):\n",
    "    \"\"\"A summary and themes to extract from a document.\"\"\"\n",
    "\n",
    "    summary: str = Field(..., description=\"A concise and short 1 sentence summary of the author's statements.\")\n",
    "    themes: list[str] = Field(..., description=\"A list of no more than 5 concise 1 to 3 word themes discovered in the text\", max_items=5)\n",
    "\n",
    "# NER\n",
    "class NamedEntityType(str, Enum):\n",
    "    \"\"\"A named entity type.\"\"\"\n",
    "\n",
    "    PERSON = \"PERSON\"\n",
    "    NORP = \"NORP\"\n",
    "    FAC = \"FAC\"\n",
    "    ORG = \"ORG\"\n",
    "    GPE = \"GPE\"\n",
    "    LOC = \"LOC\"\n",
    "    PRODUCT = \"PRODUCT\"\n",
    "    EVENT = \"EVENT\"\n",
    "    WORK_OF_ART = \"WORK_OF_ART\"\n",
    "    LAW = \"LAW\"\n",
    "    LANGUAGE = \"LANGUAGE\"\n",
    "    DATE = \"DATE\"\n",
    "    TIME = \"TIME\"\n",
    "    PERCENT = \"PERCENT\"\n",
    "    MONEY = \"MONEY\"\n",
    "    QUANTITY = \"QUANTITY\"\n",
    "    ORDINAL = \"ORDINAL\"\n",
    "    CARDINAL = \"CARDINAL\"\n",
    "    OTHER = \"OTHER\"\n",
    "\n",
    "\n",
    "class NamedEntity(BaseModel):\n",
    "    \"\"\"The type of named entity and it's value.\"\"\"\n",
    "\n",
    "    entity_type: NamedEntityType\n",
    "    entity_mention: str = Field(..., description=\"The named entity recognized.\")\n",
    "\n",
    "\n",
    "class DocumentNERTask(BaseModel):\n",
    "    \"\"\"Information about named entities to extract.\"\"\"\n",
    "\n",
    "    named_entities: list[NamedEntity] = Field(\n",
    "        ...,\n",
    "        description=f\"Perform Named Entity Recognition that finds the following entities: {', '.join([x.name for x in NamedEntityType])}\",\n",
    "    )\n",
    "\n",
    "# Sentiment\n",
    "class DocumentSentimentTask(BaseModel):\n",
    "    \"\"\"Information about the sentiments expressed in a document.\"\"\"\n",
    "\n",
    "    positivity: int = Field(\n",
    "        ...,\n",
    "        description=\"How positive or negative is the author on a scale between 1 and 5 (1=Very Low, 2=Moerately Low, 3=Neutral, 4=Moderately Strong, 5=Very Strong)?\",\n",
    "    )\n",
    "    positive_statements: list[str] = Field(\n",
    "        ...,\n",
    "        description=\"A list of the author's positive statements\",\n",
    "    )\n",
    "    negative_statements: list[str] = Field(\n",
    "        ...,\n",
    "        description=\"A list of the author's negative statements\",\n",
    "    )\n",
    "\n",
    "    has_suggestions: bool = Field(\n",
    "        ...,\n",
    "        description=\"Does the author make any suggestions?\",\n",
    "    )\n",
    "    suggestions: list[str] = Field(\n",
    "        ...,\n",
    "        description=\"A list of any suggestions the author makes\",\n",
    "    )\n",
    "\n",
    "    feels_threatened: bool = Field(\n",
    "        ...,\n",
    "        description=\"Does the author feel fearful, harmed, intimidated, harassased, discriminated against, or threatened in any way?\",\n",
    "    )\n",
    "    feels_threatened_examples: list[str] = Field(\n",
    "        ...,\n",
    "        description=\"A list of how and why the author feels physically/emotionally/mentally threatened, uncomfortable, harassaed\",\n",
    "    )\n",
    "\n",
    "    profanity: bool = Field(\n",
    "        ...,\n",
    "        description=\"Is there any profanity?\",\n",
    "    )\n",
    "\n",
    "    is_nonsense: bool = Field(\n",
    "        ...,\n",
    "        description=\"Is the text uninformative or only contain nonsense? Set to `True` if the document is it too short to be meaningful or only says something like 'N/A', 'None', 'I have nothing to add', 'No suggestions', or 'No comment'.\",\n",
    "    )\n",
    "\n",
    "# Topic summarization\n",
    "class TopicSummaryTask(BaseModel):\n",
    "    \"\"\"A summary and action plan to extract from a list of related documents.\"\"\"\n",
    "\n",
    "    theme_name: str = Field(..., description=\"A 5 to 10 word concise summary of the list of documents\")\n",
    "    action_plan: list[str] = Field(\n",
    "        ...,\n",
    "        description=\"A list of 3-5 specific actions that can be taken based on the documents provided\",\n",
    "        max_items=5,\n",
    "    )\n",
    "```"
   ]
  },
  {
   "cell_type": "markdown",
   "metadata": {},
   "source": [
    "### \"Tools\" For \"Tool Calling\"\n",
    "\n",
    "We're going to use <a href=\"https://python.useinstructor.com/\" target=\"\\_blank\">Instructor</a> here because this is what Hamel suggests ...\n",
    "\n",
    "> For open models you should use outlines. for closed models APIs you should use instructor. <img src=\"images/blog-20240603/hamel-icon.png\" alt=\"Hamel\" style=\"border-radius:30px;width:auto;height:25px;\">\n",
    "\n",
    "::: {.callout-warning}\n",
    "TBH, I'm a noob relative to Instructor use. If anything I say below is wrong and/or can be improved ... please, please let me know!\n",
    ":::\n",
    "\n",
    "Moving along, as I understand the library, it is designed to work against a _single_ Pydantic class that you pass into it and from which an instance of that class will be returned at the conclusion of your LLM call. BUT, we've defined multiple classes as tools and we only want the LLM to call the tools it deems necessary to fulfill the user's request. What are we going to do?\n",
    "\n",
    "My answer, perhaps not suprisingly, is to use another Pydantic class. It looks like this:\n",
    "\n",
    "```python\n",
    "class DocumentAnalysis(BaseModel):\n",
    "    tasks: list[TranslationTask | DocumentSummaryTask | DocumentNERTask | DocumentSentimentTask | TopicSummaryTask] = Field(\n",
    "        ..., description=\"The results of each analysis task the user asked to be performed on a given document as context.\"\n",
    "    )\n",
    "\n",
    "```\n",
    "\n",
    "This makes it easy to support a flexible tool calling system where a user can create their own `Analysis` class with whatever \"tasks\" they want the LLM to operate with and use with Instructor. For example, I'll use the class below when working with collections of related documents since the the available tools should be limited for this use case:\n",
    "\n",
    "```python\n",
    "class RelatedDocumentAnalysis(BaseModel):\n",
    "    tasks: list[TopicSummaryTask | DocumentSentimentTask | TopicSummaryTask] = Field(\n",
    "        ..., description=\"The results of each analysis task the user asked to be performed on a a list of related documents as context.\"\n",
    "    )\n",
    "\n",
    "```\n",
    "\n",
    "With our Pydantic army above, we can now move to experimenting with the big dogs to see what works and what doesn't.\n",
    "\n",
    "::: {.callout-note}\n",
    "\n",
    "## Tip: Note\n",
    "\n",
    "Because of the propietary nature of the survey comments, I can't show you the actual results. What I can show you is the code and my observations. With that in hand you should have everything you need to get going with your own use cases. If anything isn't clear, drop a comment below or hit me up on X.\n",
    "\n",
    ":::\n"
   ]
  },
  {
   "cell_type": "markdown",
   "metadata": {},
   "source": [
    "## Single Document Analysis\n"
   ]
  },
  {
   "cell_type": "markdown",
   "metadata": {},
   "source": [
    "### Data\n",
    "\n",
    "Let's sample 5 rows from our sampled chunked dataset created in the previous post. We'll use the full survey comments for exploration here and ensure that 2 of those samples are in Spanish.\n",
    "\n",
    "::: {.callout-tip}\n",
    "\n",
    "## Tip: Test with representative examples\n",
    "\n",
    "Think about what kind of examples are like to be seen at inference time and test a few out here. Our goal is to get a sense of how well our model will generalize over asks its likely to see in the future.\n",
    "\n",
    ":::\n",
    "\n",
    "```python\n",
    "df = pd.read_parquet(f\"{DATA_DIR}/clean/{DATA_FILENAME}_sample_14k_chunked.parquet\")\n",
    "\n",
    "test_df = df[df[\"AnswerLang\"] == \"Spanish\"].sample(n=2)\n",
    "test_df[\"AnswerText\"] = test_df[\"AnswerText_NonEnglish\"]\n",
    "test_df = pd.concat([test_df, df[df[\"AnswerLang\"] == \"English\"].sample(n=3)])\n",
    "\n",
    "```\n"
   ]
  },
  {
   "cell_type": "markdown",
   "metadata": {},
   "source": [
    "### LLM Utility\n",
    "\n",
    "We'll define the following function to make it easy for us to test different APIs with <a href=\"https://python.useinstructor.com/\" target=\"\\_blank\">Instructor</a>. I designed this function for use with OpenAI, Antrhopic, and Fireworks specifically though it will likely work with any supported vendor with little or no modification.\n",
    "\n",
    "```python\n",
    "def ask_ai(\n",
    "    client,\n",
    "    content: str,\n",
    "    query: str | None = None,\n",
    "    model: str = \"gpt-4o\",\n",
    "    instructor_kwargs: dict = {},\n",
    ") -> DocumentAnalysis:\n",
    "    if not query:\n",
    "        query = \"Tasks: translation (if the document is not in English), summarization, ner, sentiment analysis.\"\n",
    "    try:\n",
    "        return client.chat.completions.create(\n",
    "            model=model,\n",
    "            response_model=DocumentAnalysis,\n",
    "            max_retries=3,\n",
    "            messages=[\n",
    "                {\n",
    "                    \"role\": \"system\",\n",
    "                    \"content\": \"\"\"\n",
    "Execute each analysis task.\n",
    "Always translate any non-English documents into English before executing other tasks.\"\"\",\n",
    "                },\n",
    "                {\n",
    "                    \"role\": \"user\",\n",
    "                    \"content\": f\"{query}. Document: {content}\",\n",
    "                },\n",
    "            ],\n",
    "            **instructor_kwargs,\n",
    "        )\n",
    "    except Exception as e:\n",
    "        print(e)\n",
    "```\n"
   ]
  },
  {
   "cell_type": "markdown",
   "metadata": {},
   "source": [
    "### Experiments\n"
   ]
  },
  {
   "cell_type": "markdown",
   "metadata": {},
   "source": [
    "#### OpenAI\n",
    "\n",
    "```python\n",
    "client = instructor.from_openai(OpenAI())\n",
    "\n",
    "for r_idx, r in test_df.iterrows():\n",
    "    print(\"==========\")\n",
    "    print(\":: Document ::\")\n",
    "    print(r[\"AnswerText\"])\n",
    "    results = ask_ai(client, r[\"AnswerText\"])\n",
    "\n",
    "    print(\":: Results ::\")\n",
    "    print(results.model_dump_json(indent=2))\n",
    "    print(\"==========\")\n",
    "```\n"
   ]
  },
  {
   "cell_type": "markdown",
   "metadata": {},
   "source": [
    "##### Observations\n",
    "\n",
    "1. Performed the translation step where needed correctly and used the English translation in the rest of the tools.\n",
    "\n",
    "2. Generally did an outstanding job of calling the tools and providing results that were as good, and sometimes better, than what I would have done.\n",
    "\n",
    "3. Occasionally ran into validation errors because it couldn't set various properties correctly. This usually happend with the summarization or sentiment tools where I'd get an error like this: \\\n",
    "    `tasks.0.DocumentSummaryTask.summary\n",
    "Input should be a valid string [type=string_type, input_value={'summary': 'The author c... 'inadequate planning']}, input_type=dict]`\n"
   ]
  },
  {
   "cell_type": "markdown",
   "metadata": {},
   "source": [
    "#### Anthropic\n",
    "\n",
    "```python\n",
    "client = instructor.from_anthropic(Anthropic())\n",
    "\n",
    "for r_idx, r in test_df.iterrows():\n",
    "    print(\"==========\")\n",
    "    print(\":: Document ::\")\n",
    "    print(r[\"AnswerText\"])\n",
    "    results = ask_ai(\n",
    "        client, r[\"AnswerText\"], model=\"claude-3-5-sonnet-20240620\", instructor_kwargs={\"max_tokens\": 1024}\n",
    "    )\n",
    "\n",
    "    print(\":: Results ::\")\n",
    "    print(results.model_dump_json(indent=2))\n",
    "    print(\"==========\")\n",
    "```\n"
   ]
  },
  {
   "cell_type": "markdown",
   "metadata": {},
   "source": [
    "##### Observations\n",
    "\n",
    "1. Performed the translation step where needed correctly and used the English translation in the rest of the tools.\n",
    "\n",
    "2. Generally did an outstanding job of calling the tools and providing results that were as good, and sometimes better, than what I would have done.\n",
    "\n",
    "3. Occassionally, it would struggle with the NER task for some reason. I talk about this more in my <a href=\"https://python.useinstructor.com/\" target=\"\\_blank\">Structuring Enums for Flawless LLM results with Instructor</a> post. I can't say if this is an Instructor issue and/or something particular to this model itself.\n"
   ]
  },
  {
   "cell_type": "raw",
   "metadata": {
    "vscode": {
     "languageId": "raw"
    }
   },
   "source": [
    "#### Fireworks\n",
    "\n",
    "```python\n",
    "client = instructor.patch(\n",
    "    OpenAI(\n",
    "        base_url=\"https://api.fireworks.ai/inference/v1\",\n",
    "        api_key=os.environ[\"FIREWORKS_API_KEY\"],\n",
    "    ),\n",
    ")\n",
    "\n",
    "for r_idx, r in test_df.iterrows():\n",
    "    print(\"==========\")\n",
    "    print(\":: Document ::\")\n",
    "    print(r[\"AnswerText\"])\n",
    "    results = ask_ai(client, r[\"AnswerText\"], model=\"accounts/fireworks/models/firefunction-v2\")\n",
    "\n",
    "    print(\":: Results ::\")\n",
    "    print(results.model_dump_json(indent=2))\n",
    "    print(\"==========\")\n",
    "```"
   ]
  },
  {
   "cell_type": "markdown",
   "metadata": {},
   "source": [
    "##### Observations\n",
    "\n",
    "1. Did not reliably perform the translation step where required\n",
    "\n",
    "2. Did not reliably call all the tools\n",
    "\n",
    "3. Where called, the results of each tool call were not as accurate as either the OpenAI or Anthropic models\n",
    "\n",
    "4. Encountered validation errors more frequently.\n",
    "\n",
    "5. It is FAST! Like really fast to run.\n",
    "\n",
    "The speed difference is pretty noticeable, but I wonder if it comes at the cost of being able to use Fireworks for any complex structured output?\n"
   ]
  },
  {
   "cell_type": "markdown",
   "metadata": {},
   "source": [
    "## Related Document Analysis\n"
   ]
  },
  {
   "cell_type": "markdown",
   "metadata": {},
   "source": [
    "### Data\n",
    "\n",
    "Let's sample 5 rows (topics) from our topics dataset created in the previous post.\n",
    "\n",
    "```python\n",
    "df = pd.read_parquet(f\"{DATA_DIR}/clean/{DATA_FILENAME}_sample_14k_topics.parquet\")\n",
    "test_df = df.sample(n=5)\n",
    "```\n"
   ]
  },
  {
   "cell_type": "markdown",
   "metadata": {},
   "source": [
    "### LLM Utility\n",
    "\n",
    "This is essentially the same utility function used above. The only bits we've modified are the prompt template and the `response_model`.\n",
    "\n",
    "```python\n",
    "def ask_ai(\n",
    "    client,\n",
    "    content: str,\n",
    "    query: str | None = None,\n",
    "    model: str = \"gpt-4o\",\n",
    "    instructor_kwargs: dict = {},\n",
    ") -> RelatedDocumentAnalysis:\n",
    "    if not query:\n",
    "        query = \"Tasks: thematic analysis/action planning and sentiment analysis.\"\n",
    "    try:\n",
    "        return client.chat.completions.create(\n",
    "            model=model,\n",
    "            response_model=RelatedDocumentAnalysis,\n",
    "            max_retries=3,\n",
    "            messages=[\n",
    "                {\n",
    "                    \"role\": \"system\",\n",
    "                    \"content\": dedent(\"\"\"\\\n",
    "                        Execute each analysis task.\"\"\"),\n",
    "                },\n",
    "                {\n",
    "                    \"role\": \"user\",\n",
    "                    \"content\": f\"{query}. Documents:\\n{content}\",\n",
    "                },\n",
    "            ],\n",
    "            **instructor_kwargs,\n",
    "        )\n",
    "    except Exception as e:\n",
    "        print(e)\n",
    "```\n"
   ]
  },
  {
   "cell_type": "markdown",
   "metadata": {},
   "source": [
    "### Experiments\n"
   ]
  },
  {
   "cell_type": "markdown",
   "metadata": {},
   "source": [
    "#### OpenAI\n",
    "\n",
    "```python\n",
    "client = instructor.from_openai(OpenAI())\n",
    "\n",
    "for r_idx, r in test_df.iterrows():\n",
    "    print(\"==========\")\n",
    "    print(\":: Document ::\")\n",
    "    docs = \"\\n\\n\".join(r[\"_chunk\"])\n",
    "    print(docs)\n",
    "\n",
    "    results = ask_ai(client, docs)\n",
    "\n",
    "    print(\":: Results ::\")\n",
    "    print(results.model_dump_json(indent=2))\n",
    "    print(\"==========\")\n",
    "```\n"
   ]
  },
  {
   "cell_type": "markdown",
   "metadata": {},
   "source": [
    "##### Observations\n",
    "\n",
    "1. Generally did an outstanding job of calling the tools and providing results that were as good, and sometimes better, than what I would have done.\n",
    "\n",
    "2. I didn't encounter any errors!\n",
    "\n",
    "Perhaps, GPT-4o simply struggles when too many tools are made available to it?\n"
   ]
  },
  {
   "cell_type": "markdown",
   "metadata": {},
   "source": [
    "#### Anthropic\n",
    "\n",
    "```python\n",
    "client = instructor.from_anthropic(Anthropic())\n",
    "\n",
    "for r_idx, r in test_df.iterrows():\n",
    "    print(\"==========\")\n",
    "    print(\":: Document ::\")\n",
    "    docs = \"\\n\\n\".join(r[\"_chunk\"])\n",
    "    print(docs)\n",
    "\n",
    "    results = ask_ai(\n",
    "        client, docs, model=\"claude-3-5-sonnet-20240620\", instructor_kwargs={\"max_tokens\": 1024}\n",
    "    )\n",
    "\n",
    "    print(\":: Results ::\")\n",
    "    print(results.model_dump_json(indent=2))\n",
    "    print(\"==========\")\n",
    "```\n"
   ]
  },
  {
   "cell_type": "markdown",
   "metadata": {},
   "source": [
    "##### Observations\n",
    "\n",
    "1. Generally did an outstanding job of calling the tools and providing results that were as good, and sometimes better, than what I would have done.\n",
    "\n",
    "2. I didn't encounter any errors!\n"
   ]
  },
  {
   "cell_type": "raw",
   "metadata": {
    "vscode": {
     "languageId": "raw"
    }
   },
   "source": [
    "#### Fireworks\n",
    "\n",
    "```python\n",
    "client = instructor.patch(\n",
    "    OpenAI(\n",
    "        base_url=\"https://api.fireworks.ai/inference/v1\",\n",
    "        api_key=os.environ[\"FIREWORKS_API_KEY\"],\n",
    "    ),\n",
    ")\n",
    "\n",
    "for r_idx, r in test_df.iterrows():\n",
    "    print(\"==========\")\n",
    "    print(\":: Document ::\")\n",
    "    docs = \"\\n\\n\".join(r[\"_chunk\"])\n",
    "    print(docs)\n",
    "\n",
    "    results = ask_ai(client, docs, model=\"accounts/fireworks/models/firefunction-v2\")\n",
    "\n",
    "    print(\":: Results ::\")\n",
    "    print(results.model_dump_json(indent=2))\n",
    "    print(\"==========\")\n",
    "```"
   ]
  },
  {
   "cell_type": "markdown",
   "metadata": {},
   "source": [
    "##### Observations\n",
    "\n",
    "1. Generally did an outstanding job of calling the tools and providing results that were as good, and sometimes better, than what I would have done.\n",
    "\n",
    "2. I didn't encounter any errors!\n",
    "\n",
    "Perhaps, GPT-4o simply struggles when too many tools are made available to it?\n"
   ]
  },
  {
   "cell_type": "markdown",
   "metadata": {},
   "source": [
    "## Exprimenting with Replicate\n",
    "\n",
    "<a href=\"https://replicate.com/\" target=\"\\_blank\">Replicate</a> is quickly becoming a favorite tool in my LLM arsenal. Hamel has <a href=\"https://replicate.com/hamelsmu/llama-3-70b-instruct-awq-with-tools\" target=\"\\_blank\">a really nice example/tutorial for getting tool calling to work with the Llama3-70B Instruct model</a> out of the box (not fine tuned). I stole some of his ideas and put together a simple workflow that allows me to incorporate testing with Llama3 variants here.\n",
    "\n",
    "Below, I share running the single document analysis experiment against both the 70B and 8B variants.\n"
   ]
  },
  {
   "cell_type": "markdown",
   "metadata": {
    "vscode": {
     "languageId": "raw"
    }
   },
   "source": [
    "```python\n",
    "doc_analysis_schema = DocumentAnalysis.model_json_schema()\n",
    "\n",
    "# doc_analysis_schema\n",
    "```\n"
   ]
  },
  {
   "cell_type": "markdown",
   "metadata": {
    "vscode": {
     "languageId": "raw"
    }
   },
   "source": [
    "```python\n",
    "def format_tools():\n",
    "    doc_analysis_schema = DocumentAnalysis.model_json_schema()\n",
    "\n",
    "    result = \"\"\n",
    "    for k, v in doc_analysis_schema[\"$defs\"].items():\n",
    "        result += f\"<function name='{k}'>\\n\"\n",
    "        result += json.dumps(v, indent=2)\n",
    "        result += f\"\\n</function name='{k}'>\\n\"\n",
    "    return result.strip()\n",
    "```\n"
   ]
  },
  {
   "cell_type": "markdown",
   "metadata": {
    "vscode": {
     "languageId": "raw"
    }
   },
   "source": [
    "```python\n",
    "PROMPT_TEMPLATE = \"\"\"\\\n",
    "<|begin_of_text|><|start_header_id|>system<|end_header_id|>\n",
    "\n",
    "{system_message}<|eot_id|><|start_header_id|>user<|end_header_id|>\n",
    "\n",
    "<query>{prompt}</query><|eot_id|><|start_header_id|>assistant<|end_header_id|>\n",
    "\n",
    "{prefill}\"\"\"\n",
    "\n",
    "# print(PROMPT_TEMPLATE)\n",
    "```\n"
   ]
  },
  {
   "cell_type": "markdown",
   "metadata": {},
   "source": [
    "```python\n",
    "SYSTEM_PROMPT = \"\"\"\\\n",
    "{system_persona}\n",
    "\n",
    "You are given a set of tasks to perform and a document inside <query> tags and a set of possible functions inside <function-definitions> tags.\n",
    "Calling these functions are optional. Carefully consider the question and determine if one or more functions can be used to answer the question. Place your thoughts and reasoning behind your decision in <function-thoughts> tags.\n",
    "Below is a list of function definitions:\n",
    "<function-definitions>\n",
    "{tools}\n",
    "</function-definitions>\n",
    "\n",
    "For each function you want to call, execute the function and use the answer to provide values to each function parameter in a way that conforms to that function's schema. Include the function name and parameter values inside the <function-calls> tag.\n",
    "Function calls MUST be in this format: <function-thoughts>Calling func1 would be helpful because of ...</function-thoughts><function-calls>[func1_name(params_name=params_value, params_name2=params_value2...), func2_name(params)]</function-calls>, WITHOUT any answer.\n",
    "If the query is not in English, always translate it into English first and then proceed to call any other functions using the English translation.\n",
    "\n",
    "If you do not wish to call any functions, say so in the <function-thoughts> tags followed by <function-calls>None</function-calls>\"\"\"\n",
    "\n",
    "system_persona = \"\"\"\\\n",
    "You are an expert NLP data scientist, skilled in machine translation, text summarization, NER, thematic analysis, strategic planning, sentiment analysis, and classification tasks.\"\"\"\n",
    "\n",
    "# print(SYSTEM_PROMPT)\n",
    "```\n"
   ]
  },
  {
   "cell_type": "markdown",
   "metadata": {},
   "source": [
    "```python\n",
    "tools = format_tools()  # .replace(\"\\n\", \"\")\n",
    "system_message = SYSTEM_PROMPT.format(system_persona=system_persona, tools=tools)\n",
    "\n",
    "# print(system_message)\n",
    "```\n"
   ]
  },
  {
   "cell_type": "markdown",
   "metadata": {},
   "source": [
    "```python\n",
    "for r_idx, r in test_df.iterrows():\n",
    "    print(\"==========\")\n",
    "    print(f\"Document:\\n{r['AnswerText']}\\n\")\n",
    "\n",
    "    prompt = f\"Translate the document below into English if necessary. After that, perform the following tasks on the document below: summarize, perform named entity recognition, and sentiment analysis. Document:\\n{r['AnswerText']}\"\n",
    "\n",
    "    input = {\n",
    "        \"max_tokenx\": 1024,\n",
    "        \"temperature\": 0,\n",
    "        \"top_p\": 0.9,\n",
    "        \"top_k\": 50,\n",
    "        \"presence_penalty\": 0,\n",
    "        \"frequency_penalty\": 0,\n",
    "        \"system_prompt\": system_message,\n",
    "        \"prompt\": f\"<query>{prompt}</query>\",\n",
    "    }\n",
    "    print(\"--- Example ---\")\n",
    "    print(f\"prompt: {prompt}\")\n",
    "    print(\"\")\n",
    "\n",
    "    print(\"===== Llama3-70B-Instruct =====\")\n",
    "    output = replicate.run(\"meta/meta-llama-3-70b-instruct\", input=input)\n",
    "    print(\"\".join(output))\n",
    "    print(\"\")\n",
    "\n",
    "    print(\"===== Llama3-8B-Instruct =====\")\n",
    "    output = replicate.run(\"meta/meta-llama-3-8b-instruct\", input=input)\n",
    "    print(\"\".join(output))\n",
    "    print(\"\")\n",
    "```\n"
   ]
  },
  {
   "cell_type": "markdown",
   "metadata": {},
   "source": [
    "##### Observations\n",
    "\n",
    "1. Generally the 70B model did an outstanding job of calling the tools and providing results that were as good, and sometimes better, than what I would have done.\n",
    "\n",
    "2. The 8B model would return decent results most of the time, but the formatting was all over the place.\n",
    "\n",
    "This gave me a lot of confidence that open source models are a contender to consider. Even though the 8B model didn't produce reliable results, the fact that the correct information was returned along with how well the 70B model performed, definitely make me think it might do really well in fine tuning.\n"
   ]
  },
  {
   "cell_type": "markdown",
   "metadata": {},
   "source": [
    "## Takeaways\n",
    "\n",
    "After all this, I'm confident that my ideas are worthy to pursue. Based on the results above, it seems worthwhile to explore turning the following knobs to boost performance with these models:\n",
    "\n",
    "1. Improved descriptions in the Pydantic classes\n",
    "\n",
    "2. Improve the sytem prompt\n",
    "\n",
    "3. Formulate varied human messages to simulate different ways the user may prompt the model\n",
    "\n",
    "Can you think of any other adjustments that might be beneficial? If so, drop a comment below!\n"
   ]
  },
  {
   "cell_type": "markdown",
   "metadata": {},
   "source": [
    "## Next Steps\n"
   ]
  },
  {
   "cell_type": "markdown",
   "metadata": {},
   "source": [
    "With some insights about what I can play with to improve my results, it's time for some experimentation. But how can I know whether or not the changes I'm making present meaningful progress? How can I know specificially where the model is struggling and look at those examples to inform future experiments?\n",
    "\n",
    "The answer: I need to set up an initial evaluation pipeline along with some scoring functions.\n",
    "\n",
    "And that is exactly what we'll do in this next post in this series ... stay tuned.\n"
   ]
  },
  {
   "cell_type": "markdown",
   "metadata": {},
   "source": []
  }
 ],
 "metadata": {
  "accelerator": "GPU",
  "colab": {
   "collapsed_sections": [],
   "name": "2022-04-12-ajtfb-chapter-9.ipynb",
   "provenance": []
  },
  "kernelspec": {
   "display_name": "Python 3.10.8 ('ohmeow_website')",
   "language": "python",
   "name": "python3"
  },
  "language_info": {
   "codemirror_mode": {
    "name": "ipython",
    "version": 3
   },
   "file_extension": ".py",
   "mimetype": "text/x-python",
   "name": "python",
   "nbconvert_exporter": "python",
   "pygments_lexer": "ipython3",
   "version": "3.12.3"
  },
  "vscode": {
   "interpreter": {
    "hash": "9eb9bda8f49c57e6addc88daf9eb4f6c227a77e767b644e5d20488a497d532a2"
   }
  }
 },
 "nbformat": 4,
 "nbformat_minor": 0
}
