{
 "cells": [
  {
   "cell_type": "raw",
   "metadata": {},
   "source": [
    "---\n",
    "title: 'A Journey Through Fastbook (AJTFB) - Chapter 3: Data Ethics'\n",
    "image: images/fastbook.jpg\n",
    "author: Wayde Gilliam\n",
    "date: '2020-11-22'\n",
    "description: The third in a weekly-ish series where I revisit the fast.ai book, \n",
    "  [\\\"Deep Learning for Coders with fastai & PyTorch\\\"](https://github.com/fastai/fastbook), and provide \n",
    "  commentary on the bits that jumped out to me chapter by chapter.  \n",
    "  So without further adieu, let's go!\n",
    "\n",
    "categories:\n",
    "- fastai\n",
    "- fastbook\n",
    "\n",
    "toc: true\n",
    "hide: false\n",
    "search: true\n",
    "\n",
    "output-file: 2020-11-22-ajtfb-chapter-3.html\n",
    "aliases:\n",
    "- /fastai/fastbook/2020/11/22/ajtfb-chapter-3\n",
    "---\n",
    "\n"
   ]
  },
  {
   "cell_type": "markdown",
   "metadata": {
    "id": "stHvk7NjcFCp"
   },
   "source": [
    "Other posts in this series:  \n",
    "\n",
    "[A Journey Through Fastbook (AJTFB) - Chapter 1](2020-11-06-ajtfb-chapter-1.ipynb)  \n",
    "[A Journey Through Fastbook (AJTFB) - Chapter 2](2020-11-16-ajtfb-chapter-2.ipynb)  \n",
    "[A Journey Through Fastbook (AJTFB) - Chapter 4](2021-05-23-ajtfb-chapter-4.ipynb)  \n",
    "[A Journey Through Fastbook (AJTFB) - Chapter 5](2021-06-03-ajtfb-chapter-5.ipynb)  \n",
    "[A Journey Through Fastbook (AJTFB) - Chapter 6a](2021-06-10-ajtfb-chapter-6-multilabel.ipynb)  \n",
    "[A Journey Through Fastbook (AJTFB) - Chapter 6b](2022-02-09-ajtfb-chapter-6-regression.ipynb)  \n",
    "[A Journey Through Fastbook (AJTFB) - Chapter 7](2022-03-28-ajtfb-chapter-7.ipynb)  \n",
    "[A Journey Through Fastbook (AJTFB) - Chapter 8](2022-03-31-ajtfb-chapter-8.ipynb)    \n",
    "[A Journey Through Fastbook (AJTFB) - Chapter 9](2022-04-25-ajtfb-chapter-9.ipynb)    "
   ]
  },
  {
   "cell_type": "markdown",
   "metadata": {
    "id": "WfcRNESotGLU"
   },
   "source": [
    "## Data Ethics\n",
    "\n",
    "> ... sometimes machine learning models can go wrong. They can have bugs. They can be presented with data that they haven't seen before and behave in ways we don't expect. Or ... they can be used for something that we would much prefer they were never, ever used for.\n",
    "\n",
    "> ... no one really agrees on what right and wrong are, whether they exist, how to spot them, which people are good and which bad, or pretty much anything else.\n",
    "\n",
    "If anything, this is a call to humility, self-examination, and thoughtful dialog. Though we are increasingly living in a polarized world where one is judged by what particular slogans they choose, what party they belong too, who they follow on Facebook, and so on, we have the choice to not be such human beings. But in my experience that is easier said than done. It's too easy to shout at, rather than talk with, the \"other\" side because we can in blissful ignorance continue believing we got it right without ever being challenged. It's hard to really reason out our world views and argue with those who don't agree. If we did, we have find we have more in common that imagined and make further progress as a society into figuring these things out ... things like right and wrong, good and evil, justice and injustice, and how we can get along with each other despite our differences.\n",
    "\n",
    "***The point of this chapter is simple: The goal of ML isn't to find the model with the lowest loss ... it is to build a model that drives the right kind of actions***"
   ]
  },
  {
   "cell_type": "markdown",
   "metadata": {
    "id": "yoBHs0wwbqG6"
   },
   "source": [
    "## Recourse and accountability\n",
    "\n",
    "> In a complex system, it is easy for no one person to feel responsible for outcomes.\n",
    "\n",
    "As deep learning practioniers, we have better insight than most into what kind of actions will be made as a result of our model's results. Therefore, if we care about people in general, we'll care about those outcomes as much as our model's validation loss."
   ]
  },
  {
   "cell_type": "markdown",
   "metadata": {
    "id": "3x904qZCHHcb"
   },
   "source": [
    "## Feedback Loops\n",
    "\n",
    "> Feedback loops can occur when your model is controlling the next round of data you get.\n",
    "\n",
    "> ... an algorithm can interact with its environment to create a feedback loop, making predictions that reinforce actions taken in the real world, which lead to predictions even more pronounced in the same direction.\n",
    "\n",
    "> Part of the problem here is the centrality of metrics in driving a financially important system.\n",
    "\n",
    "See the \"Meetup\" example on p.105\n",
    "\n",
    "> Once people join a single conspiracy-minded [Facebook] group, they are algorithmically routed to a plethora of others. Join an anti-vaccine group, and your suggestions will include anit-GMO, chemtrail watch, falt Earther (yes, really), and \"curing cancer naturallay\" groups. Rather than pulling a user out of the rabbit hole, the recommendation engine pushes them farther in.\n",
    "\n",
    "FYI, I think most social media has a net-negative effect on us as humain beings. In particular, I try to avoid Facebook, Instagram, TikTok, and Snapchat while doing my best to limit my only social media account, a Twitter account, to things relevant to data science and public health (and that ain't easy)."
   ]
  },
  {
   "cell_type": "markdown",
   "metadata": {
    "id": "h2uxHGE5IK0a"
   },
   "source": [
    "## Bias\n",
    "\n",
    "There are different kinds of \"data ethics\" bias, here are 4 types:\n",
    "\n",
    "### Historical Bias\n",
    "\n",
    "> ... comes from the fact that people are biased, processes are biased, and society is biased. [It] is a fundamental, structural issue with the first step of data generation process and can exist even given perfect sampling and feature selection.\n",
    "\n",
    "> Any dataset involving human can have this kind of bias: medical data, sales data, housing data, political data, and so on.\n",
    "\n",
    ":::{.callout-important}\n",
    "\n",
    "Maybe the best way to understand historical biase in your dataset is by spending time looking at both the outcomes and how they might be used???\n",
    "\n",
    ":::\n",
    "\n",
    ":::{.callout-important}\n",
    "\n",
    "Make sure your data is representative of what your model will see and to evaluate any automatic \"labeling\" features in your system. (see gorillas example on pp.107-108).\n",
    "\n",
    ":::\n",
    "\n",
    "> So what this showed is that the developers failed to utilize datasets containing enough darker faces, or test their product with darker faces.\n",
    "\n",
    "A good reminder that your model will only be as good as the data you trained it on! Sound familiar?\n",
    "\n",
    "> ... the vast majority of AI researches and developers are young white men. Most projects that we have seen do most user testing using friends and families of the immediate product development group. Given this, the kinds of problems we just discussed should not be suprising.\n",
    "\n",
    "I think at the very least, we need to be forthright about our dataset as much as on model performance. That way, expectations can be managed and a confidence level assigned to the results.  A threshold perhaps that could trigger human intervention.\n",
    "\n",
    "### Measurement bias\n",
    "\n",
    "> ... occurs when our models make mistakes because we are measuring the wrong thing, or measuring it the wrong way, or incorporating that measurement into the model inappropriately.\n",
    "\n",
    "Not sure why, but this is perhaps the most insidious bias because I think its the hardest to figure out.\n",
    "\n",
    "### Aggregation bias\n",
    "\n",
    "> ... occurs when models do not aggregate data in a way that incorporates all of the appropriate factors, or when a model does not include the necessary interaction terms, nonlineraities, or so forth.\n",
    "\n",
    "These are features that are not included though they would actually improve model performance if they were.\n",
    "\n",
    "### Representation bias\n",
    "\n",
    "> When there is a clear, easy-to-see underlying relationship, a simple model will often assume that this relationship holds all the time.\n",
    "\n",
    "Essentially models can see this real imbalance and make it bigger than it is."
   ]
  },
  {
   "cell_type": "markdown",
   "metadata": {
    "id": "r7ZF3BdAItCG"
   },
   "source": [
    "## Disinformation\n",
    "\n",
    "> It is not necessarily about getting someone to belive something false, but rather often used to sow disharmony and uncertainty, and to get people to give up on seeking the truth. Receiving conflicting accounts can lead people to assume that they can never know whom or what to trust.\n",
    "\n",
    "Disinformation will unfotunately be one of the greatest legacies of President Trump. A step backwards for American society. A culture that will back if you if you tell them what they want to hear, even if you're a compulsive liar and base your statements on \"gut feel\" rather than facts and logic.\n",
    "\n",
    "> While most of us like to think of ourselves as independent-minded, in reality we evolved to be influenced by others in our in-group, and in opposition to those in our out-group. Online discussions can influence our viewpoints, or alter the range of what we consider acceptable viewpoints. Humans are social animals, and as social animals, we are extremely influenced by the people around us. Increasingly, radicalization occurs in online environments; so influence is coming from people in the virtual space of online forums and social networks.\n",
    "\n",
    "The biggest take here is that I am not as independently minded as I think I am. Knowing thyself is perhaps the best preventative of being swallowed up by disinformation. Limiting social media is another.\n",
    "\n",
    "> Disinformation through autogenerated text is a particularly significant issue\n",
    "\n",
    "As an NLP guy, this one scares me since part of my work is to summarize text. Knowing this, the first step I've taken is to let all business owners know the risk of text generation algorithms generating text that is either false and/or not necessarily reflective of the inputs, as in the case of abstract summarization.  The second step I took was to introduce human beings into the process and a workflow that has them look at at least the most potentially wrong summarizations before reports go out.\n"
   ]
  },
  {
   "cell_type": "markdown",
   "metadata": {
    "id": "GZoR3dj_Tu6C"
   },
   "source": [
    "## What to do???\n",
    "\n",
    "> You must assume that any personal data that Facebook or Android keeps are data that governments around the world will try to get or that thieves will try to steal.\n",
    "\n",
    "Data use and storage are things you need to think about.\n",
    "\n",
    "I think these are good questions to ask/answer in any project to ensure good outcomes:\n",
    "\n",
    "> * Whose interests, desires, skills, experiences, and values have we simply assumed rather than\n",
    "> actually consulted?\n",
    "> * Who are all the stakeholders who will be directly affected by our product? How have their interests\n",
    "> been protected? How do we know what their interests really are - have we asked?\n",
    "> * Whowhich groups and individuals will be indirectly affected in signficant ways?\n",
    "> * Who might use this product that we didn't expect to use it, or for purposes we didn't initially\n",
    "> intend?\n",
    "\n",
    "See pp.119-120 for a bunch of good questions to put into your practice!\n",
    "\n",
    "> When everybody on a team has similar backgrounds, they are likely to have similar blind spots around ethical tasks.\n",
    "\n",
    "> ... first come up with a process, definition, set of questions etc., which is designed to resolve a problem. Then try to come up with an example in which the apparent solution results in a proposal that no one would consider acceptable. This can then lead to further refinement of the solution.\n",
    "\n",
    "Thinking about all these things may lead one to analysis paralysis or even worse, complete apathy.  We need to start with something and be okay with criticism and refactoring. Additionally, we need to be thoughtful in even spot on criticism of others' systems. I don't think most folks try to make something racist or mysoginistic or whatever, so instead of calling them a \"Hitler\" on Twitter when we taste something that looks to us like fasicism, maybe a phone call and one-on-one chat is the better and more productive move.\n"
   ]
  },
  {
   "cell_type": "markdown",
   "metadata": {
    "id": "PSwEOzDpHHBj"
   },
   "source": [
    "## Resources\n",
    "\n",
    "1. https://book.fast.ai - The book's website; it's updated regularly with new content and recommendations from everything to GPUs to use, how to run things locally and on the cloud, etc...\n",
    "\n",
    "2. https://forums.fast.ai/c/data-ethics/47 - Forum subcategory for all things \"data ethics\".\n"
   ]
  },
  {
   "cell_type": "code",
   "execution_count": null,
   "metadata": {
    "id": "B2wEfmj5CLA8"
   },
   "outputs": [],
   "source": []
  }
 ],
 "metadata": {
  "accelerator": "GPU",
  "colab": {
   "collapsed_sections": [],
   "name": "2020-11-06-ajtfb-chapter-1.ipynb",
   "private_outputs": true,
   "provenance": []
  },
  "kernelspec": {
   "display_name": "Python 3.10.8 ('ohmeow_website')",
   "language": "python",
   "name": "python3"
  },
  "language_info": {
   "name": "python",
   "version": "3.10.8"
  },
  "vscode": {
   "interpreter": {
    "hash": "9eb9bda8f49c57e6addc88daf9eb4f6c227a77e767b644e5d20488a497d532a2"
   }
  }
 },
 "nbformat": 4,
 "nbformat_minor": 0
}
