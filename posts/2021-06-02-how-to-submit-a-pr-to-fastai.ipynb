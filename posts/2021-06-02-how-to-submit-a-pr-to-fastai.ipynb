{
 "cells": [
  {
   "cell_type": "raw",
   "metadata": {},
   "source": [
    "---\n",
    "aliases:\n",
    "- /fastai/github/open source/pull requests/2021/06/02/how-to-submit-a-pr-to-fastai\n",
    "author: Wayde Gilliam\n",
    "badges: true\n",
    "branch: master\n",
    "categories:\n",
    "- fastai\n",
    "- github\n",
    "- open source\n",
    "- pull requests\n",
    "date: '2021-06-02'\n",
    "description: A few hours ago I was working on a PR for fastai, and as it has been\n",
    "  awhile I realized I couldn't quite remember all the steps required to do so.  Fortunately,\n",
    "  I got it figured out pretty quickly and decided I better blog the steps for when\n",
    "  I forget next (I am almost 50 after all).  So for all you developers looking to\n",
    "  contribute to fastai, or really any open source project, here's everything you need\n",
    "  to know to setup your local development environment and submit PRs to fastai.  Enjoy!\n",
    "hide: false\n",
    "hide_binder_badge: true\n",
    "image: images/thumbs_up_kid.jpeg\n",
    "output-file: 2021-06-02-how-to-submit-a-pr-to-fastai.html\n",
    "search_exclude: false\n",
    "show_tags: true\n",
    "title: 'Contributing to fastai: Setup your local development environment & submit\n",
    "  a PR'\n",
    "toc: false\n",
    "\n",
    "---\n",
    "\n"
   ]
  },
  {
   "cell_type": "markdown",
   "metadata": {
    "id": "uAsIdyAA0P0C"
   },
   "source": [
    "## Steps"
   ]
  },
  {
   "cell_type": "markdown",
   "metadata": {
    "id": "R4uKU2tO0T2R"
   },
   "source": [
    "### Configure your local development environment\n",
    "\n",
    "1. Install the github CLI, `gh`.  Instructions for all the OS flavor are [here](https://github.com/cli/cli)!  \n",
    "  \n",
    "  The CLI makes it trivial to work on open source projects.  In particular, it really shines when making a PR as you'll see below.  Here's the link to the cli's[excellent documentation](https://cli.github.com/manual/) which you'll likely be referring to again and again (so keep it handy).\n",
    "\n",
    "2. Clone the fastai repo locally\n",
    "```\n",
    "gh repo clone https://github.com/fastai/fastai.git\n",
    "cd ./fastai\n",
    "```\n",
    "3. Build your conda environment (I'm using [mamba](https://mamba.readthedocs.io/en/latest/) based on Jeremy Howard's recommendation)\n",
    "\n",
    "  Mamba is a makes issuing conda commands faster! Basically just replace `conda` with `mamba` whenever you are working with packages in your environment.\n",
    "```\n",
    "mamba env create -f environment.yml\n",
    "```\n",
    "4. Activate the environment (you want to make sure you're in the `fastai` environment going forward)\n",
    "```\n",
    "conda activate fastai\n",
    "```\n",
    "5. Install Jupyter and extensions *into your fastai environment* (I do this all the time because it leads to less problems when trying to use a base install of jupyter notebook for everything)\n",
    "```\n",
    "mamba install -c conda-forge notebook\n",
    "mamba install -c conda-forge jupyter_contrib_nbextensions\n",
    "```\n",
    "6. Install nbdev and run the `nbdev_install_git_hooks` script per the fastai docs\n",
    "```\n",
    "mamba install -c fastai nbdev\n",
    "nbdev_install_git_hooks\n",
    "```\n",
    "7. Create a symlink from `/nbs/fastai` to `fastai` to make sure the notebooks can find the fastai library which is up one level from the notebooks\n",
    "```\n",
    "cd ./nbs\n",
    "ln -s ../fastai fastai\n",
    "cd ..\n",
    "```\n",
    "\n",
    "**At this point your local development environment is good to go!**  Run `jupyter notebook`, open your browser, and head over to the `/nbs` folder to begin."
   ]
  },
  {
   "cell_type": "markdown",
   "metadata": {
    "id": "9LP2JCYu7abp"
   },
   "source": [
    "### Submit a PR\n",
    "\n",
    "With the github CLI, its amazingly easy! Once you've made your changes and added your unit tests all you have to do is:\n",
    "\n",
    "1. Make sure you're local repo is up-to-date ***BEFORE*** you start working.  In fact, this is a good command to run periodically so you don't have to deal with any conflicts once you make your PR.\n",
    "```\n",
    "git pull\n",
    "```\n",
    "\n",
    "2. Commit your changes to git\n",
    "```\n",
    "git commit -am 'My amazing addition to fastai here'\n",
    "```\n",
    "\n",
    "3. Submit a PR using `gh`\n",
    "```\n",
    "gh pr create --title \"My amaizing change\" --body \"Here's what you need to know about it!\"\n",
    "```\n",
    "\n",
    "  There are actually a few ways to issue the pr, but the above is the easiest.  Check out the [gh pr create docs](https://cli.github.com/manual/gh_pr_create) for more options.\n",
    "\n",
    "  Once you do this, you'll be asked some questions about where to push the branch and offer an option to fork the base repository under your own account.  Easy peasy friends.\n",
    "\n",
    "**Congrats!  You're a contributor now.**"
   ]
  },
  {
   "cell_type": "markdown",
   "metadata": {
    "id": "eRQeFZQe9OVu"
   },
   "source": [
    "## Summary\n",
    "\n",
    "But that's not all!  There are all kinds of cool things you can do using the github CLI including monitoring the status of your PRs and also fixing them (which you'll likely have to do when the base repo owners ask you to make changes of one sort or another).  It's all in the docs and it's all fairly straightforward!"
   ]
  }
 ],
 "metadata": {
  "accelerator": "GPU",
  "colab": {
   "authorship_tag": "ABX9TyO54+qWPf3FuabWlbH5qP1k",
   "collapsed_sections": [],
   "name": "Copy of Untitled5.ipynb",
   "provenance": []
  },
  "kernelspec": {
   "display_name": "Python 3",
   "name": "python3"
  },
  "language_info": {
   "name": "python"
  }
 },
 "nbformat": 4,
 "nbformat_minor": 0
}
