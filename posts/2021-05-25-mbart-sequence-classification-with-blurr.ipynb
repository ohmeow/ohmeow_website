{
 "cells": [
  {
   "cell_type": "raw",
   "metadata": {},
   "source": [
    "---\n",
    "aliases:\n",
    "- /blurr/fastai/huggingface/multilingual/sequence classification/2021/05/25/mbart-sequence-classification-with-blurr\n",
    "author: Wayde Gilliam\n",
    "badges: true\n",
    "branch: master\n",
    "categories:\n",
    "- blurr\n",
    "- huggingface\n",
    "- fastai\n",
    "- multilingual\n",
    "- sequence classification\n",
    "date: '2021-05-25'\n",
    "description: Need to do some multi-lingual sequence classification? Look no further,\n",
    "  at least if you want to use MBart and/or the MBart-50 variety of models.  Working\n",
    "  against the `amazon_reviews_multi` dataset I'll show you how to use the `blurr`\n",
    "  library to configure the huggingface objects, build DataLoaders, and train a model\n",
    "  that you can use for classifying German text.  I'll throw in a bit of the inference\n",
    "  code so that you can see how easy `blurr` makes it to use your trained model to\n",
    "  boot.  Let's go ...\n",
    "hide: false\n",
    "hide_binder_badge: true\n",
    "image: images/blurr-logo-small.png\n",
    "output-file: 2021-05-25-mbart-sequence-classification-with-blurr.html\n",
    "search_exclude: false\n",
    "show_tags: true\n",
    "title: Multilingual Sequence Classifaction with the MBart Family\n",
    "toc: false\n",
    "\n",
    "---\n",
    "\n"
   ]
  },
  {
   "cell_type": "code",
   "execution_count": 1,
   "metadata": {
    "id": "8dCNT-kYi7bC"
   },
   "outputs": [],
   "source": [
    "!pip install ohmeow-blurr -q\n",
    "!pip install datasets -q"
   ]
  },
  {
   "cell_type": "code",
   "execution_count": 2,
   "metadata": {
    "id": "0aovWtmckwpz"
   },
   "outputs": [],
   "source": [
    "from fastai.text.all import *\n",
    "from datasets import load_dataset\n",
    "from transformers import AutoModelForSequenceClassification\n",
    "\n",
    "from blurr.utils import BLURR\n",
    "from blurr.data.core import *\n",
    "from blurr.modeling.core import *"
   ]
  },
  {
   "cell_type": "code",
   "execution_count": 3,
   "metadata": {
    "colab": {
     "base_uri": "https://localhost:8080/"
    },
    "id": "2JkW4qZRsCET",
    "outputId": "0734add7-6d0f-4ce6-c9db-3e8ebbd07e24"
   },
   "outputs": [
    {
     "name": "stdout",
     "output_type": "stream",
     "text": [
      "Using blurr 0.0.25\n",
      "Using pytorch 1.8.1+cu101\n",
      "Using fastai 2.3.1\n",
      "Using transformers 4.6.1\n"
     ]
    }
   ],
   "source": [
    "from blurr import __version__ as blurr_version\n",
    "from fastai import __version__ as fa_version\n",
    "from torch import __version__ as pt_version\n",
    "from transformers import __version__ as hft_version\n",
    "\n",
    "print(f'Using blurr {blurr_version}')\n",
    "print(f'Using pytorch {pt_version}')\n",
    "print(f'Using fastai {fa_version}')\n",
    "print(f'Using transformers {hft_version}')"
   ]
  },
  {
   "cell_type": "markdown",
   "metadata": {
    "id": "BcIDHH6Qry0-"
   },
   "source": [
    "## Data"
   ]
  },
  {
   "cell_type": "code",
   "execution_count": 4,
   "metadata": {
    "colab": {
     "base_uri": "https://localhost:8080/"
    },
    "id": "nejkBrYEjIIp",
    "outputId": "e431cb0b-1b14-4fac-f9fd-6ec08d78f0e3"
   },
   "outputs": [
    {
     "name": "stderr",
     "output_type": "stream",
     "text": [
      "Reusing dataset amazon_reviews_multi (/root/.cache/huggingface/datasets/amazon_reviews_multi/de/1.0.0/724e94f4b0c6c405ce7e476a6c5ef4f87db30799ad49f765094cf9770e0f7609)\n"
     ]
    }
   ],
   "source": [
    "trn_ds, val_ds, tst_ds = load_dataset(\"amazon_reviews_multi\", \"de\", split=['train', 'validation', 'test'])"
   ]
  },
  {
   "cell_type": "code",
   "execution_count": 5,
   "metadata": {
    "id": "No0eIiz0Lfbe"
   },
   "outputs": [],
   "source": [
    "trn_df = pd.DataFrame(trn_ds)\n",
    "val_df = pd.DataFrame(val_ds)\n",
    "tst_df = pd.DataFrame(tst_ds)"
   ]
  },
  {
   "cell_type": "markdown",
   "metadata": {
    "id": "MQrImym6O3zO"
   },
   "source": [
    ":::{.callout-important}\n",
    "\n",
    "Use a subset of the data when building your model to speed up developement time!\n",
    "\n",
    ":::\n",
    "\n",
    "\n",
    "After you got everything, throw the full dataset at it and go get some coffee :)"
   ]
  },
  {
   "cell_type": "code",
   "execution_count": 6,
   "metadata": {
    "id": "6qJCGYb7NURe"
   },
   "outputs": [],
   "source": [
    "# testing with a subset ... (comment out to train on full dataset!!!)\n",
    "\n",
    "# this won't work because the rows are ordered by our targets!\n",
    "# trn_ds, val_ds = load_dataset(\"amazon_reviews_multi\", \"de\", split=['train[:10%]', 'validation[:10%]'])\n",
    "\n",
    "trn_df = trn_df.sample(frac=0.05)\n",
    "val_df = val_df.sample(frac=0.05)"
   ]
  },
  {
   "cell_type": "code",
   "execution_count": 7,
   "metadata": {
    "colab": {
     "base_uri": "https://localhost:8080/"
    },
    "id": "-pPsRcfim5ZH",
    "outputId": "2d7071fe-fbdd-49b6-f170-0f7808fc4e06"
   },
   "outputs": [
    {
     "name": "stdout",
     "output_type": "stream",
     "text": [
      "10000 250 10250\n"
     ]
    }
   ],
   "source": [
    "trn_df['is_valid'] = False; val_df['is_valid'] = True\n",
    "df = pd.concat([trn_df, val_df])\n",
    "\n",
    "print(len(trn_df), len(val_df), len(df))"
   ]
  },
  {
   "cell_type": "code",
   "execution_count": 8,
   "metadata": {
    "colab": {
     "base_uri": "https://localhost:8080/",
     "height": 323
    },
    "id": "2S5DqsgOnKQa",
    "outputId": "0f7a6479-2092-48a9-84df-103fa549c142"
   },
   "outputs": [
    {
     "data": {
      "text/html": [
       "<div>\n",
       "<style scoped>\n",
       "    .dataframe tbody tr th:only-of-type {\n",
       "        vertical-align: middle;\n",
       "    }\n",
       "\n",
       "    .dataframe tbody tr th {\n",
       "        vertical-align: top;\n",
       "    }\n",
       "\n",
       "    .dataframe thead th {\n",
       "        text-align: right;\n",
       "    }\n",
       "</style>\n",
       "<table border=\"1\" class=\"dataframe\">\n",
       "  <thead>\n",
       "    <tr style=\"text-align: right;\">\n",
       "      <th></th>\n",
       "      <th>language</th>\n",
       "      <th>product_category</th>\n",
       "      <th>product_id</th>\n",
       "      <th>review_body</th>\n",
       "      <th>review_id</th>\n",
       "      <th>review_title</th>\n",
       "      <th>reviewer_id</th>\n",
       "      <th>stars</th>\n",
       "      <th>is_valid</th>\n",
       "    </tr>\n",
       "  </thead>\n",
       "  <tbody>\n",
       "    <tr>\n",
       "      <th>115812</th>\n",
       "      <td>de</td>\n",
       "      <td>apparel</td>\n",
       "      <td>product_de_0727194</td>\n",
       "      <td>für so einen Preis muss ich dazusagen, es hält was es verspricht, natürlich ist hier keine hohe Qualität zu erwarten, aber für solchen Preis recht gut. ist. Die Nähte gehen mit Zeit auf</td>\n",
       "      <td>de_0580512</td>\n",
       "      <td>Preis Leistung Ok</td>\n",
       "      <td>reviewer_de_0542714</td>\n",
       "      <td>3</td>\n",
       "      <td>False</td>\n",
       "    </tr>\n",
       "    <tr>\n",
       "      <th>58074</th>\n",
       "      <td>de</td>\n",
       "      <td>toy</td>\n",
       "      <td>product_de_0014211</td>\n",
       "      <td>Die Qualität ist nicht gut. Nur nach kurzem nutzen sind die plastikverkleidungen abgefallen. Der Ball lässt sich schlecht für Kinder entfernen. Die Scheiben sehen nach kurzer Nutzung aus als wären sie Jahre im Gebrauch. Würde ich nicht wieder kaufen.</td>\n",
       "      <td>de_0100470</td>\n",
       "      <td>Schlechte Qualität</td>\n",
       "      <td>reviewer_de_0719961</td>\n",
       "      <td>2</td>\n",
       "      <td>False</td>\n",
       "    </tr>\n",
       "    <tr>\n",
       "      <th>122195</th>\n",
       "      <td>de</td>\n",
       "      <td>toy</td>\n",
       "      <td>product_de_0304268</td>\n",
       "      <td>Erfüllt seinen Zweck und sie gut aus.</td>\n",
       "      <td>de_0811174</td>\n",
       "      <td>Toller Lederbeutel</td>\n",
       "      <td>reviewer_de_0999635</td>\n",
       "      <td>4</td>\n",
       "      <td>False</td>\n",
       "    </tr>\n",
       "    <tr>\n",
       "      <th>75151</th>\n",
       "      <td>de</td>\n",
       "      <td>other</td>\n",
       "      <td>product_de_0720910</td>\n",
       "      <td>Ich mach es kurz; Kauft euch das Album nicht und behaltet Rise Against so on Erinnerung wie sie früher waren. Alles nach Appeal to reason ist generisch, einfallslos und irgendwie langweilig geworden. The Violence ist der einzige Track der mir vielleicht im Gedächtnis bleiben könnte.</td>\n",
       "      <td>de_0713777</td>\n",
       "      <td>Langweilg</td>\n",
       "      <td>reviewer_de_0130191</td>\n",
       "      <td>2</td>\n",
       "      <td>False</td>\n",
       "    </tr>\n",
       "    <tr>\n",
       "      <th>94760</th>\n",
       "      <td>de</td>\n",
       "      <td>digital_video_download</td>\n",
       "      <td>product_de_0847576</td>\n",
       "      <td>Fand die Twists im Film ziemlich vorhersehbar. Dennoch fand ich den Film ansich ganz cool, da ich 1. Den Schauspieler sehr mag und 2. Diese Thematik immer wieder spannend finde. Für abends zuhause mit dem Partner auf der Couch ein solider Film, den man durchaus mal schauen kann, aber auch kein Super hollywood Kino erwartet</td>\n",
       "      <td>de_0471539</td>\n",
       "      <td>Solider Film für zuhause</td>\n",
       "      <td>reviewer_de_0223020</td>\n",
       "      <td>3</td>\n",
       "      <td>False</td>\n",
       "    </tr>\n",
       "  </tbody>\n",
       "</table>\n",
       "</div>"
      ],
      "text/plain": [
       "       language        product_category  ... stars is_valid\n",
       "115812       de                 apparel  ...     3    False\n",
       "58074        de                     toy  ...     2    False\n",
       "122195       de                     toy  ...     4    False\n",
       "75151        de                   other  ...     2    False\n",
       "94760        de  digital_video_download  ...     3    False\n",
       "\n",
       "[5 rows x 9 columns]"
      ]
     },
     "execution_count": 8,
     "metadata": {
      "tags": []
     },
     "output_type": "execute_result"
    }
   ],
   "source": [
    "trn_df.head()"
   ]
  },
  {
   "cell_type": "code",
   "execution_count": 9,
   "metadata": {
    "colab": {
     "base_uri": "https://localhost:8080/"
    },
    "id": "tCJSTEG7nXJg",
    "outputId": "f437224b-107e-482f-fb72-709bbe98134d"
   },
   "outputs": [
    {
     "name": "stdout",
     "output_type": "stream",
     "text": [
      "4    2054\n",
      "3    2054\n",
      "5    2025\n",
      "2    1946\n",
      "1    1921\n",
      "Name: stars, dtype: int64\n",
      "[1, 2, 3, 4, 5]\n"
     ]
    }
   ],
   "source": [
    "unique_tgt_vals = trn_df.stars.value_counts()\n",
    "print(unique_tgt_vals)\n",
    "\n",
    "labels = sorted(list(df.stars.unique()))\n",
    "print(labels)"
   ]
  },
  {
   "cell_type": "markdown",
   "metadata": {
    "id": "Kll1S3tvrubA"
   },
   "source": [
    "## huggingface objects"
   ]
  },
  {
   "cell_type": "code",
   "execution_count": 10,
   "metadata": {
    "colab": {
     "base_uri": "https://localhost:8080/"
    },
    "id": "4071NSjMjZP_",
    "outputId": "c304c56e-1293-4bed-e0ef-9abcaade4fe1"
   },
   "outputs": [
    {
     "name": "stdout",
     "output_type": "stream",
     "text": [
      "arch:  <class 'str'>\n",
      "config:  <class 'transformers.models.mbart.configuration_mbart.MBartConfig'>\n",
      "tokenizer:  <class 'transformers.models.mbart.tokenization_mbart50_fast.MBart50TokenizerFast'>\n",
      "model:  <class 'transformers.models.mbart.modeling_mbart.MBartForSequenceClassification'>\n"
     ]
    }
   ],
   "source": [
    "model_name = \"facebook/mbart-large-50\"\n",
    "model_cls = AutoModelForSequenceClassification\n",
    "hf_tok_kwargs = {'src_lang': 'de_DE', 'tgt_lang': 'de_DE'}\n",
    "\n",
    "hf_arch, hf_config, hf_tokenizer, hf_model = BLURR.get_hf_objects(model_name,  \n",
    "                                                                  model_cls=model_cls,  \n",
    "                                                                  tokenizer_kwargs=hf_tok_kwargs, \n",
    "                                                                  config_kwargs={'num_labels': len(labels)})\n",
    "\n",
    "print('arch: ', type(hf_arch))\n",
    "print('config: ', type(hf_config))\n",
    "print('tokenizer: ', type(hf_tokenizer))\n",
    "print('model: ', type(hf_model))"
   ]
  },
  {
   "cell_type": "markdown",
   "metadata": {
    "id": "LS5FIbwQPOqw"
   },
   "source": [
    ":::{.callout-important}\n",
    "\n",
    "Always good to look into the config as you'll often find good defaults to use in your training and inference!\n",
    "\n",
    ":::"
   ]
  },
  {
   "cell_type": "code",
   "execution_count": 11,
   "metadata": {
    "colab": {
     "base_uri": "https://localhost:8080/"
    },
    "id": "2maoKAQ-vpRn",
    "outputId": "2b7f6d5d-3b2a-4481-eb0a-8fc4e00e9f9a"
   },
   "outputs": [
    {
     "data": {
      "text/plain": [
       "MBartConfig {\n",
       "  \"_name_or_path\": \"facebook/mbart-large-50\",\n",
       "  \"_num_labels\": 3,\n",
       "  \"activation_dropout\": 0.0,\n",
       "  \"activation_function\": \"gelu\",\n",
       "  \"add_bias_logits\": false,\n",
       "  \"add_final_layer_norm\": true,\n",
       "  \"architectures\": [\n",
       "    \"MBartForConditionalGeneration\"\n",
       "  ],\n",
       "  \"attention_dropout\": 0.0,\n",
       "  \"bos_token_id\": 0,\n",
       "  \"classif_dropout\": 0.0,\n",
       "  \"classifier_dropout\": 0.0,\n",
       "  \"d_model\": 1024,\n",
       "  \"decoder_attention_heads\": 16,\n",
       "  \"decoder_ffn_dim\": 4096,\n",
       "  \"decoder_layerdrop\": 0.0,\n",
       "  \"decoder_layers\": 12,\n",
       "  \"decoder_start_token_id\": 2,\n",
       "  \"dropout\": 0.1,\n",
       "  \"early_stopping\": true,\n",
       "  \"encoder_attention_heads\": 16,\n",
       "  \"encoder_ffn_dim\": 4096,\n",
       "  \"encoder_layerdrop\": 0.0,\n",
       "  \"encoder_layers\": 12,\n",
       "  \"eos_token_id\": 2,\n",
       "  \"forced_eos_token_id\": 2,\n",
       "  \"gradient_checkpointing\": false,\n",
       "  \"id2label\": {\n",
       "    \"0\": \"LABEL_0\",\n",
       "    \"1\": \"LABEL_1\",\n",
       "    \"2\": \"LABEL_2\",\n",
       "    \"3\": \"LABEL_3\",\n",
       "    \"4\": \"LABEL_4\"\n",
       "  },\n",
       "  \"init_std\": 0.02,\n",
       "  \"is_encoder_decoder\": true,\n",
       "  \"label2id\": {\n",
       "    \"LABEL_0\": 0,\n",
       "    \"LABEL_1\": 1,\n",
       "    \"LABEL_2\": 2,\n",
       "    \"LABEL_3\": 3,\n",
       "    \"LABEL_4\": 4\n",
       "  },\n",
       "  \"max_length\": 200,\n",
       "  \"max_position_embeddings\": 1024,\n",
       "  \"model_type\": \"mbart\",\n",
       "  \"normalize_before\": true,\n",
       "  \"normalize_embedding\": true,\n",
       "  \"num_beams\": 5,\n",
       "  \"num_hidden_layers\": 12,\n",
       "  \"output_past\": true,\n",
       "  \"pad_token_id\": 1,\n",
       "  \"scale_embedding\": true,\n",
       "  \"static_position_embeddings\": false,\n",
       "  \"tokenizer_class\": \"MBart50Tokenizer\",\n",
       "  \"transformers_version\": \"4.6.1\",\n",
       "  \"use_cache\": true,\n",
       "  \"vocab_size\": 250054\n",
       "}"
      ]
     },
     "execution_count": 11,
     "metadata": {
      "tags": []
     },
     "output_type": "execute_result"
    }
   ],
   "source": [
    "hf_config"
   ]
  },
  {
   "cell_type": "markdown",
   "metadata": {
    "id": "nLxABl16rrPy"
   },
   "source": [
    "## DataLoaders"
   ]
  },
  {
   "cell_type": "code",
   "execution_count": 12,
   "metadata": {
    "id": "vsdRD6fbmv1D"
   },
   "outputs": [],
   "source": [
    "# 3 lines!  Nice!!!\n",
    "blocks = (HF_TextBlock(hf_arch, hf_config, hf_tokenizer, hf_model, max_length=256), CategoryBlock)\n",
    "dblock = DataBlock(blocks=blocks, get_x=ColReader('review_body'), get_y=ColReader('stars'), splitter=ColSplitter())\n",
    "\n",
    "dls = dblock.dataloaders(df, bs=4)"
   ]
  },
  {
   "cell_type": "markdown",
   "metadata": {
    "id": "yTZ5kGHZPb6A"
   },
   "source": [
    ":::{.callout-important}\n",
    "\n",
    "It's almost always useful to look at the `shape` of things in your batches (esp. when debugging)\n",
    "\n",
    ":::\n",
    "\n",
    "For example, when running on a colab GPU I kept getting CUDA OOM even with a batch size of just 4.  So I looked at the input_ids and saw that they were over 1,000 tokens long in some batches.  So I adjusted the `max_length` above to ensure they weren't longer that 128 characters and voila, you have the tutorial before you now.\n",
    "\n",
    "Of course, you should run this with the biggest batch size and sequence size your GPU(s) will support."
   ]
  },
  {
   "cell_type": "code",
   "execution_count": 13,
   "metadata": {
    "colab": {
     "base_uri": "https://localhost:8080/"
    },
    "id": "HseWbia7wAN7",
    "outputId": "939e53a1-0d2a-4a47-f045-1957dc3f555c"
   },
   "outputs": [
    {
     "data": {
      "text/plain": [
       "torch.Size([4, 256])"
      ]
     },
     "execution_count": 13,
     "metadata": {
      "tags": []
     },
     "output_type": "execute_result"
    }
   ],
   "source": [
    "xb, yb = dls.one_batch()\n",
    "xb['input_ids'].shape"
   ]
  },
  {
   "cell_type": "code",
   "execution_count": 14,
   "metadata": {
    "colab": {
     "base_uri": "https://localhost:8080/",
     "height": 247
    },
    "id": "xUVtdVzwqq2P",
    "outputId": "d3c7cdef-bf65-47d7-8f93-6b09908f2fdf"
   },
   "outputs": [
    {
     "data": {
      "text/html": [
       "<table border=\"1\" class=\"dataframe\">\n",
       "  <thead>\n",
       "    <tr style=\"text-align: right;\">\n",
       "      <th></th>\n",
       "      <th>text</th>\n",
       "      <th>category</th>\n",
       "    </tr>\n",
       "  </thead>\n",
       "  <tbody>\n",
       "    <tr>\n",
       "      <th>0</th>\n",
       "      <td>Ich habe mir für mein neues Apple iPad (2018er Modell) diese Folie zugelegt. Das ausschlaggebende Kriterium hierbei war natürlich die durch den Hersteller beworbene besondere Oberflächenstruktur der Folie. Ich benutze das iPad sehr oft zusammen mit dem Apple Pen und fand die Idee, dass sich der Stift beim Schreiben wie ein Bleistift auf einem Blatt Papier anfühlt, sehr verheißungsvoll. Dementsprechend war ich natürlich sehr gespannt darauf, ob die Folie denn auch hält, was der Hersteller verspricht. Dank Amazon kam die Lieferung wie gewohnt zügig an und nach dem ersten Auspacken zeigte sich, dass der Hersteller nicht zu viel versprochen hatte. Die Oberfläche der Folie fühlte sich in der Tat an wie ein Blatt Papier und auch die ersten \"Trockenübungen\" mit dem Apple Pen fühlten sich beinahe an wie echt. Das anbringen der Folie war dann aber leider (wie bei allen Folien) eine Herausforderung. Obwohl ich mich an die Anleitung gehalten hatte und besonders auf eine staubfreie Umgebung achtete schaffte ich es nicht die erste Folie gänzlich ohne Luft- und Staubeinschlüsse auf meinem iPad anzubringen</td>\n",
       "      <td>2</td>\n",
       "    </tr>\n",
       "    <tr>\n",
       "      <th>1</th>\n",
       "      <td>Der erste Punkt das Design ist schlicht und schick. Die Uhr kann man zum Sport wie auch auf der Arbeit und in der Freizeit ohne Probleme anziehen. Das Laden der Fitnessuhr gestaltet sich ebenfalls intuitiv und schnell. Durch die USB- Schnittstelle kann die Uhr mit vorhanden Geräten geladen werden. Das waren dann auch schon die positiven Punkte der Uhr. Die Kopplung mit dem Handy funktioniert nur bedingt. Eine direkte Bluetooth Verbindung zwischen Handy und Uhr ist unmöglich. Durch die App können die Geräte zwar gekoppelt werden, diese weist aber erhebliche Fehlerstellen auf. Oft verbindet sich das Handy erst wieder mit der Uhr nach einem Neustart der Geräte. Die Uhr besitzt keinen eigenen Knopf zum An- und Ausschalten. Das automatische Aufblenden der Anzeige funktioniert ebenfalls nur bedingt und gefühlt nach dem Zufallsprinzip. Die Hilfestellungen durch Bedingungsanleitung und App bringen einen nicht wirklich weiter. Wer ausschließlich eine Uhr zum tracken der Schritte und Herzfrequenz sucht ist mit der Uhr gut aufgehoben. Zum täglichen Gebrauch als Uhrenersatz nicht zu empfehlen.</td>\n",
       "      <td>2</td>\n",
       "    </tr>\n",
       "  </tbody>\n",
       "</table>"
      ],
      "text/plain": [
       "<IPython.core.display.HTML object>"
      ]
     },
     "metadata": {
      "tags": []
     },
     "output_type": "display_data"
    }
   ],
   "source": [
    "# what does human friendly data look like?\n",
    "dls.show_batch(dataloaders=dls, max_n=2, trunc_at=1500)"
   ]
  },
  {
   "cell_type": "markdown",
   "metadata": {
    "id": "KGLGn1oHrnuc"
   },
   "source": [
    "## Training"
   ]
  },
  {
   "cell_type": "markdown",
   "metadata": {
    "id": "JJKJRP52EVRx"
   },
   "source": [
    "Print out the model so we can build a custom set of parameter groups for an MBart + Sequence Classification task"
   ]
  },
  {
   "cell_type": "code",
   "execution_count": 15,
   "metadata": {
    "id": "YLtCRHa-B9e7"
   },
   "outputs": [],
   "source": [
    "# hf_model"
   ]
  },
  {
   "cell_type": "code",
   "execution_count": 16,
   "metadata": {
    "id": "4k0_yNOqCuyx"
   },
   "outputs": [],
   "source": [
    "def mbart_splitter(m):\n",
    "  model = m.hf_model if (hasattr(m, 'hf_model')) else m\n",
    "  \n",
    "  embeds_modules = [\n",
    "    model.model.encoder.embed_positions, \n",
    "    model.model.encoder.embed_tokens,\n",
    "    model.model.decoder.embed_positions, \n",
    "    model.model.decoder.embed_tokens\n",
    "  ]\n",
    " \n",
    "  embeds = nn.Sequential(*embeds_modules)\n",
    "  groups = L(embeds, model.model.encoder, model.model.decoder, model.classification_head)\n",
    "  return groups.map(params).filter(lambda el: len(el) > 0)"
   ]
  },
  {
   "cell_type": "markdown",
   "metadata": {
    "id": "4-5fEynuEmUZ"
   },
   "source": [
    "Configure our metrics and callbacks required by `blurr`"
   ]
  },
  {
   "cell_type": "code",
   "execution_count": 17,
   "metadata": {
    "id": "TG1dCESHubkS"
   },
   "outputs": [],
   "source": [
    "# define our metrics (see the sklearn docs for more info)\n",
    "precision = Precision(average='macro')\n",
    "recall = Recall(average='macro')\n",
    "f1 = F1Score(average='macro')\n",
    "\n",
    "learn_metrics = [accuracy, precision, recall, f1]\n",
    "learn_cbs = [HF_BaseModelCallback]"
   ]
  },
  {
   "cell_type": "markdown",
   "metadata": {
    "id": "ZgGLQ8-oErmx"
   },
   "source": [
    "Configure our `Learner` and train away ..."
   ]
  },
  {
   "cell_type": "code",
   "execution_count": 18,
   "metadata": {
    "colab": {
     "base_uri": "https://localhost:8080/"
    },
    "id": "fGfs_0KKqhg3",
    "outputId": "9a9184aa-e82c-4d71-f6b5-b0f8a80e6562"
   },
   "outputs": [
    {
     "name": "stdout",
     "output_type": "stream",
     "text": [
      "4\n"
     ]
    }
   ],
   "source": [
    "# configure our Learner; 3 lines!\n",
    "model = HF_BaseModelWrapper(hf_model)\n",
    "learn = Learner(dls, model, opt_func=Adam, loss_func=CrossEntropyLossFlat(), metrics=learn_metrics, cbs=learn_cbs, splitter=mbart_splitter)\n",
    "learn.freeze()\n",
    "\n",
    "print(len(learn.opt.param_groups))"
   ]
  },
  {
   "cell_type": "code",
   "execution_count": 19,
   "metadata": {
    "colab": {
     "base_uri": "https://localhost:8080/",
     "height": 300
    },
    "id": "r12Oy4x3q257",
    "outputId": "62dcfd91-96e8-498f-abcd-9742aaad7093"
   },
   "outputs": [
    {
     "data": {
      "text/html": [],
      "text/plain": [
       "<IPython.core.display.HTML object>"
      ]
     },
     "metadata": {
      "tags": []
     },
     "output_type": "display_data"
    },
    {
     "data": {
      "text/plain": [
       "SuggestedLRs(lr_min=6.918309736647643e-07, lr_steep=0.001737800776027143)"
      ]
     },
     "execution_count": 19,
     "metadata": {
      "tags": []
     },
     "output_type": "execute_result"
    },
    {
     "data": {
      "image/png": "[encoded data removed]",
      "text/plain": [
       "<Figure size 432x288 with 1 Axes>"
      ]
     },
     "metadata": {
      "needs_background": "light",
      "tags": []
     },
     "output_type": "display_data"
    }
   ],
   "source": [
    "learn.lr_find(suggestions=True)"
   ]
  },
  {
   "cell_type": "code",
   "execution_count": 20,
   "metadata": {
    "colab": {
     "base_uri": "https://localhost:8080/",
     "height": 80
    },
    "id": "796-PYyWq22Q",
    "outputId": "b56a97cc-08a9-4a64-bc46-53137e9a89d5"
   },
   "outputs": [
    {
     "data": {
      "text/html": [
       "<table border=\"1\" class=\"dataframe\">\n",
       "  <thead>\n",
       "    <tr style=\"text-align: left;\">\n",
       "      <th>epoch</th>\n",
       "      <th>train_loss</th>\n",
       "      <th>valid_loss</th>\n",
       "      <th>accuracy</th>\n",
       "      <th>precision_score</th>\n",
       "      <th>recall_score</th>\n",
       "      <th>f1_score</th>\n",
       "      <th>time</th>\n",
       "    </tr>\n",
       "  </thead>\n",
       "  <tbody>\n",
       "    <tr>\n",
       "      <td>0</td>\n",
       "      <td>1.151728</td>\n",
       "      <td>0.951163</td>\n",
       "      <td>0.592000</td>\n",
       "      <td>0.574056</td>\n",
       "      <td>0.578043</td>\n",
       "      <td>0.575234</td>\n",
       "      <td>05:23</td>\n",
       "    </tr>\n",
       "  </tbody>\n",
       "</table>"
      ],
      "text/plain": [
       "<IPython.core.display.HTML object>"
      ]
     },
     "metadata": {
      "tags": []
     },
     "output_type": "display_data"
    }
   ],
   "source": [
    "learn.fit_one_cycle(1, lr_max=7e-5)"
   ]
  },
  {
   "cell_type": "code",
   "execution_count": 21,
   "metadata": {
    "colab": {
     "base_uri": "https://localhost:8080/",
     "height": 318
    },
    "id": "vQhBurJSq2tz",
    "outputId": "1262a101-d603-47dd-e409-961a139c9fb9"
   },
   "outputs": [
    {
     "data": {
      "text/html": [],
      "text/plain": [
       "<IPython.core.display.HTML object>"
      ]
     },
     "metadata": {
      "tags": []
     },
     "output_type": "display_data"
    },
    {
     "name": "stderr",
     "output_type": "stream",
     "text": [
      "/usr/local/lib/python3.7/dist-packages/sklearn/metrics/_classification.py:1272: UndefinedMetricWarning: Precision is ill-defined and being set to 0.0 in labels with no predicted samples. Use `zero_division` parameter to control this behavior.\n",
      "  _warn_prf(average, modifier, msg_start, len(result))\n",
      "/usr/local/lib/python3.7/dist-packages/sklearn/metrics/_classification.py:1272: UndefinedMetricWarning: Recall is ill-defined and being set to 0.0 in labels with no true samples. Use `zero_division` parameter to control this behavior.\n",
      "  _warn_prf(average, modifier, msg_start, len(result))\n"
     ]
    },
    {
     "data": {
      "text/html": [
       "<table border=\"1\" class=\"dataframe\">\n",
       "  <thead>\n",
       "    <tr style=\"text-align: right;\">\n",
       "      <th></th>\n",
       "      <th>text</th>\n",
       "      <th>category</th>\n",
       "      <th>target</th>\n",
       "    </tr>\n",
       "  </thead>\n",
       "  <tbody>\n",
       "    <tr>\n",
       "      <th>0</th>\n",
       "      <td>Die Qualität meiner neuen Hausschuhe ist, wenn ich das nach drei Tagen schon sagen kann, sehr gut. Durch den sehr weichen Stoff \"schmeicheln\" sie regelrecht den Füßen. Es lässt sich wunderbar darauf laufen und -besonders wichtig für mich- sie halten auch schön warm. Was mir nicht gefällt, und deshalb ziehe ich auch einen Stern ab, ist die hintere Umrandung des Obermaterials. Hausschuhe sind ja hinten eigentlich flach, sodass ich schön in den Schuh rein- und rausschlüpfen kann. Durch die 1 cm Kante, die wahrscheinlich deshalb eingearbeitet wurde, um mehr Halt im Schuh zu haben, macht mich beim Treppensteigen sehr unsicher. Obwohl der Schuh an sich wunderbar passt, gibt mir die hintere Kante das Gefühl, jederzeit beim Laufen aus dem Schuh zu rutschen. Und beim Treppensteigen verstärkt sich dieses Gefühl. Ein klarer Minuspunkt; obwohl das sehr subjektiv ist. Manche werden wahrscheinlich nicht verstehen, was ich damit meine. Für knapp 20 Euro habe ich jedenfalls einen tollen Gegenwert erhalten. Meine letzten Hausschuhe, für die ich hier bei Amazon seinerzeit für knapp 40 Euro bezahlt habe, sind nach drei Jahren total aus</td>\n",
       "      <td>4</td>\n",
       "      <td>3</td>\n",
       "    </tr>\n",
       "    <tr>\n",
       "      <th>1</th>\n",
       "      <td>Da ich unsere Frühstücksbrötchen gerne selber backe, habe ich mir das Baguetteblech besorgt. Das Blech ist wie abgebildet und funktioniert super. Passt genau auf ein Backblech. Reinigung ist sehr leicht, ich habe übrig gebliebene Mehl einfach mit Wasser abgewaschen. Einfetten war nicht von Nöten. Ich habe das Blech nur mit Mehl bestäubt, bevor ich die Brötchen drauf gelegt habe. Einen Stern gibt es Abzug, da bei der Lieferung bereits einige Kratzer in der Beschichtung waren. Ansonsten bin ich bisher sehr zufrieden! Nachtrag - Änderung der Punktezahl: Mittlerweile bin ich nicht mehr so von dem Backblech angetan. Der Teig bleibt immer öfter kleben und zuletzt waren die Brötchen unten sogar schwarz gefärbt. Das war nicht verbrannt sondern vom Backblech, ich weiß nicht ob sich die Beschichtung löst, oder ob das die Farbe ist. Aber das ist mit Sicherheit nicht gesund. Deswegen nur noch 2 Sterne!</td>\n",
       "      <td>2</td>\n",
       "      <td>3</td>\n",
       "    </tr>\n",
       "  </tbody>\n",
       "</table>"
      ],
      "text/plain": [
       "<IPython.core.display.HTML object>"
      ]
     },
     "metadata": {
      "tags": []
     },
     "output_type": "display_data"
    }
   ],
   "source": [
    "learn.show_results(learner=learn, max_n=2, trunc_at=1500)"
   ]
  },
  {
   "cell_type": "markdown",
   "metadata": {
    "id": "1EirUL2BE65J"
   },
   "source": [
    "We'll freeze all the layers with the exception of the decoder and classification_head layers (the last 2)"
   ]
  },
  {
   "cell_type": "code",
   "execution_count": 22,
   "metadata": {
    "id": "PnDDKM11rEtN"
   },
   "outputs": [],
   "source": [
    "learn.freeze_to(-2)"
   ]
  },
  {
   "cell_type": "code",
   "execution_count": 23,
   "metadata": {
    "colab": {
     "base_uri": "https://localhost:8080/",
     "height": 300
    },
    "id": "Lw2zqlfcY-68",
    "outputId": "7f479668-02e3-4ad3-da10-bf32fee90c79"
   },
   "outputs": [
    {
     "data": {
      "text/html": [],
      "text/plain": [
       "<IPython.core.display.HTML object>"
      ]
     },
     "metadata": {
      "tags": []
     },
     "output_type": "display_data"
    },
    {
     "data": {
      "text/plain": [
       "SuggestedLRs(lr_min=1.4454397387453355e-06, lr_steep=9.12010818865383e-07)"
      ]
     },
     "execution_count": 23,
     "metadata": {
      "tags": []
     },
     "output_type": "execute_result"
    },
    {
     "data": {
      "image/png": "[encoded data removed]",
      "text/plain": [
       "<Figure size 432x288 with 1 Axes>"
      ]
     },
     "metadata": {
      "needs_background": "light",
      "tags": []
     },
     "output_type": "display_data"
    }
   ],
   "source": [
    "learn.lr_find(suggestions=True)"
   ]
  },
  {
   "cell_type": "code",
   "execution_count": 24,
   "metadata": {
    "colab": {
     "base_uri": "https://localhost:8080/",
     "height": 142
    },
    "id": "GBSLL-pYrEqD",
    "outputId": "cc584337-81dd-48ed-a94a-fa0224723916"
   },
   "outputs": [
    {
     "data": {
      "text/html": [
       "<table border=\"1\" class=\"dataframe\">\n",
       "  <thead>\n",
       "    <tr style=\"text-align: left;\">\n",
       "      <th>epoch</th>\n",
       "      <th>train_loss</th>\n",
       "      <th>valid_loss</th>\n",
       "      <th>accuracy</th>\n",
       "      <th>precision_score</th>\n",
       "      <th>recall_score</th>\n",
       "      <th>f1_score</th>\n",
       "      <th>time</th>\n",
       "    </tr>\n",
       "  </thead>\n",
       "  <tbody>\n",
       "    <tr>\n",
       "      <td>0</td>\n",
       "      <td>1.020526</td>\n",
       "      <td>0.942416</td>\n",
       "      <td>0.612000</td>\n",
       "      <td>0.590443</td>\n",
       "      <td>0.597485</td>\n",
       "      <td>0.591900</td>\n",
       "      <td>10:13</td>\n",
       "    </tr>\n",
       "    <tr>\n",
       "      <td>1</td>\n",
       "      <td>1.020601</td>\n",
       "      <td>0.935697</td>\n",
       "      <td>0.612000</td>\n",
       "      <td>0.593317</td>\n",
       "      <td>0.598285</td>\n",
       "      <td>0.594764</td>\n",
       "      <td>10:13</td>\n",
       "    </tr>\n",
       "    <tr>\n",
       "      <td>2</td>\n",
       "      <td>1.063076</td>\n",
       "      <td>0.934123</td>\n",
       "      <td>0.616000</td>\n",
       "      <td>0.597113</td>\n",
       "      <td>0.602207</td>\n",
       "      <td>0.598684</td>\n",
       "      <td>10:13</td>\n",
       "    </tr>\n",
       "  </tbody>\n",
       "</table>"
      ],
      "text/plain": [
       "<IPython.core.display.HTML object>"
      ]
     },
     "metadata": {
      "tags": []
     },
     "output_type": "display_data"
    }
   ],
   "source": [
    "learn.fit_one_cycle(3, lr_max=slice(2e-8, 2e-7))"
   ]
  },
  {
   "cell_type": "code",
   "execution_count": 25,
   "metadata": {
    "colab": {
     "base_uri": "https://localhost:8080/",
     "height": 265
    },
    "id": "cAGVdpgbrEnb",
    "outputId": "2ca7f7ea-5fdb-47b4-d11b-71d0bb5cd422"
   },
   "outputs": [
    {
     "data": {
      "image/png": "[encoded data removed]",
      "text/plain": [
       "<Figure size 432x288 with 1 Axes>"
      ]
     },
     "metadata": {
      "needs_background": "light",
      "tags": []
     },
     "output_type": "display_data"
    }
   ],
   "source": [
    "learn.recorder.plot_loss()"
   ]
  },
  {
   "cell_type": "code",
   "execution_count": 26,
   "metadata": {
    "colab": {
     "base_uri": "https://localhost:8080/",
     "height": 301
    },
    "id": "KL1yXf_mrEf4",
    "outputId": "e8d1ffef-8b6d-47a9-fb50-cc33bd0459d1"
   },
   "outputs": [
    {
     "data": {
      "text/html": [],
      "text/plain": [
       "<IPython.core.display.HTML object>"
      ]
     },
     "metadata": {
      "tags": []
     },
     "output_type": "display_data"
    },
    {
     "name": "stderr",
     "output_type": "stream",
     "text": [
      "/usr/local/lib/python3.7/dist-packages/sklearn/metrics/_classification.py:1272: UndefinedMetricWarning: Precision is ill-defined and being set to 0.0 in labels with no predicted samples. Use `zero_division` parameter to control this behavior.\n",
      "  _warn_prf(average, modifier, msg_start, len(result))\n",
      "/usr/local/lib/python3.7/dist-packages/sklearn/metrics/_classification.py:1272: UndefinedMetricWarning: Recall is ill-defined and being set to 0.0 in labels with no true samples. Use `zero_division` parameter to control this behavior.\n",
      "  _warn_prf(average, modifier, msg_start, len(result))\n"
     ]
    },
    {
     "data": {
      "text/html": [
       "<table border=\"1\" class=\"dataframe\">\n",
       "  <thead>\n",
       "    <tr style=\"text-align: right;\">\n",
       "      <th></th>\n",
       "      <th>text</th>\n",
       "      <th>category</th>\n",
       "      <th>target</th>\n",
       "    </tr>\n",
       "  </thead>\n",
       "  <tbody>\n",
       "    <tr>\n",
       "      <th>0</th>\n",
       "      <td>Die Qualität meiner neuen Hausschuhe ist, wenn ich das nach drei Tagen schon sagen kann, sehr gut. Durch den sehr weichen Stoff \"schmeicheln\" sie regelrecht den Füßen. Es lässt sich wunderbar darauf laufen und -besonders wichtig für mich- sie halten auch schön warm. Was mir nicht gefällt, und deshalb ziehe ich auch einen Stern ab, ist die hintere Umrandung des Obermaterials. Hausschuhe sind ja hinten eigentlich flach, sodass ich schön in den Schuh rein- und rausschlüpfen kann. Durch die 1 cm Kante, die wahrscheinlich deshalb eingearbeitet wurde, um mehr Halt im Schuh zu haben, macht mich beim Treppensteigen sehr unsicher. Obwohl der Schuh an sich wunderbar passt, gibt mir die hintere Kante das Gefühl, jederzeit beim Laufen aus dem Schuh zu rutschen. Und beim Treppensteigen verstärkt sich dieses Gefühl. Ein klarer Minuspunkt; obwohl das sehr subjektiv ist. Manche werden wahrscheinlich nicht verstehen, was ich damit meine. Für knapp 20 Euro habe ich jedenfalls einen tollen Gegenwert erhalten. Meine letzten Hausschuhe, für die ich hier bei Amazon seinerzeit für knapp 40 Euro bezahlt habe, sind nach drei Jahren total aus</td>\n",
       "      <td>4</td>\n",
       "      <td>3</td>\n",
       "    </tr>\n",
       "    <tr>\n",
       "      <th>1</th>\n",
       "      <td>Die Lampe machte zunächst einen ordentlichen Eindruck. Jedoch waren einige LEDs bereits bei der Auslieferung defekt. Der daraufhin kontaktierte Lieferant ignorierte mein Anschreiben. Die dazugehörige Zeitschaltuhr hat alle paar Wochen den Dienst quittiert. Da ich nicht so häufig in den Keller gehe, in dem die Lampe bei der Überwinterung Licht spenden sollte, stellte ich dies meist - offenbar jeweils einige Tage nach dem Ausfall fest - da die Pflanzen kurz vor dem krepieren waren. Die Zeitschaltuhr ließ sich mehrmals wieder aktivieren, ist nun aber nach wenigen Monaten ganz defekt, die Lampe lässt sich nicht mehr einschalten. Die Pflanzen sind nun alle eingegangen. Ich rate dringend von dem Kauf des Artikels ab.</td>\n",
       "      <td>1</td>\n",
       "      <td>1</td>\n",
       "    </tr>\n",
       "  </tbody>\n",
       "</table>"
      ],
      "text/plain": [
       "<IPython.core.display.HTML object>"
      ]
     },
     "metadata": {
      "tags": []
     },
     "output_type": "display_data"
    }
   ],
   "source": [
    "learn.show_results(learner=learn, max_n=2, trunc_at=1500)"
   ]
  },
  {
   "cell_type": "markdown",
   "metadata": {
    "id": "qvDXWwcG8oYg"
   },
   "source": [
    "## Inference"
   ]
  },
  {
   "cell_type": "code",
   "execution_count": 27,
   "metadata": {
    "colab": {
     "base_uri": "https://localhost:8080/"
    },
    "id": "h8cxgf2ErO0o",
    "outputId": "668eb95b-0a1c-4d2e-86ac-a97867676f5f"
   },
   "outputs": [
    {
     "name": "stdout",
     "output_type": "stream",
     "text": [
      "Leider, leider nach einmal waschen ausgeblichen . Es sieht super hübsch aus , nur leider stinkt es ganz schrecklich und ein Waschgang in der Maschine ist notwendig ! Nach einem mal waschen sah es aus als wäre es 10 Jahre alt und hatte 1000 e von Waschgängen hinter sich :( echt schade !\n"
     ]
    },
    {
     "data": {
      "text/plain": [
       "[(('1',),\n",
       "  (#1) [tensor(0)],\n",
       "  (#1) [tensor([0.5725, 0.3474, 0.0716, 0.0067, 0.0018])])]"
      ]
     },
     "execution_count": 27,
     "metadata": {
      "tags": []
     },
     "output_type": "execute_result"
    }
   ],
   "source": [
    "txt = tst_df.review_body[0]\n",
    "print(txt)\n",
    "learn.blurr_predict(txt)"
   ]
  },
  {
   "cell_type": "code",
   "execution_count": 28,
   "metadata": {
    "colab": {
     "base_uri": "https://localhost:8080/"
    },
    "id": "sbICatS5rP9F",
    "outputId": "6af479e5-2bba-4606-9525-307116321cea"
   },
   "outputs": [
    {
     "name": "stdout",
     "output_type": "stream",
     "text": [
      "['zunächst macht der Anker Halter einen soliden Eindruck. Die Magnethalterung ist auch brauchbar. Was gar nicht geht ist die Tatsache, dass die Halterung für runde Lüftungsdüsen, anders als vom Hersteller beschrieben, nicht geeignet ist! Ständig fällt das Smartphone runter. Durch das häufige Wiederanbringen ist nun auch die Gummierung kaputt, was zur Folge hat, dass die Lüftungsdüse schön zerkratzt wird! Also Schrott, der auch noch mein Auto beschädigt! Für mich ist das nicht brauchbar!', 'Siegel sowie Verpackung war beschädigt und ware war gebraucht mit Verschleiß und Fingerabdrücke. Zurück geschickt und bessere qualitativere Artikel gekauft.', 'Habe dieses Produkt NIE erhalten und das Geld wurde nicht rückerstattet!!!!!!!', 'Die Träger sind schnell abgerissen', 'Druckbild ist leider nicht akzeptabel. Die kompletten seiten werden grau eingefärbt. Verkäufer antwortet nicht auf Emails. Deshalb absolut nicht empfehlenswert.', '🤬🤬🤬 Stoff löst sich nach kurzer Zeit', 'Beim zweiten Gebrauch bereits undicht!!!', 'Die Lieferung war prompt. 2 Gläser sind bereits undicht und Wasser befindet sich in den Zwischenräumen... was nun?', 'Bin überhaupt nicht zufrieden. Das Handy ist mir einmal kurz, aus minimalen Höhe ca 30cm, auf den Tisch gefallen und die Folie ist schon wieder kaputt. MfG Sonja Sax']\n"
     ]
    },
    {
     "data": {
      "text/plain": [
       "[(('2',),\n",
       "  (#1) [tensor(1)],\n",
       "  (#1) [tensor([0.1873, 0.5228, 0.2539, 0.0327, 0.0032])]),\n",
       " (('1',),\n",
       "  (#1) [tensor(0)],\n",
       "  (#1) [tensor([0.6606, 0.2255, 0.0867, 0.0233, 0.0038])]),\n",
       " (('1',),\n",
       "  (#1) [tensor(0)],\n",
       "  (#1) [tensor([9.5275e-01, 4.1451e-02, 5.0995e-03, 3.2897e-04, 3.6943e-04])]),\n",
       " (('1',),\n",
       "  (#1) [tensor(0)],\n",
       "  (#1) [tensor([0.3692, 0.2738, 0.2347, 0.0907, 0.0316])]),\n",
       " (('1',),\n",
       "  (#1) [tensor(0)],\n",
       "  (#1) [tensor([8.1323e-01, 1.5297e-01, 3.0495e-02, 2.6044e-03, 6.9975e-04])]),\n",
       " (('4',),\n",
       "  (#1) [tensor(3)],\n",
       "  (#1) [tensor([0.0447, 0.1097, 0.2021, 0.3402, 0.3033])]),\n",
       " (('1',),\n",
       "  (#1) [tensor(0)],\n",
       "  (#1) [tensor([0.6773, 0.1921, 0.0808, 0.0320, 0.0179])]),\n",
       " (('3',),\n",
       "  (#1) [tensor(2)],\n",
       "  (#1) [tensor([0.1179, 0.2596, 0.4055, 0.1970, 0.0200])]),\n",
       " (('1',),\n",
       "  (#1) [tensor(0)],\n",
       "  (#1) [tensor([0.6736, 0.2547, 0.0619, 0.0078, 0.0020])])]"
      ]
     },
     "execution_count": 28,
     "metadata": {
      "tags": []
     },
     "output_type": "execute_result"
    }
   ],
   "source": [
    "txts = list(tst_df.review_body.values[1:10])\n",
    "print(txts)\n",
    "learn.blurr_predict(txts)"
   ]
  },
  {
   "cell_type": "markdown",
   "metadata": {
    "id": "mrvjOU6Awv_w"
   },
   "source": [
    "Well that's it!  \n",
    "\n",
    "I hope this article helps your fastai, huggingface, blurr out, and hey, if I'm doing something wrong above please let me know!  I'm far from perfect :)\n",
    "\n",
    "For more information on the MBart/MBar-50 architecture, see the huggingface docs [here](https://huggingface.co/transformers/model_doc/mbart.html)."
   ]
  }
 ],
 "metadata": {
  "accelerator": "GPU",
  "colab": {
   "authorship_tag": "ABX9TyMJ42wGTGWdVSZhaEdUBXvJ",
   "collapsed_sections": [],
   "name": "Untitled5.ipynb",
   "provenance": []
  },
  "kernelspec": {
   "display_name": "Python 3",
   "name": "python3"
  },
  "language_info": {
   "name": "python"
  }
 },
 "nbformat": 4,
 "nbformat_minor": 0
}
