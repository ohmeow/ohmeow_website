{
 "cells": [
  {
   "cell_type": "raw",
   "metadata": {},
   "source": [
    "---\n",
    "aliases:\n",
    "- /fastai/fastbook/2021/05/23/ajtfb-chapter-4\n",
    "author: Wayde Gilliam\n",
    "badges: true\n",
    "branch: master\n",
    "categories:\n",
    "- fastai\n",
    "- fastbook\n",
    "date: '2021-05-23'\n",
    "description: The fourth in a weekly-ish series where I revisit the fast.ai book, \n",
    "  [\\\"Deep Learning for Coders with fastai & PyTorch\\\"](https://github.com/fastai/fastbook), and provide commentary on the bits that \n",
    "  jumped out to me chapter by chapter.  So without further adieu, let's go!\n",
    "hide_binder_badge: true\n",
    "image: images/fastbook.jpg\n",
    "output-file: 2021-05-23-ajtfb-chapter-4.html\n",
    "title: 'A Journey Through Fastbook (AJTFB) - Chapter 4: Stochastic Gradient Descent'\n",
    "toc: true\n",
    "\n",
    "---\n",
    "\n"
   ]
  },
  {
   "cell_type": "markdown",
   "metadata": {
    "id": "WfcRNESotGLU"
   },
   "source": [
    "Other posts in this series:  \n",
    "[A Journey Through Fastbook (AJTFB) - Chapter 1](2020-11-06-ajtfb-chapter-1.ipynb)  \n",
    "[A Journey Through Fastbook (AJTFB) - Chapter 2](2020-11-16-ajtfb-chapter-2.ipynb)  \n",
    "[A Journey Through Fastbook (AJTFB) - Chapter 3](2020-11-22-ajtfb-chapter-3.ipynb)  \n",
    "[A Journey Through Fastbook (AJTFB) - Chapter 5](2021-06-03-ajtfb-chapter-5.ipynb)  \n",
    "[A Journey Through Fastbook (AJTFB) - Chapter 6a](2021-06-10-ajtfb-chapter-6-multilabel.ipynb)  \n",
    "[A Journey Through Fastbook (AJTFB) - Chapter 6b](2022-02-09-ajtfb-chapter-6-regression.ipynb)  \n",
    "[A Journey Through Fastbook (AJTFB) - Chapter 7](2022-03-28-ajtfb-chapter-7.ipynb)  \n",
    "[A Journey Through Fastbook (AJTFB) - Chapter 8](2022-03-31-ajtfb-chapter-8.ipynb)    \n",
    "[A Journey Through Fastbook (AJTFB) - Chapter 9](2022-04-25-ajtfb-chapter-9.ipynb)    "
   ]
  },
  {
   "cell_type": "code",
   "execution_count": null,
   "metadata": {
    "colab": {
     "base_uri": "https://localhost:8080/"
    },
    "id": "gWxCOulE-ACJ",
    "outputId": "dc283df6-32e5-4892-edcb-caf85a9e0f7f"
   },
   "outputs": [
    {
     "name": "stdout",
     "output_type": "stream",
     "text": [
      "2.3.1\n"
     ]
    }
   ],
   "source": [
    "#| include: false\n",
    "!pip install fastai>=2.3 --upgrade\n",
    "\n",
    "import fastai\n",
    "from fastai.vision.all import *\n",
    "print(fastai.__version__ )"
   ]
  },
  {
   "cell_type": "markdown",
   "metadata": {
    "id": "Xn6OyriNApwH"
   },
   "source": [
    "---\n",
    "\n",
    "## How to visualize a grayscale image in pandas ..."
   ]
  },
  {
   "cell_type": "code",
   "execution_count": null,
   "metadata": {
    "colab": {
     "base_uri": "https://localhost:8080/",
     "height": 34
    },
    "id": "LWRBzg9Z-Lof",
    "outputId": "1409b4e2-9b5c-45dc-a376-0540bc964494"
   },
   "outputs": [
    {
     "data": {
      "text/html": [],
      "text/plain": [
       "<IPython.core.display.HTML object>"
      ]
     },
     "metadata": {
      "tags": []
     },
     "output_type": "display_data"
    },
    {
     "data": {
      "text/plain": [
       "(#3) [Path('/root/.fastai/data/mnist_sample/labels.csv'),Path('/root/.fastai/data/mnist_sample/valid'),Path('/root/.fastai/data/mnist_sample/train')]"
      ]
     },
     "execution_count": 2,
     "metadata": {
      "tags": []
     },
     "output_type": "execute_result"
    }
   ],
   "source": [
    "mnist_path = untar_data(URLs.MNIST_SAMPLE)\n",
    "mnist_path.ls()"
   ]
  },
  {
   "cell_type": "code",
   "execution_count": null,
   "metadata": {
    "colab": {
     "base_uri": "https://localhost:8080/",
     "height": 45
    },
    "id": "SNW-l1sL_l0l",
    "outputId": "3922a9d8-a6e7-4e21-d6ee-da4ed1cb2717"
   },
   "outputs": [
    {
     "data": {
      "image/png": "[encoded data removed]",
      "text/plain": [
       "<PIL.PngImagePlugin.PngImageFile image mode=L size=28x28 at 0x7FDD1EC3B190>"
      ]
     },
     "execution_count": 3,
     "metadata": {
      "tags": []
     },
     "output_type": "execute_result"
    }
   ],
   "source": [
    "sample_3 = Image.open((mnist_path/'train/3').ls().sorted()[1])\n",
    "sample_3"
   ]
  },
  {
   "cell_type": "code",
   "execution_count": null,
   "metadata": {
    "colab": {
     "base_uri": "https://localhost:8080/",
     "height": 271
    },
    "id": "oaesatM_AAiI",
    "outputId": "acbb81b3-9f1f-422f-c014-ad52d60870ef"
   },
   "outputs": [
    {
     "data": {
      "text/html": [
       "<style  type=\"text/css\" >\n",
       "#T_09cd021a_bc13_11eb_9210_0242ac1c0002row0_col0,#T_09cd021a_bc13_11eb_9210_0242ac1c0002row0_col1,#T_09cd021a_bc13_11eb_9210_0242ac1c0002row0_col2,#T_09cd021a_bc13_11eb_9210_0242ac1c0002row0_col3,#T_09cd021a_bc13_11eb_9210_0242ac1c0002row0_col4,#T_09cd021a_bc13_11eb_9210_0242ac1c0002row0_col5,#T_09cd021a_bc13_11eb_9210_0242ac1c0002row0_col6,#T_09cd021a_bc13_11eb_9210_0242ac1c0002row0_col7,#T_09cd021a_bc13_11eb_9210_0242ac1c0002row0_col8,#T_09cd021a_bc13_11eb_9210_0242ac1c0002row0_col9,#T_09cd021a_bc13_11eb_9210_0242ac1c0002row0_col10,#T_09cd021a_bc13_11eb_9210_0242ac1c0002row0_col11,#T_09cd021a_bc13_11eb_9210_0242ac1c0002row0_col12,#T_09cd021a_bc13_11eb_9210_0242ac1c0002row0_col13,#T_09cd021a_bc13_11eb_9210_0242ac1c0002row0_col14,#T_09cd021a_bc13_11eb_9210_0242ac1c0002row0_col15,#T_09cd021a_bc13_11eb_9210_0242ac1c0002row0_col16,#T_09cd021a_bc13_11eb_9210_0242ac1c0002row0_col17,#T_09cd021a_bc13_11eb_9210_0242ac1c0002row1_col0,#T_09cd021a_bc13_11eb_9210_0242ac1c0002row1_col1,#T_09cd021a_bc13_11eb_9210_0242ac1c0002row1_col2,#T_09cd021a_bc13_11eb_9210_0242ac1c0002row1_col3,#T_09cd021a_bc13_11eb_9210_0242ac1c0002row1_col4,#T_09cd021a_bc13_11eb_9210_0242ac1c0002row1_col15,#T_09cd021a_bc13_11eb_9210_0242ac1c0002row1_col16,#T_09cd021a_bc13_11eb_9210_0242ac1c0002row1_col17,#T_09cd021a_bc13_11eb_9210_0242ac1c0002row2_col0,#T_09cd021a_bc13_11eb_9210_0242ac1c0002row2_col1,#T_09cd021a_bc13_11eb_9210_0242ac1c0002row2_col2,#T_09cd021a_bc13_11eb_9210_0242ac1c0002row2_col15,#T_09cd021a_bc13_11eb_9210_0242ac1c0002row2_col16,#T_09cd021a_bc13_11eb_9210_0242ac1c0002row2_col17,#T_09cd021a_bc13_11eb_9210_0242ac1c0002row3_col0,#T_09cd021a_bc13_11eb_9210_0242ac1c0002row3_col15,#T_09cd021a_bc13_11eb_9210_0242ac1c0002row3_col16,#T_09cd021a_bc13_11eb_9210_0242ac1c0002row3_col17,#T_09cd021a_bc13_11eb_9210_0242ac1c0002row4_col0,#T_09cd021a_bc13_11eb_9210_0242ac1c0002row4_col6,#T_09cd021a_bc13_11eb_9210_0242ac1c0002row4_col7,#T_09cd021a_bc13_11eb_9210_0242ac1c0002row4_col8,#T_09cd021a_bc13_11eb_9210_0242ac1c0002row4_col9,#T_09cd021a_bc13_11eb_9210_0242ac1c0002row4_col10,#T_09cd021a_bc13_11eb_9210_0242ac1c0002row4_col15,#T_09cd021a_bc13_11eb_9210_0242ac1c0002row4_col16,#T_09cd021a_bc13_11eb_9210_0242ac1c0002row4_col17,#T_09cd021a_bc13_11eb_9210_0242ac1c0002row5_col0,#T_09cd021a_bc13_11eb_9210_0242ac1c0002row5_col5,#T_09cd021a_bc13_11eb_9210_0242ac1c0002row5_col6,#T_09cd021a_bc13_11eb_9210_0242ac1c0002row5_col7,#T_09cd021a_bc13_11eb_9210_0242ac1c0002row5_col8,#T_09cd021a_bc13_11eb_9210_0242ac1c0002row5_col9,#T_09cd021a_bc13_11eb_9210_0242ac1c0002row5_col15,#T_09cd021a_bc13_11eb_9210_0242ac1c0002row5_col16,#T_09cd021a_bc13_11eb_9210_0242ac1c0002row5_col17,#T_09cd021a_bc13_11eb_9210_0242ac1c0002row6_col0,#T_09cd021a_bc13_11eb_9210_0242ac1c0002row6_col1,#T_09cd021a_bc13_11eb_9210_0242ac1c0002row6_col2,#T_09cd021a_bc13_11eb_9210_0242ac1c0002row6_col3,#T_09cd021a_bc13_11eb_9210_0242ac1c0002row6_col4,#T_09cd021a_bc13_11eb_9210_0242ac1c0002row6_col5,#T_09cd021a_bc13_11eb_9210_0242ac1c0002row6_col6,#T_09cd021a_bc13_11eb_9210_0242ac1c0002row6_col7,#T_09cd021a_bc13_11eb_9210_0242ac1c0002row6_col8,#T_09cd021a_bc13_11eb_9210_0242ac1c0002row6_col9,#T_09cd021a_bc13_11eb_9210_0242ac1c0002row6_col14,#T_09cd021a_bc13_11eb_9210_0242ac1c0002row6_col15,#T_09cd021a_bc13_11eb_9210_0242ac1c0002row6_col16,#T_09cd021a_bc13_11eb_9210_0242ac1c0002row6_col17,#T_09cd021a_bc13_11eb_9210_0242ac1c0002row7_col0,#T_09cd021a_bc13_11eb_9210_0242ac1c0002row7_col1,#T_09cd021a_bc13_11eb_9210_0242ac1c0002row7_col2,#T_09cd021a_bc13_11eb_9210_0242ac1c0002row7_col3,#T_09cd021a_bc13_11eb_9210_0242ac1c0002row7_col4,#T_09cd021a_bc13_11eb_9210_0242ac1c0002row7_col5,#T_09cd021a_bc13_11eb_9210_0242ac1c0002row7_col6,#T_09cd021a_bc13_11eb_9210_0242ac1c0002row7_col13,#T_09cd021a_bc13_11eb_9210_0242ac1c0002row7_col14,#T_09cd021a_bc13_11eb_9210_0242ac1c0002row7_col15,#T_09cd021a_bc13_11eb_9210_0242ac1c0002row7_col16,#T_09cd021a_bc13_11eb_9210_0242ac1c0002row7_col17,#T_09cd021a_bc13_11eb_9210_0242ac1c0002row8_col0,#T_09cd021a_bc13_11eb_9210_0242ac1c0002row8_col1,#T_09cd021a_bc13_11eb_9210_0242ac1c0002row8_col2,#T_09cd021a_bc13_11eb_9210_0242ac1c0002row8_col3,#T_09cd021a_bc13_11eb_9210_0242ac1c0002row8_col4,#T_09cd021a_bc13_11eb_9210_0242ac1c0002row8_col13,#T_09cd021a_bc13_11eb_9210_0242ac1c0002row8_col14,#T_09cd021a_bc13_11eb_9210_0242ac1c0002row8_col15,#T_09cd021a_bc13_11eb_9210_0242ac1c0002row8_col16,#T_09cd021a_bc13_11eb_9210_0242ac1c0002row8_col17,#T_09cd021a_bc13_11eb_9210_0242ac1c0002row9_col0,#T_09cd021a_bc13_11eb_9210_0242ac1c0002row9_col1,#T_09cd021a_bc13_11eb_9210_0242ac1c0002row9_col2,#T_09cd021a_bc13_11eb_9210_0242ac1c0002row9_col3,#T_09cd021a_bc13_11eb_9210_0242ac1c0002row9_col4,#T_09cd021a_bc13_11eb_9210_0242ac1c0002row9_col16,#T_09cd021a_bc13_11eb_9210_0242ac1c0002row9_col17,#T_09cd021a_bc13_11eb_9210_0242ac1c0002row10_col0,#T_09cd021a_bc13_11eb_9210_0242ac1c0002row10_col1,#T_09cd021a_bc13_11eb_9210_0242ac1c0002row10_col2,#T_09cd021a_bc13_11eb_9210_0242ac1c0002row10_col3,#T_09cd021a_bc13_11eb_9210_0242ac1c0002row10_col4,#T_09cd021a_bc13_11eb_9210_0242ac1c0002row10_col5,#T_09cd021a_bc13_11eb_9210_0242ac1c0002row10_col6,#T_09cd021a_bc13_11eb_9210_0242ac1c0002row10_col17{\n",
       "            font-size:  6pt;\n",
       "            background-color:  #ffffff;\n",
       "            color:  #000000;\n",
       "        }#T_09cd021a_bc13_11eb_9210_0242ac1c0002row1_col5{\n",
       "            font-size:  6pt;\n",
       "            background-color:  #efefef;\n",
       "            color:  #000000;\n",
       "        }#T_09cd021a_bc13_11eb_9210_0242ac1c0002row1_col6,#T_09cd021a_bc13_11eb_9210_0242ac1c0002row1_col13{\n",
       "            font-size:  6pt;\n",
       "            background-color:  #7c7c7c;\n",
       "            color:  #000000;\n",
       "        }#T_09cd021a_bc13_11eb_9210_0242ac1c0002row1_col7{\n",
       "            font-size:  6pt;\n",
       "            background-color:  #4a4a4a;\n",
       "            color:  #f1f1f1;\n",
       "        }#T_09cd021a_bc13_11eb_9210_0242ac1c0002row1_col8,#T_09cd021a_bc13_11eb_9210_0242ac1c0002row1_col9,#T_09cd021a_bc13_11eb_9210_0242ac1c0002row1_col10,#T_09cd021a_bc13_11eb_9210_0242ac1c0002row2_col5,#T_09cd021a_bc13_11eb_9210_0242ac1c0002row2_col6,#T_09cd021a_bc13_11eb_9210_0242ac1c0002row2_col7,#T_09cd021a_bc13_11eb_9210_0242ac1c0002row2_col11,#T_09cd021a_bc13_11eb_9210_0242ac1c0002row2_col12,#T_09cd021a_bc13_11eb_9210_0242ac1c0002row2_col13,#T_09cd021a_bc13_11eb_9210_0242ac1c0002row3_col4,#T_09cd021a_bc13_11eb_9210_0242ac1c0002row3_col12,#T_09cd021a_bc13_11eb_9210_0242ac1c0002row3_col13,#T_09cd021a_bc13_11eb_9210_0242ac1c0002row4_col1,#T_09cd021a_bc13_11eb_9210_0242ac1c0002row4_col2,#T_09cd021a_bc13_11eb_9210_0242ac1c0002row4_col3,#T_09cd021a_bc13_11eb_9210_0242ac1c0002row4_col12,#T_09cd021a_bc13_11eb_9210_0242ac1c0002row4_col13,#T_09cd021a_bc13_11eb_9210_0242ac1c0002row5_col12,#T_09cd021a_bc13_11eb_9210_0242ac1c0002row6_col11,#T_09cd021a_bc13_11eb_9210_0242ac1c0002row9_col11,#T_09cd021a_bc13_11eb_9210_0242ac1c0002row10_col11,#T_09cd021a_bc13_11eb_9210_0242ac1c0002row10_col12,#T_09cd021a_bc13_11eb_9210_0242ac1c0002row10_col13,#T_09cd021a_bc13_11eb_9210_0242ac1c0002row10_col14,#T_09cd021a_bc13_11eb_9210_0242ac1c0002row10_col15,#T_09cd021a_bc13_11eb_9210_0242ac1c0002row10_col16{\n",
       "            font-size:  6pt;\n",
       "            background-color:  #000000;\n",
       "            color:  #f1f1f1;\n",
       "        }#T_09cd021a_bc13_11eb_9210_0242ac1c0002row1_col11{\n",
       "            font-size:  6pt;\n",
       "            background-color:  #606060;\n",
       "            color:  #f1f1f1;\n",
       "        }#T_09cd021a_bc13_11eb_9210_0242ac1c0002row1_col12{\n",
       "            font-size:  6pt;\n",
       "            background-color:  #4d4d4d;\n",
       "            color:  #f1f1f1;\n",
       "        }#T_09cd021a_bc13_11eb_9210_0242ac1c0002row1_col14{\n",
       "            font-size:  6pt;\n",
       "            background-color:  #bbbbbb;\n",
       "            color:  #000000;\n",
       "        }#T_09cd021a_bc13_11eb_9210_0242ac1c0002row2_col3{\n",
       "            font-size:  6pt;\n",
       "            background-color:  #e4e4e4;\n",
       "            color:  #000000;\n",
       "        }#T_09cd021a_bc13_11eb_9210_0242ac1c0002row2_col4,#T_09cd021a_bc13_11eb_9210_0242ac1c0002row8_col6{\n",
       "            font-size:  6pt;\n",
       "            background-color:  #6b6b6b;\n",
       "            color:  #000000;\n",
       "        }#T_09cd021a_bc13_11eb_9210_0242ac1c0002row2_col8,#T_09cd021a_bc13_11eb_9210_0242ac1c0002row2_col14,#T_09cd021a_bc13_11eb_9210_0242ac1c0002row3_col14{\n",
       "            font-size:  6pt;\n",
       "            background-color:  #171717;\n",
       "            color:  #f1f1f1;\n",
       "        }#T_09cd021a_bc13_11eb_9210_0242ac1c0002row2_col9,#T_09cd021a_bc13_11eb_9210_0242ac1c0002row3_col11{\n",
       "            font-size:  6pt;\n",
       "            background-color:  #4b4b4b;\n",
       "            color:  #f1f1f1;\n",
       "        }#T_09cd021a_bc13_11eb_9210_0242ac1c0002row2_col10,#T_09cd021a_bc13_11eb_9210_0242ac1c0002row7_col10,#T_09cd021a_bc13_11eb_9210_0242ac1c0002row8_col8,#T_09cd021a_bc13_11eb_9210_0242ac1c0002row8_col10,#T_09cd021a_bc13_11eb_9210_0242ac1c0002row9_col8,#T_09cd021a_bc13_11eb_9210_0242ac1c0002row9_col10{\n",
       "            font-size:  6pt;\n",
       "            background-color:  #010101;\n",
       "            color:  #f1f1f1;\n",
       "        }#T_09cd021a_bc13_11eb_9210_0242ac1c0002row3_col1{\n",
       "            font-size:  6pt;\n",
       "            background-color:  #272727;\n",
       "            color:  #f1f1f1;\n",
       "        }#T_09cd021a_bc13_11eb_9210_0242ac1c0002row3_col2{\n",
       "            font-size:  6pt;\n",
       "            background-color:  #0a0a0a;\n",
       "            color:  #f1f1f1;\n",
       "        }#T_09cd021a_bc13_11eb_9210_0242ac1c0002row3_col3{\n",
       "            font-size:  6pt;\n",
       "            background-color:  #050505;\n",
       "            color:  #f1f1f1;\n",
       "        }#T_09cd021a_bc13_11eb_9210_0242ac1c0002row3_col5{\n",
       "            font-size:  6pt;\n",
       "            background-color:  #333333;\n",
       "            color:  #f1f1f1;\n",
       "        }#T_09cd021a_bc13_11eb_9210_0242ac1c0002row3_col6{\n",
       "            font-size:  6pt;\n",
       "            background-color:  #e6e6e6;\n",
       "            color:  #000000;\n",
       "        }#T_09cd021a_bc13_11eb_9210_0242ac1c0002row3_col7,#T_09cd021a_bc13_11eb_9210_0242ac1c0002row3_col10{\n",
       "            font-size:  6pt;\n",
       "            background-color:  #fafafa;\n",
       "            color:  #000000;\n",
       "        }#T_09cd021a_bc13_11eb_9210_0242ac1c0002row3_col8{\n",
       "            font-size:  6pt;\n",
       "            background-color:  #fbfbfb;\n",
       "            color:  #000000;\n",
       "        }#T_09cd021a_bc13_11eb_9210_0242ac1c0002row3_col9{\n",
       "            font-size:  6pt;\n",
       "            background-color:  #fdfdfd;\n",
       "            color:  #000000;\n",
       "        }#T_09cd021a_bc13_11eb_9210_0242ac1c0002row4_col4{\n",
       "            font-size:  6pt;\n",
       "            background-color:  #1b1b1b;\n",
       "            color:  #f1f1f1;\n",
       "        }#T_09cd021a_bc13_11eb_9210_0242ac1c0002row4_col5{\n",
       "            font-size:  6pt;\n",
       "            background-color:  #e0e0e0;\n",
       "            color:  #000000;\n",
       "        }#T_09cd021a_bc13_11eb_9210_0242ac1c0002row4_col11{\n",
       "            font-size:  6pt;\n",
       "            background-color:  #4e4e4e;\n",
       "            color:  #f1f1f1;\n",
       "        }#T_09cd021a_bc13_11eb_9210_0242ac1c0002row4_col14{\n",
       "            font-size:  6pt;\n",
       "            background-color:  #767676;\n",
       "            color:  #000000;\n",
       "        }#T_09cd021a_bc13_11eb_9210_0242ac1c0002row5_col1{\n",
       "            font-size:  6pt;\n",
       "            background-color:  #fcfcfc;\n",
       "            color:  #000000;\n",
       "        }#T_09cd021a_bc13_11eb_9210_0242ac1c0002row5_col2,#T_09cd021a_bc13_11eb_9210_0242ac1c0002row5_col3{\n",
       "            font-size:  6pt;\n",
       "            background-color:  #f6f6f6;\n",
       "            color:  #000000;\n",
       "        }#T_09cd021a_bc13_11eb_9210_0242ac1c0002row5_col4,#T_09cd021a_bc13_11eb_9210_0242ac1c0002row7_col7{\n",
       "            font-size:  6pt;\n",
       "            background-color:  #f8f8f8;\n",
       "            color:  #000000;\n",
       "        }#T_09cd021a_bc13_11eb_9210_0242ac1c0002row5_col10,#T_09cd021a_bc13_11eb_9210_0242ac1c0002row10_col7{\n",
       "            font-size:  6pt;\n",
       "            background-color:  #e8e8e8;\n",
       "            color:  #000000;\n",
       "        }#T_09cd021a_bc13_11eb_9210_0242ac1c0002row5_col11{\n",
       "            font-size:  6pt;\n",
       "            background-color:  #222222;\n",
       "            color:  #f1f1f1;\n",
       "        }#T_09cd021a_bc13_11eb_9210_0242ac1c0002row5_col13,#T_09cd021a_bc13_11eb_9210_0242ac1c0002row6_col12{\n",
       "            font-size:  6pt;\n",
       "            background-color:  #090909;\n",
       "            color:  #f1f1f1;\n",
       "        }#T_09cd021a_bc13_11eb_9210_0242ac1c0002row5_col14{\n",
       "            font-size:  6pt;\n",
       "            background-color:  #d0d0d0;\n",
       "            color:  #000000;\n",
       "        }#T_09cd021a_bc13_11eb_9210_0242ac1c0002row6_col10,#T_09cd021a_bc13_11eb_9210_0242ac1c0002row7_col11,#T_09cd021a_bc13_11eb_9210_0242ac1c0002row9_col6{\n",
       "            font-size:  6pt;\n",
       "            background-color:  #060606;\n",
       "            color:  #f1f1f1;\n",
       "        }#T_09cd021a_bc13_11eb_9210_0242ac1c0002row6_col13{\n",
       "            font-size:  6pt;\n",
       "            background-color:  #979797;\n",
       "            color:  #000000;\n",
       "        }#T_09cd021a_bc13_11eb_9210_0242ac1c0002row7_col8{\n",
       "            font-size:  6pt;\n",
       "            background-color:  #b6b6b6;\n",
       "            color:  #000000;\n",
       "        }#T_09cd021a_bc13_11eb_9210_0242ac1c0002row7_col9{\n",
       "            font-size:  6pt;\n",
       "            background-color:  #252525;\n",
       "            color:  #f1f1f1;\n",
       "        }#T_09cd021a_bc13_11eb_9210_0242ac1c0002row7_col12{\n",
       "            font-size:  6pt;\n",
       "            background-color:  #999999;\n",
       "            color:  #000000;\n",
       "        }#T_09cd021a_bc13_11eb_9210_0242ac1c0002row8_col5{\n",
       "            font-size:  6pt;\n",
       "            background-color:  #f9f9f9;\n",
       "            color:  #000000;\n",
       "        }#T_09cd021a_bc13_11eb_9210_0242ac1c0002row8_col7{\n",
       "            font-size:  6pt;\n",
       "            background-color:  #101010;\n",
       "            color:  #f1f1f1;\n",
       "        }#T_09cd021a_bc13_11eb_9210_0242ac1c0002row8_col9,#T_09cd021a_bc13_11eb_9210_0242ac1c0002row9_col9{\n",
       "            font-size:  6pt;\n",
       "            background-color:  #020202;\n",
       "            color:  #f1f1f1;\n",
       "        }#T_09cd021a_bc13_11eb_9210_0242ac1c0002row8_col11{\n",
       "            font-size:  6pt;\n",
       "            background-color:  #545454;\n",
       "            color:  #f1f1f1;\n",
       "        }#T_09cd021a_bc13_11eb_9210_0242ac1c0002row8_col12{\n",
       "            font-size:  6pt;\n",
       "            background-color:  #f1f1f1;\n",
       "            color:  #000000;\n",
       "        }#T_09cd021a_bc13_11eb_9210_0242ac1c0002row9_col5{\n",
       "            font-size:  6pt;\n",
       "            background-color:  #f7f7f7;\n",
       "            color:  #000000;\n",
       "        }#T_09cd021a_bc13_11eb_9210_0242ac1c0002row9_col7{\n",
       "            font-size:  6pt;\n",
       "            background-color:  #030303;\n",
       "            color:  #f1f1f1;\n",
       "        }#T_09cd021a_bc13_11eb_9210_0242ac1c0002row9_col12{\n",
       "            font-size:  6pt;\n",
       "            background-color:  #181818;\n",
       "            color:  #f1f1f1;\n",
       "        }#T_09cd021a_bc13_11eb_9210_0242ac1c0002row9_col13{\n",
       "            font-size:  6pt;\n",
       "            background-color:  #303030;\n",
       "            color:  #f1f1f1;\n",
       "        }#T_09cd021a_bc13_11eb_9210_0242ac1c0002row9_col14{\n",
       "            font-size:  6pt;\n",
       "            background-color:  #a9a9a9;\n",
       "            color:  #000000;\n",
       "        }#T_09cd021a_bc13_11eb_9210_0242ac1c0002row9_col15{\n",
       "            font-size:  6pt;\n",
       "            background-color:  #fefefe;\n",
       "            color:  #000000;\n",
       "        }#T_09cd021a_bc13_11eb_9210_0242ac1c0002row10_col8,#T_09cd021a_bc13_11eb_9210_0242ac1c0002row10_col9{\n",
       "            font-size:  6pt;\n",
       "            background-color:  #bababa;\n",
       "            color:  #000000;\n",
       "        }#T_09cd021a_bc13_11eb_9210_0242ac1c0002row10_col10{\n",
       "            font-size:  6pt;\n",
       "            background-color:  #393939;\n",
       "            color:  #f1f1f1;\n",
       "        }</style><table id=\"T_09cd021a_bc13_11eb_9210_0242ac1c0002\" ><thead>    <tr>        <th class=\"blank level0\" ></th>        <th class=\"col_heading level0 col0\" >0</th>        <th class=\"col_heading level0 col1\" >1</th>        <th class=\"col_heading level0 col2\" >2</th>        <th class=\"col_heading level0 col3\" >3</th>        <th class=\"col_heading level0 col4\" >4</th>        <th class=\"col_heading level0 col5\" >5</th>        <th class=\"col_heading level0 col6\" >6</th>        <th class=\"col_heading level0 col7\" >7</th>        <th class=\"col_heading level0 col8\" >8</th>        <th class=\"col_heading level0 col9\" >9</th>        <th class=\"col_heading level0 col10\" >10</th>        <th class=\"col_heading level0 col11\" >11</th>        <th class=\"col_heading level0 col12\" >12</th>        <th class=\"col_heading level0 col13\" >13</th>        <th class=\"col_heading level0 col14\" >14</th>        <th class=\"col_heading level0 col15\" >15</th>        <th class=\"col_heading level0 col16\" >16</th>        <th class=\"col_heading level0 col17\" >17</th>    </tr></thead><tbody>\n",
       "                <tr>\n",
       "                        <th id=\"T_09cd021a_bc13_11eb_9210_0242ac1c0002level0_row0\" class=\"row_heading level0 row0\" >0</th>\n",
       "                        <td id=\"T_09cd021a_bc13_11eb_9210_0242ac1c0002row0_col0\" class=\"data row0 col0\" >0</td>\n",
       "                        <td id=\"T_09cd021a_bc13_11eb_9210_0242ac1c0002row0_col1\" class=\"data row0 col1\" >0</td>\n",
       "                        <td id=\"T_09cd021a_bc13_11eb_9210_0242ac1c0002row0_col2\" class=\"data row0 col2\" >0</td>\n",
       "                        <td id=\"T_09cd021a_bc13_11eb_9210_0242ac1c0002row0_col3\" class=\"data row0 col3\" >0</td>\n",
       "                        <td id=\"T_09cd021a_bc13_11eb_9210_0242ac1c0002row0_col4\" class=\"data row0 col4\" >0</td>\n",
       "                        <td id=\"T_09cd021a_bc13_11eb_9210_0242ac1c0002row0_col5\" class=\"data row0 col5\" >0</td>\n",
       "                        <td id=\"T_09cd021a_bc13_11eb_9210_0242ac1c0002row0_col6\" class=\"data row0 col6\" >0</td>\n",
       "                        <td id=\"T_09cd021a_bc13_11eb_9210_0242ac1c0002row0_col7\" class=\"data row0 col7\" >0</td>\n",
       "                        <td id=\"T_09cd021a_bc13_11eb_9210_0242ac1c0002row0_col8\" class=\"data row0 col8\" >0</td>\n",
       "                        <td id=\"T_09cd021a_bc13_11eb_9210_0242ac1c0002row0_col9\" class=\"data row0 col9\" >0</td>\n",
       "                        <td id=\"T_09cd021a_bc13_11eb_9210_0242ac1c0002row0_col10\" class=\"data row0 col10\" >0</td>\n",
       "                        <td id=\"T_09cd021a_bc13_11eb_9210_0242ac1c0002row0_col11\" class=\"data row0 col11\" >0</td>\n",
       "                        <td id=\"T_09cd021a_bc13_11eb_9210_0242ac1c0002row0_col12\" class=\"data row0 col12\" >0</td>\n",
       "                        <td id=\"T_09cd021a_bc13_11eb_9210_0242ac1c0002row0_col13\" class=\"data row0 col13\" >0</td>\n",
       "                        <td id=\"T_09cd021a_bc13_11eb_9210_0242ac1c0002row0_col14\" class=\"data row0 col14\" >0</td>\n",
       "                        <td id=\"T_09cd021a_bc13_11eb_9210_0242ac1c0002row0_col15\" class=\"data row0 col15\" >0</td>\n",
       "                        <td id=\"T_09cd021a_bc13_11eb_9210_0242ac1c0002row0_col16\" class=\"data row0 col16\" >0</td>\n",
       "                        <td id=\"T_09cd021a_bc13_11eb_9210_0242ac1c0002row0_col17\" class=\"data row0 col17\" >0</td>\n",
       "            </tr>\n",
       "            <tr>\n",
       "                        <th id=\"T_09cd021a_bc13_11eb_9210_0242ac1c0002level0_row1\" class=\"row_heading level0 row1\" >1</th>\n",
       "                        <td id=\"T_09cd021a_bc13_11eb_9210_0242ac1c0002row1_col0\" class=\"data row1 col0\" >0</td>\n",
       "                        <td id=\"T_09cd021a_bc13_11eb_9210_0242ac1c0002row1_col1\" class=\"data row1 col1\" >0</td>\n",
       "                        <td id=\"T_09cd021a_bc13_11eb_9210_0242ac1c0002row1_col2\" class=\"data row1 col2\" >0</td>\n",
       "                        <td id=\"T_09cd021a_bc13_11eb_9210_0242ac1c0002row1_col3\" class=\"data row1 col3\" >0</td>\n",
       "                        <td id=\"T_09cd021a_bc13_11eb_9210_0242ac1c0002row1_col4\" class=\"data row1 col4\" >0</td>\n",
       "                        <td id=\"T_09cd021a_bc13_11eb_9210_0242ac1c0002row1_col5\" class=\"data row1 col5\" >29</td>\n",
       "                        <td id=\"T_09cd021a_bc13_11eb_9210_0242ac1c0002row1_col6\" class=\"data row1 col6\" >150</td>\n",
       "                        <td id=\"T_09cd021a_bc13_11eb_9210_0242ac1c0002row1_col7\" class=\"data row1 col7\" >195</td>\n",
       "                        <td id=\"T_09cd021a_bc13_11eb_9210_0242ac1c0002row1_col8\" class=\"data row1 col8\" >254</td>\n",
       "                        <td id=\"T_09cd021a_bc13_11eb_9210_0242ac1c0002row1_col9\" class=\"data row1 col9\" >255</td>\n",
       "                        <td id=\"T_09cd021a_bc13_11eb_9210_0242ac1c0002row1_col10\" class=\"data row1 col10\" >254</td>\n",
       "                        <td id=\"T_09cd021a_bc13_11eb_9210_0242ac1c0002row1_col11\" class=\"data row1 col11\" >176</td>\n",
       "                        <td id=\"T_09cd021a_bc13_11eb_9210_0242ac1c0002row1_col12\" class=\"data row1 col12\" >193</td>\n",
       "                        <td id=\"T_09cd021a_bc13_11eb_9210_0242ac1c0002row1_col13\" class=\"data row1 col13\" >150</td>\n",
       "                        <td id=\"T_09cd021a_bc13_11eb_9210_0242ac1c0002row1_col14\" class=\"data row1 col14\" >96</td>\n",
       "                        <td id=\"T_09cd021a_bc13_11eb_9210_0242ac1c0002row1_col15\" class=\"data row1 col15\" >0</td>\n",
       "                        <td id=\"T_09cd021a_bc13_11eb_9210_0242ac1c0002row1_col16\" class=\"data row1 col16\" >0</td>\n",
       "                        <td id=\"T_09cd021a_bc13_11eb_9210_0242ac1c0002row1_col17\" class=\"data row1 col17\" >0</td>\n",
       "            </tr>\n",
       "            <tr>\n",
       "                        <th id=\"T_09cd021a_bc13_11eb_9210_0242ac1c0002level0_row2\" class=\"row_heading level0 row2\" >2</th>\n",
       "                        <td id=\"T_09cd021a_bc13_11eb_9210_0242ac1c0002row2_col0\" class=\"data row2 col0\" >0</td>\n",
       "                        <td id=\"T_09cd021a_bc13_11eb_9210_0242ac1c0002row2_col1\" class=\"data row2 col1\" >0</td>\n",
       "                        <td id=\"T_09cd021a_bc13_11eb_9210_0242ac1c0002row2_col2\" class=\"data row2 col2\" >0</td>\n",
       "                        <td id=\"T_09cd021a_bc13_11eb_9210_0242ac1c0002row2_col3\" class=\"data row2 col3\" >48</td>\n",
       "                        <td id=\"T_09cd021a_bc13_11eb_9210_0242ac1c0002row2_col4\" class=\"data row2 col4\" >166</td>\n",
       "                        <td id=\"T_09cd021a_bc13_11eb_9210_0242ac1c0002row2_col5\" class=\"data row2 col5\" >224</td>\n",
       "                        <td id=\"T_09cd021a_bc13_11eb_9210_0242ac1c0002row2_col6\" class=\"data row2 col6\" >253</td>\n",
       "                        <td id=\"T_09cd021a_bc13_11eb_9210_0242ac1c0002row2_col7\" class=\"data row2 col7\" >253</td>\n",
       "                        <td id=\"T_09cd021a_bc13_11eb_9210_0242ac1c0002row2_col8\" class=\"data row2 col8\" >234</td>\n",
       "                        <td id=\"T_09cd021a_bc13_11eb_9210_0242ac1c0002row2_col9\" class=\"data row2 col9\" >196</td>\n",
       "                        <td id=\"T_09cd021a_bc13_11eb_9210_0242ac1c0002row2_col10\" class=\"data row2 col10\" >253</td>\n",
       "                        <td id=\"T_09cd021a_bc13_11eb_9210_0242ac1c0002row2_col11\" class=\"data row2 col11\" >253</td>\n",
       "                        <td id=\"T_09cd021a_bc13_11eb_9210_0242ac1c0002row2_col12\" class=\"data row2 col12\" >253</td>\n",
       "                        <td id=\"T_09cd021a_bc13_11eb_9210_0242ac1c0002row2_col13\" class=\"data row2 col13\" >253</td>\n",
       "                        <td id=\"T_09cd021a_bc13_11eb_9210_0242ac1c0002row2_col14\" class=\"data row2 col14\" >233</td>\n",
       "                        <td id=\"T_09cd021a_bc13_11eb_9210_0242ac1c0002row2_col15\" class=\"data row2 col15\" >0</td>\n",
       "                        <td id=\"T_09cd021a_bc13_11eb_9210_0242ac1c0002row2_col16\" class=\"data row2 col16\" >0</td>\n",
       "                        <td id=\"T_09cd021a_bc13_11eb_9210_0242ac1c0002row2_col17\" class=\"data row2 col17\" >0</td>\n",
       "            </tr>\n",
       "            <tr>\n",
       "                        <th id=\"T_09cd021a_bc13_11eb_9210_0242ac1c0002level0_row3\" class=\"row_heading level0 row3\" >3</th>\n",
       "                        <td id=\"T_09cd021a_bc13_11eb_9210_0242ac1c0002row3_col0\" class=\"data row3 col0\" >0</td>\n",
       "                        <td id=\"T_09cd021a_bc13_11eb_9210_0242ac1c0002row3_col1\" class=\"data row3 col1\" >93</td>\n",
       "                        <td id=\"T_09cd021a_bc13_11eb_9210_0242ac1c0002row3_col2\" class=\"data row3 col2\" >244</td>\n",
       "                        <td id=\"T_09cd021a_bc13_11eb_9210_0242ac1c0002row3_col3\" class=\"data row3 col3\" >249</td>\n",
       "                        <td id=\"T_09cd021a_bc13_11eb_9210_0242ac1c0002row3_col4\" class=\"data row3 col4\" >253</td>\n",
       "                        <td id=\"T_09cd021a_bc13_11eb_9210_0242ac1c0002row3_col5\" class=\"data row3 col5\" >187</td>\n",
       "                        <td id=\"T_09cd021a_bc13_11eb_9210_0242ac1c0002row3_col6\" class=\"data row3 col6\" >46</td>\n",
       "                        <td id=\"T_09cd021a_bc13_11eb_9210_0242ac1c0002row3_col7\" class=\"data row3 col7\" >10</td>\n",
       "                        <td id=\"T_09cd021a_bc13_11eb_9210_0242ac1c0002row3_col8\" class=\"data row3 col8\" >8</td>\n",
       "                        <td id=\"T_09cd021a_bc13_11eb_9210_0242ac1c0002row3_col9\" class=\"data row3 col9\" >4</td>\n",
       "                        <td id=\"T_09cd021a_bc13_11eb_9210_0242ac1c0002row3_col10\" class=\"data row3 col10\" >10</td>\n",
       "                        <td id=\"T_09cd021a_bc13_11eb_9210_0242ac1c0002row3_col11\" class=\"data row3 col11\" >194</td>\n",
       "                        <td id=\"T_09cd021a_bc13_11eb_9210_0242ac1c0002row3_col12\" class=\"data row3 col12\" >253</td>\n",
       "                        <td id=\"T_09cd021a_bc13_11eb_9210_0242ac1c0002row3_col13\" class=\"data row3 col13\" >253</td>\n",
       "                        <td id=\"T_09cd021a_bc13_11eb_9210_0242ac1c0002row3_col14\" class=\"data row3 col14\" >233</td>\n",
       "                        <td id=\"T_09cd021a_bc13_11eb_9210_0242ac1c0002row3_col15\" class=\"data row3 col15\" >0</td>\n",
       "                        <td id=\"T_09cd021a_bc13_11eb_9210_0242ac1c0002row3_col16\" class=\"data row3 col16\" >0</td>\n",
       "                        <td id=\"T_09cd021a_bc13_11eb_9210_0242ac1c0002row3_col17\" class=\"data row3 col17\" >0</td>\n",
       "            </tr>\n",
       "            <tr>\n",
       "                        <th id=\"T_09cd021a_bc13_11eb_9210_0242ac1c0002level0_row4\" class=\"row_heading level0 row4\" >4</th>\n",
       "                        <td id=\"T_09cd021a_bc13_11eb_9210_0242ac1c0002row4_col0\" class=\"data row4 col0\" >0</td>\n",
       "                        <td id=\"T_09cd021a_bc13_11eb_9210_0242ac1c0002row4_col1\" class=\"data row4 col1\" >107</td>\n",
       "                        <td id=\"T_09cd021a_bc13_11eb_9210_0242ac1c0002row4_col2\" class=\"data row4 col2\" >253</td>\n",
       "                        <td id=\"T_09cd021a_bc13_11eb_9210_0242ac1c0002row4_col3\" class=\"data row4 col3\" >253</td>\n",
       "                        <td id=\"T_09cd021a_bc13_11eb_9210_0242ac1c0002row4_col4\" class=\"data row4 col4\" >230</td>\n",
       "                        <td id=\"T_09cd021a_bc13_11eb_9210_0242ac1c0002row4_col5\" class=\"data row4 col5\" >48</td>\n",
       "                        <td id=\"T_09cd021a_bc13_11eb_9210_0242ac1c0002row4_col6\" class=\"data row4 col6\" >0</td>\n",
       "                        <td id=\"T_09cd021a_bc13_11eb_9210_0242ac1c0002row4_col7\" class=\"data row4 col7\" >0</td>\n",
       "                        <td id=\"T_09cd021a_bc13_11eb_9210_0242ac1c0002row4_col8\" class=\"data row4 col8\" >0</td>\n",
       "                        <td id=\"T_09cd021a_bc13_11eb_9210_0242ac1c0002row4_col9\" class=\"data row4 col9\" >0</td>\n",
       "                        <td id=\"T_09cd021a_bc13_11eb_9210_0242ac1c0002row4_col10\" class=\"data row4 col10\" >0</td>\n",
       "                        <td id=\"T_09cd021a_bc13_11eb_9210_0242ac1c0002row4_col11\" class=\"data row4 col11\" >192</td>\n",
       "                        <td id=\"T_09cd021a_bc13_11eb_9210_0242ac1c0002row4_col12\" class=\"data row4 col12\" >253</td>\n",
       "                        <td id=\"T_09cd021a_bc13_11eb_9210_0242ac1c0002row4_col13\" class=\"data row4 col13\" >253</td>\n",
       "                        <td id=\"T_09cd021a_bc13_11eb_9210_0242ac1c0002row4_col14\" class=\"data row4 col14\" >156</td>\n",
       "                        <td id=\"T_09cd021a_bc13_11eb_9210_0242ac1c0002row4_col15\" class=\"data row4 col15\" >0</td>\n",
       "                        <td id=\"T_09cd021a_bc13_11eb_9210_0242ac1c0002row4_col16\" class=\"data row4 col16\" >0</td>\n",
       "                        <td id=\"T_09cd021a_bc13_11eb_9210_0242ac1c0002row4_col17\" class=\"data row4 col17\" >0</td>\n",
       "            </tr>\n",
       "            <tr>\n",
       "                        <th id=\"T_09cd021a_bc13_11eb_9210_0242ac1c0002level0_row5\" class=\"row_heading level0 row5\" >5</th>\n",
       "                        <td id=\"T_09cd021a_bc13_11eb_9210_0242ac1c0002row5_col0\" class=\"data row5 col0\" >0</td>\n",
       "                        <td id=\"T_09cd021a_bc13_11eb_9210_0242ac1c0002row5_col1\" class=\"data row5 col1\" >3</td>\n",
       "                        <td id=\"T_09cd021a_bc13_11eb_9210_0242ac1c0002row5_col2\" class=\"data row5 col2\" >20</td>\n",
       "                        <td id=\"T_09cd021a_bc13_11eb_9210_0242ac1c0002row5_col3\" class=\"data row5 col3\" >20</td>\n",
       "                        <td id=\"T_09cd021a_bc13_11eb_9210_0242ac1c0002row5_col4\" class=\"data row5 col4\" >15</td>\n",
       "                        <td id=\"T_09cd021a_bc13_11eb_9210_0242ac1c0002row5_col5\" class=\"data row5 col5\" >0</td>\n",
       "                        <td id=\"T_09cd021a_bc13_11eb_9210_0242ac1c0002row5_col6\" class=\"data row5 col6\" >0</td>\n",
       "                        <td id=\"T_09cd021a_bc13_11eb_9210_0242ac1c0002row5_col7\" class=\"data row5 col7\" >0</td>\n",
       "                        <td id=\"T_09cd021a_bc13_11eb_9210_0242ac1c0002row5_col8\" class=\"data row5 col8\" >0</td>\n",
       "                        <td id=\"T_09cd021a_bc13_11eb_9210_0242ac1c0002row5_col9\" class=\"data row5 col9\" >0</td>\n",
       "                        <td id=\"T_09cd021a_bc13_11eb_9210_0242ac1c0002row5_col10\" class=\"data row5 col10\" >43</td>\n",
       "                        <td id=\"T_09cd021a_bc13_11eb_9210_0242ac1c0002row5_col11\" class=\"data row5 col11\" >224</td>\n",
       "                        <td id=\"T_09cd021a_bc13_11eb_9210_0242ac1c0002row5_col12\" class=\"data row5 col12\" >253</td>\n",
       "                        <td id=\"T_09cd021a_bc13_11eb_9210_0242ac1c0002row5_col13\" class=\"data row5 col13\" >245</td>\n",
       "                        <td id=\"T_09cd021a_bc13_11eb_9210_0242ac1c0002row5_col14\" class=\"data row5 col14\" >74</td>\n",
       "                        <td id=\"T_09cd021a_bc13_11eb_9210_0242ac1c0002row5_col15\" class=\"data row5 col15\" >0</td>\n",
       "                        <td id=\"T_09cd021a_bc13_11eb_9210_0242ac1c0002row5_col16\" class=\"data row5 col16\" >0</td>\n",
       "                        <td id=\"T_09cd021a_bc13_11eb_9210_0242ac1c0002row5_col17\" class=\"data row5 col17\" >0</td>\n",
       "            </tr>\n",
       "            <tr>\n",
       "                        <th id=\"T_09cd021a_bc13_11eb_9210_0242ac1c0002level0_row6\" class=\"row_heading level0 row6\" >6</th>\n",
       "                        <td id=\"T_09cd021a_bc13_11eb_9210_0242ac1c0002row6_col0\" class=\"data row6 col0\" >0</td>\n",
       "                        <td id=\"T_09cd021a_bc13_11eb_9210_0242ac1c0002row6_col1\" class=\"data row6 col1\" >0</td>\n",
       "                        <td id=\"T_09cd021a_bc13_11eb_9210_0242ac1c0002row6_col2\" class=\"data row6 col2\" >0</td>\n",
       "                        <td id=\"T_09cd021a_bc13_11eb_9210_0242ac1c0002row6_col3\" class=\"data row6 col3\" >0</td>\n",
       "                        <td id=\"T_09cd021a_bc13_11eb_9210_0242ac1c0002row6_col4\" class=\"data row6 col4\" >0</td>\n",
       "                        <td id=\"T_09cd021a_bc13_11eb_9210_0242ac1c0002row6_col5\" class=\"data row6 col5\" >0</td>\n",
       "                        <td id=\"T_09cd021a_bc13_11eb_9210_0242ac1c0002row6_col6\" class=\"data row6 col6\" >0</td>\n",
       "                        <td id=\"T_09cd021a_bc13_11eb_9210_0242ac1c0002row6_col7\" class=\"data row6 col7\" >0</td>\n",
       "                        <td id=\"T_09cd021a_bc13_11eb_9210_0242ac1c0002row6_col8\" class=\"data row6 col8\" >0</td>\n",
       "                        <td id=\"T_09cd021a_bc13_11eb_9210_0242ac1c0002row6_col9\" class=\"data row6 col9\" >0</td>\n",
       "                        <td id=\"T_09cd021a_bc13_11eb_9210_0242ac1c0002row6_col10\" class=\"data row6 col10\" >249</td>\n",
       "                        <td id=\"T_09cd021a_bc13_11eb_9210_0242ac1c0002row6_col11\" class=\"data row6 col11\" >253</td>\n",
       "                        <td id=\"T_09cd021a_bc13_11eb_9210_0242ac1c0002row6_col12\" class=\"data row6 col12\" >245</td>\n",
       "                        <td id=\"T_09cd021a_bc13_11eb_9210_0242ac1c0002row6_col13\" class=\"data row6 col13\" >126</td>\n",
       "                        <td id=\"T_09cd021a_bc13_11eb_9210_0242ac1c0002row6_col14\" class=\"data row6 col14\" >0</td>\n",
       "                        <td id=\"T_09cd021a_bc13_11eb_9210_0242ac1c0002row6_col15\" class=\"data row6 col15\" >0</td>\n",
       "                        <td id=\"T_09cd021a_bc13_11eb_9210_0242ac1c0002row6_col16\" class=\"data row6 col16\" >0</td>\n",
       "                        <td id=\"T_09cd021a_bc13_11eb_9210_0242ac1c0002row6_col17\" class=\"data row6 col17\" >0</td>\n",
       "            </tr>\n",
       "            <tr>\n",
       "                        <th id=\"T_09cd021a_bc13_11eb_9210_0242ac1c0002level0_row7\" class=\"row_heading level0 row7\" >7</th>\n",
       "                        <td id=\"T_09cd021a_bc13_11eb_9210_0242ac1c0002row7_col0\" class=\"data row7 col0\" >0</td>\n",
       "                        <td id=\"T_09cd021a_bc13_11eb_9210_0242ac1c0002row7_col1\" class=\"data row7 col1\" >0</td>\n",
       "                        <td id=\"T_09cd021a_bc13_11eb_9210_0242ac1c0002row7_col2\" class=\"data row7 col2\" >0</td>\n",
       "                        <td id=\"T_09cd021a_bc13_11eb_9210_0242ac1c0002row7_col3\" class=\"data row7 col3\" >0</td>\n",
       "                        <td id=\"T_09cd021a_bc13_11eb_9210_0242ac1c0002row7_col4\" class=\"data row7 col4\" >0</td>\n",
       "                        <td id=\"T_09cd021a_bc13_11eb_9210_0242ac1c0002row7_col5\" class=\"data row7 col5\" >0</td>\n",
       "                        <td id=\"T_09cd021a_bc13_11eb_9210_0242ac1c0002row7_col6\" class=\"data row7 col6\" >0</td>\n",
       "                        <td id=\"T_09cd021a_bc13_11eb_9210_0242ac1c0002row7_col7\" class=\"data row7 col7\" >14</td>\n",
       "                        <td id=\"T_09cd021a_bc13_11eb_9210_0242ac1c0002row7_col8\" class=\"data row7 col8\" >101</td>\n",
       "                        <td id=\"T_09cd021a_bc13_11eb_9210_0242ac1c0002row7_col9\" class=\"data row7 col9\" >223</td>\n",
       "                        <td id=\"T_09cd021a_bc13_11eb_9210_0242ac1c0002row7_col10\" class=\"data row7 col10\" >253</td>\n",
       "                        <td id=\"T_09cd021a_bc13_11eb_9210_0242ac1c0002row7_col11\" class=\"data row7 col11\" >248</td>\n",
       "                        <td id=\"T_09cd021a_bc13_11eb_9210_0242ac1c0002row7_col12\" class=\"data row7 col12\" >124</td>\n",
       "                        <td id=\"T_09cd021a_bc13_11eb_9210_0242ac1c0002row7_col13\" class=\"data row7 col13\" >0</td>\n",
       "                        <td id=\"T_09cd021a_bc13_11eb_9210_0242ac1c0002row7_col14\" class=\"data row7 col14\" >0</td>\n",
       "                        <td id=\"T_09cd021a_bc13_11eb_9210_0242ac1c0002row7_col15\" class=\"data row7 col15\" >0</td>\n",
       "                        <td id=\"T_09cd021a_bc13_11eb_9210_0242ac1c0002row7_col16\" class=\"data row7 col16\" >0</td>\n",
       "                        <td id=\"T_09cd021a_bc13_11eb_9210_0242ac1c0002row7_col17\" class=\"data row7 col17\" >0</td>\n",
       "            </tr>\n",
       "            <tr>\n",
       "                        <th id=\"T_09cd021a_bc13_11eb_9210_0242ac1c0002level0_row8\" class=\"row_heading level0 row8\" >8</th>\n",
       "                        <td id=\"T_09cd021a_bc13_11eb_9210_0242ac1c0002row8_col0\" class=\"data row8 col0\" >0</td>\n",
       "                        <td id=\"T_09cd021a_bc13_11eb_9210_0242ac1c0002row8_col1\" class=\"data row8 col1\" >0</td>\n",
       "                        <td id=\"T_09cd021a_bc13_11eb_9210_0242ac1c0002row8_col2\" class=\"data row8 col2\" >0</td>\n",
       "                        <td id=\"T_09cd021a_bc13_11eb_9210_0242ac1c0002row8_col3\" class=\"data row8 col3\" >0</td>\n",
       "                        <td id=\"T_09cd021a_bc13_11eb_9210_0242ac1c0002row8_col4\" class=\"data row8 col4\" >0</td>\n",
       "                        <td id=\"T_09cd021a_bc13_11eb_9210_0242ac1c0002row8_col5\" class=\"data row8 col5\" >11</td>\n",
       "                        <td id=\"T_09cd021a_bc13_11eb_9210_0242ac1c0002row8_col6\" class=\"data row8 col6\" >166</td>\n",
       "                        <td id=\"T_09cd021a_bc13_11eb_9210_0242ac1c0002row8_col7\" class=\"data row8 col7\" >239</td>\n",
       "                        <td id=\"T_09cd021a_bc13_11eb_9210_0242ac1c0002row8_col8\" class=\"data row8 col8\" >253</td>\n",
       "                        <td id=\"T_09cd021a_bc13_11eb_9210_0242ac1c0002row8_col9\" class=\"data row8 col9\" >253</td>\n",
       "                        <td id=\"T_09cd021a_bc13_11eb_9210_0242ac1c0002row8_col10\" class=\"data row8 col10\" >253</td>\n",
       "                        <td id=\"T_09cd021a_bc13_11eb_9210_0242ac1c0002row8_col11\" class=\"data row8 col11\" >187</td>\n",
       "                        <td id=\"T_09cd021a_bc13_11eb_9210_0242ac1c0002row8_col12\" class=\"data row8 col12\" >30</td>\n",
       "                        <td id=\"T_09cd021a_bc13_11eb_9210_0242ac1c0002row8_col13\" class=\"data row8 col13\" >0</td>\n",
       "                        <td id=\"T_09cd021a_bc13_11eb_9210_0242ac1c0002row8_col14\" class=\"data row8 col14\" >0</td>\n",
       "                        <td id=\"T_09cd021a_bc13_11eb_9210_0242ac1c0002row8_col15\" class=\"data row8 col15\" >0</td>\n",
       "                        <td id=\"T_09cd021a_bc13_11eb_9210_0242ac1c0002row8_col16\" class=\"data row8 col16\" >0</td>\n",
       "                        <td id=\"T_09cd021a_bc13_11eb_9210_0242ac1c0002row8_col17\" class=\"data row8 col17\" >0</td>\n",
       "            </tr>\n",
       "            <tr>\n",
       "                        <th id=\"T_09cd021a_bc13_11eb_9210_0242ac1c0002level0_row9\" class=\"row_heading level0 row9\" >9</th>\n",
       "                        <td id=\"T_09cd021a_bc13_11eb_9210_0242ac1c0002row9_col0\" class=\"data row9 col0\" >0</td>\n",
       "                        <td id=\"T_09cd021a_bc13_11eb_9210_0242ac1c0002row9_col1\" class=\"data row9 col1\" >0</td>\n",
       "                        <td id=\"T_09cd021a_bc13_11eb_9210_0242ac1c0002row9_col2\" class=\"data row9 col2\" >0</td>\n",
       "                        <td id=\"T_09cd021a_bc13_11eb_9210_0242ac1c0002row9_col3\" class=\"data row9 col3\" >0</td>\n",
       "                        <td id=\"T_09cd021a_bc13_11eb_9210_0242ac1c0002row9_col4\" class=\"data row9 col4\" >0</td>\n",
       "                        <td id=\"T_09cd021a_bc13_11eb_9210_0242ac1c0002row9_col5\" class=\"data row9 col5\" >16</td>\n",
       "                        <td id=\"T_09cd021a_bc13_11eb_9210_0242ac1c0002row9_col6\" class=\"data row9 col6\" >248</td>\n",
       "                        <td id=\"T_09cd021a_bc13_11eb_9210_0242ac1c0002row9_col7\" class=\"data row9 col7\" >250</td>\n",
       "                        <td id=\"T_09cd021a_bc13_11eb_9210_0242ac1c0002row9_col8\" class=\"data row9 col8\" >253</td>\n",
       "                        <td id=\"T_09cd021a_bc13_11eb_9210_0242ac1c0002row9_col9\" class=\"data row9 col9\" >253</td>\n",
       "                        <td id=\"T_09cd021a_bc13_11eb_9210_0242ac1c0002row9_col10\" class=\"data row9 col10\" >253</td>\n",
       "                        <td id=\"T_09cd021a_bc13_11eb_9210_0242ac1c0002row9_col11\" class=\"data row9 col11\" >253</td>\n",
       "                        <td id=\"T_09cd021a_bc13_11eb_9210_0242ac1c0002row9_col12\" class=\"data row9 col12\" >232</td>\n",
       "                        <td id=\"T_09cd021a_bc13_11eb_9210_0242ac1c0002row9_col13\" class=\"data row9 col13\" >213</td>\n",
       "                        <td id=\"T_09cd021a_bc13_11eb_9210_0242ac1c0002row9_col14\" class=\"data row9 col14\" >111</td>\n",
       "                        <td id=\"T_09cd021a_bc13_11eb_9210_0242ac1c0002row9_col15\" class=\"data row9 col15\" >2</td>\n",
       "                        <td id=\"T_09cd021a_bc13_11eb_9210_0242ac1c0002row9_col16\" class=\"data row9 col16\" >0</td>\n",
       "                        <td id=\"T_09cd021a_bc13_11eb_9210_0242ac1c0002row9_col17\" class=\"data row9 col17\" >0</td>\n",
       "            </tr>\n",
       "            <tr>\n",
       "                        <th id=\"T_09cd021a_bc13_11eb_9210_0242ac1c0002level0_row10\" class=\"row_heading level0 row10\" >10</th>\n",
       "                        <td id=\"T_09cd021a_bc13_11eb_9210_0242ac1c0002row10_col0\" class=\"data row10 col0\" >0</td>\n",
       "                        <td id=\"T_09cd021a_bc13_11eb_9210_0242ac1c0002row10_col1\" class=\"data row10 col1\" >0</td>\n",
       "                        <td id=\"T_09cd021a_bc13_11eb_9210_0242ac1c0002row10_col2\" class=\"data row10 col2\" >0</td>\n",
       "                        <td id=\"T_09cd021a_bc13_11eb_9210_0242ac1c0002row10_col3\" class=\"data row10 col3\" >0</td>\n",
       "                        <td id=\"T_09cd021a_bc13_11eb_9210_0242ac1c0002row10_col4\" class=\"data row10 col4\" >0</td>\n",
       "                        <td id=\"T_09cd021a_bc13_11eb_9210_0242ac1c0002row10_col5\" class=\"data row10 col5\" >0</td>\n",
       "                        <td id=\"T_09cd021a_bc13_11eb_9210_0242ac1c0002row10_col6\" class=\"data row10 col6\" >0</td>\n",
       "                        <td id=\"T_09cd021a_bc13_11eb_9210_0242ac1c0002row10_col7\" class=\"data row10 col7\" >43</td>\n",
       "                        <td id=\"T_09cd021a_bc13_11eb_9210_0242ac1c0002row10_col8\" class=\"data row10 col8\" >98</td>\n",
       "                        <td id=\"T_09cd021a_bc13_11eb_9210_0242ac1c0002row10_col9\" class=\"data row10 col9\" >98</td>\n",
       "                        <td id=\"T_09cd021a_bc13_11eb_9210_0242ac1c0002row10_col10\" class=\"data row10 col10\" >208</td>\n",
       "                        <td id=\"T_09cd021a_bc13_11eb_9210_0242ac1c0002row10_col11\" class=\"data row10 col11\" >253</td>\n",
       "                        <td id=\"T_09cd021a_bc13_11eb_9210_0242ac1c0002row10_col12\" class=\"data row10 col12\" >253</td>\n",
       "                        <td id=\"T_09cd021a_bc13_11eb_9210_0242ac1c0002row10_col13\" class=\"data row10 col13\" >253</td>\n",
       "                        <td id=\"T_09cd021a_bc13_11eb_9210_0242ac1c0002row10_col14\" class=\"data row10 col14\" >253</td>\n",
       "                        <td id=\"T_09cd021a_bc13_11eb_9210_0242ac1c0002row10_col15\" class=\"data row10 col15\" >187</td>\n",
       "                        <td id=\"T_09cd021a_bc13_11eb_9210_0242ac1c0002row10_col16\" class=\"data row10 col16\" >22</td>\n",
       "                        <td id=\"T_09cd021a_bc13_11eb_9210_0242ac1c0002row10_col17\" class=\"data row10 col17\" >0</td>\n",
       "            </tr>\n",
       "    </tbody></table>"
      ],
      "text/plain": [
       "<pandas.io.formats.style.Styler at 0x7fdc9b1d9910>"
      ]
     },
     "execution_count": 4,
     "metadata": {
      "tags": []
     },
     "output_type": "execute_result"
    }
   ],
   "source": [
    "sample_3_t = tensor(sample_3)\n",
    "df = pd.DataFrame(sample_3_t[4:15, 4:22])\n",
    "df.style.set_properties(**{'font-size':'6pt'}).background_gradient('Greys')"
   ]
  },
  {
   "cell_type": "markdown",
   "metadata": {
    "id": "yoBHs0wwbqG6"
   },
   "source": [
    "---\n",
    "\n",
    "## What is a baseline model and why do you want one?\n",
    "\n",
    "> A simple model that you are confident should perform reasonably well. It should be\n",
    "> simple to implement and easy to test\n",
    "\n",
    "**Why do you want to start with a baseline model?**\n",
    "> ... without starting with a sensible baseline, it is difficult to know whether your super-fancy models are any good\n",
    "\n",
    "**How do you build/find one of these models?**\n",
    "\n",
    "You can search online for folks that have trained models to solve a problem similar to your's and/or you can start with one of the high-level examples in the fastai docs against your data.  There are a bunch covering core vision, text, tabuluar and colab filtering tasks right [here](https://docs.fast.ai/tutorial.html).\n",
    "\n"
   ]
  },
  {
   "cell_type": "markdown",
   "metadata": {
    "id": "3x904qZCHHcb"
   },
   "source": [
    "---\n",
    "\n",
    "## Tensors\n",
    "\n",
    "**What is a \"Tensor\"?**\n",
    "\n",
    "Like a numpy array, but with GPU support.  The data it contains must be of the ***same type*** and must conform in ***rectangular shape***.\n",
    "\n",
    ":::{.callout-important}\n",
    "\n",
    "\"try to avoid as much as possible writing loops, and replace them by commands that work directly on arrays or tensors\"\n",
    "\n",
    ":::\n",
    "\n",
    "\n",
    "Let's take a look .."
   ]
  },
  {
   "cell_type": "code",
   "execution_count": null,
   "metadata": {
    "colab": {
     "base_uri": "https://localhost:8080/"
    },
    "id": "4So8iq5hAd7u",
    "outputId": "dabab129-c5de-4d68-8e0e-410fe5beada3"
   },
   "outputs": [
    {
     "data": {
      "text/plain": [
       "(6131, Path('/root/.fastai/data/mnist_sample/train/3/10.png'))"
      ]
     },
     "execution_count": 5,
     "metadata": {
      "tags": []
     },
     "output_type": "execute_result"
    }
   ],
   "source": [
    "threes = (mnist_path/'train/3').ls().sorted()\n",
    "len(threes), threes[0]"
   ]
  },
  {
   "cell_type": "code",
   "execution_count": null,
   "metadata": {
    "colab": {
     "base_uri": "https://localhost:8080/"
    },
    "id": "LNHfEYsHBpSF",
    "outputId": "348eec91-90d7-41d9-b8d8-690f31d8932b"
   },
   "outputs": [
    {
     "data": {
      "text/plain": [
       "(6131, torch.Size([28, 28]))"
      ]
     },
     "execution_count": 6,
     "metadata": {
      "tags": []
     },
     "output_type": "execute_result"
    }
   ],
   "source": [
    "all_threes = [ tensor(Image.open(fp)) for fp in threes ]\n",
    "len(all_threes), all_threes[0].shape"
   ]
  },
  {
   "cell_type": "code",
   "execution_count": null,
   "metadata": {
    "colab": {
     "base_uri": "https://localhost:8080/"
    },
    "id": "df-v9cdXBpOE",
    "outputId": "a9d31cfe-372d-44a8-e636-5182bf17b860"
   },
   "outputs": [
    {
     "data": {
      "text/plain": [
       "torch.Size([6131, 28, 28])"
      ]
     },
     "execution_count": 7,
     "metadata": {
      "tags": []
     },
     "output_type": "execute_result"
    }
   ],
   "source": [
    "stacked_threes = torch.stack(all_threes).float()/255\n",
    "stacked_threes.shape"
   ]
  },
  {
   "cell_type": "markdown",
   "metadata": {
    "id": "yDvJ0vpCC01_"
   },
   "source": [
    "Important information about tensors include its `shape`, `rank`, and `type`:"
   ]
  },
  {
   "cell_type": "code",
   "execution_count": null,
   "metadata": {
    "colab": {
     "base_uri": "https://localhost:8080/"
    },
    "id": "YcbS_oJBCsiJ",
    "outputId": "7dd41606-9def-4baa-c38d-07a060860728"
   },
   "outputs": [
    {
     "name": "stdout",
     "output_type": "stream",
     "text": [
      "shape:  torch.Size([6131, 28, 28])\n",
      "rank:  3\n",
      "type:  torch.float32\n"
     ]
    }
   ],
   "source": [
    "# shape = the length of each axis\n",
    "print('shape: ', stacked_threes.shape)\n",
    "\n",
    "# rank = the total number of axes\n",
    "print('rank: ', stacked_threes.ndim)\n",
    "\n",
    "# type = the datatype of its contents\n",
    "print('type: ', stacked_threes.dtype)"
   ]
  },
  {
   "cell_type": "markdown",
   "metadata": {
    "id": "mIRCwDYHejmx"
   },
   "source": [
    "Important things you can do to a tensor, `view`, `@`, `where`"
   ]
  },
  {
   "cell_type": "code",
   "execution_count": null,
   "metadata": {
    "colab": {
     "base_uri": "https://localhost:8080/"
    },
    "id": "LB7N7Ewqeodl",
    "outputId": "23294969-8b8e-4c89-86b0-3ff0ac3f58db"
   },
   "outputs": [
    {
     "name": "stdout",
     "output_type": "stream",
     "text": [
      "orig. shape:  torch.Size([6131, 28, 28])\n",
      "make into a rank 2 tensor torch.Size([6131, 784])\n",
      "result of matrix multiplication:  torch.Size([6131, 28, 28])\n",
      "output of where:  tensor(0.4333)\n"
     ]
    }
   ],
   "source": [
    "# view = change the shape of a tensor without changing its contents\n",
    "stacked_threes_rank_2 = stacked_threes.view(-1, 28*28)\n",
    "print('orig. shape: ', stacked_threes.shape)\n",
    "print('make into a rank 2 tensor', stacked_threes_rank_2.shape)\n",
    "\n",
    "# @ = operator for matrix multiplication\n",
    "print('result of matrix multiplication: ', (stacked_threes @ torch.randn((1,28,28))).shape)\n",
    "\n",
    "# where = torch.where(a,b,c) => [b[i] if a[i] else c[i] for i in range(len(a))] ... see p.167\n",
    "trgs = tensor([1,0,1])\n",
    "preds = tensor([0.9, 0.4, 0.2])\n",
    "\n",
    "def mnist_loss(preds, targs):\n",
    "  return torch.where(targs == 1, 1 - preds, preds).mean()\n",
    "\n",
    "print('output of where: ', mnist_loss(preds, trgs))"
   ]
  },
  {
   "cell_type": "markdown",
   "metadata": {
    "id": "Ow5Fn9hvFrSZ"
   },
   "source": [
    "For an interactive lesson on matrix multiplication, [this is the best](http://matrixmultiplication.xyz/)!\n",
    "\n",
    "Check out pp.145-148 to learn about \"broadcasting\", a critical piece to understanding how you can and should manipulate tensors or numpy arrays!"
   ]
  },
  {
   "cell_type": "markdown",
   "metadata": {
    "id": "_yYHVT5kGXFc"
   },
   "source": [
    "---\n",
    "\n",
    "## Stochastic Gradient Descent - How to train a model\n",
    "\n"
   ]
  },
  {
   "cell_type": "markdown",
   "metadata": {
    "id": "JpqbW9GgqrZN"
   },
   "source": [
    "Here are the steps:\n",
    "\n",
    "1. **INITIALIZE** the weights = initializing parameters to random values\n",
    "\n",
    "2. For each image, **PREDICT** whether it is a 3 or 7\n",
    " \n",
    "3. Based on the predictions, calculate how good the model is by calculating its **LOSS** (small is good)\n",
    "\n",
    "4. Calculate the **GRADIENT**, ***\"which measures for each weight how changing the weight would change the loss\"***\n",
    "\n",
    "5. **STEP**, change all the weights based on the gradient\n",
    "\n",
    "6. Starting at step 2, **REPEAT**\n",
    "\n",
    "7. **STOP** when you don't want to train any longer or the model is good enough\n",
    "\n",
    "Below, we'll delve deeper into these steps. We'll do this by getting a big more into the sample code beginning on p.150 ..."
   ]
  },
  {
   "cell_type": "markdown",
   "metadata": {
    "id": "J_c6meQugtub"
   },
   "source": [
    "### Step 1: Initializing weights\n",
    "\n",
    "One way is presented on p.164:\n",
    "```\n",
    "def init_params(size, std=1.0) return (torch.randn(size)*std).requires_grad_()\n",
    "\n",
    "weights = init_params((28*28,1)) #=> raturns a rank 2, 784x1 tensor, with random values\n",
    "```"
   ]
  },
  {
   "cell_type": "markdown",
   "metadata": {
    "id": "ZGgwwU48haT8"
   },
   "source": [
    "### Step 3: Calculating the loss\n",
    "\n",
    ":::{.callout-important}\n",
    "\n",
    "\"For continuous data, it's common to use *mean squared error*\".  In order to understand how to write this, read it right-to-left (e.g., error -> square -> mean)\n",
    "\n",
    ":::\n",
    "\n",
    "```\n",
    "def mse(preds, targs): return ((preds-targs)**2).mean()\n",
    "\n",
    "# in PyTorch\n",
    "loss = F.mse_loss(preds, targs)\n",
    "```\n",
    "\n",
    ":::{.callout-important}\n",
    "\n",
    "Accuracy is a bad loss function\n",
    "\n",
    ":::\n",
    "\n",
    "\n",
    "**Why is accuracy a poor loss function?**\n",
    "\n",
    "> \"The gradient of a funciton is its slope, or its steepness ... how much the value of the function goes up or down, divided by how much we changed the input `(y_new - y_old) / (x_new - x_old)` .... The problem with [accuracy] is that a small change in weights from `x_old` to `x_new` isn't likely to cause any prediction to change, so `(y_new - y_old)` will almost always be 0 ... **the gradient is 0 almost everywhere.  A very small change in the value of a weight will often not change the accuracy at all\n",
    "\n",
    "A gradient = 0 will mean that the weights aren't updated.\n",
    "\n",
    ":::{.callout-important}\n",
    "\n",
    "\"We need a loss function that, when our weights result in slightly better predictions, gives us a slightly better loss\"\n",
    "\n",
    ":::\n",
    "\n",
    "\n",
    "**Metrics v. Loss**\n",
    "\n",
    ":::{.callout-important}\n",
    "\n",
    "\"... ***the metric is to drive human understanding*** and ***the loss is to drive automated learning***.\n",
    "\n",
    ":::\n",
    "\n",
    "\n",
    ":::{.callout-important}\n",
    "\n",
    "\"... focus on these metrics, rather than the loss, when judging the performance of a model.\"\n",
    "\n",
    ":::\n",
    "\n",
    "\n",
    ":::{.callout-important}\n",
    "\n",
    "\"... the loss must be a function that has a meaningful derivative ... must be reasonably smooth [so] that [it] would respond to small changes in confidence level.\n",
    "\n",
    ":::\n",
    "\n",
    "\n",
    "The loss function is one that can be optimized using its gradient!"
   ]
  },
  {
   "cell_type": "markdown",
   "metadata": {
    "id": "qv7RlblLIwnn"
   },
   "source": [
    "### Step 4: Calculating the gradients\n",
    "\n",
    ":::{.callout-important}\n",
    "\n",
    "\"the gradients ***tell us how much we have to change each weight*** to make our model better ... allows us to more quickly calculate whether our loss will go up or down we we make those adjustments\"\n",
    "\n",
    ":::\n",
    "\n",
    "\n",
    "\n",
    ":::{.callout-important}\n",
    "\n",
    "\"The gradients ***tell us only the slope of our function***; they don't tell us exactly how far to adjust the parameters. But they do give us some idea of how far\" (large slope = bigger adjustments needed whereas a small slope suggests we are close to the optimal value)\n",
    "\n",
    ":::\n",
    "\n",
    "\n",
    "\"The ***derivative*** of a function tells you how much a change in its parameters will change its result\"\n",
    "\n",
    "Remember: We are calculating a gradient for *EVERY* weight so we know how to adjust it to make our model better (i.e., lower the LOSS)\n",
    "\n",
    "`requires_grad` tells PyTorch \"that we want to calculate gradients with respect to that variable at that value\""
   ]
  },
  {
   "cell_type": "code",
   "execution_count": null,
   "metadata": {
    "id": "BlKI_4ZWZWor"
   },
   "outputs": [],
   "source": [
    "def plot_function(f, tx=None, ty=None, title=None, min=-2, max=2, figsize=(6,4)):\n",
    "    x = torch.linspace(min,max)\n",
    "    fig,ax = plt.subplots(figsize=figsize)\n",
    "    ax.plot(x,f(x))\n",
    "    if tx is not None: ax.set_xlabel(tx)\n",
    "    if ty is not None: ax.set_ylabel(ty)\n",
    "    if title is not None: ax.set_title(title)"
   ]
  },
  {
   "cell_type": "markdown",
   "metadata": {
    "id": "HRRz6Z39Z8_I"
   },
   "source": [
    "Here we pretend that the below is our **loss function**.  Running a number through it, our **weight** will produce a result, an **activation** ... in this case, our **loss** (which again is a value telling us how good or bad our model is; smaller = good)"
   ]
  },
  {
   "cell_type": "code",
   "execution_count": null,
   "metadata": {
    "colab": {
     "base_uri": "https://localhost:8080/"
    },
    "id": "HjQCRo2eGVpA",
    "outputId": "29366394-f913-43f9-afb6-72333886b1aa"
   },
   "outputs": [
    {
     "data": {
      "text/plain": [
       "tensor(-1.5000, requires_grad=True)"
      ]
     },
     "execution_count": 11,
     "metadata": {
      "tags": []
     },
     "output_type": "execute_result"
    }
   ],
   "source": [
    "xt = tensor(-1.5).requires_grad_(); xt"
   ]
  },
  {
   "cell_type": "code",
   "execution_count": null,
   "metadata": {
    "colab": {
     "base_uri": "https://localhost:8080/",
     "height": 350
    },
    "id": "RpWRqpteY6dJ",
    "outputId": "de2424d9-7e70-4cc5-a248-6bb890499716"
   },
   "outputs": [
    {
     "name": "stdout",
     "output_type": "stream",
     "text": [
      "Loss:  2.25\n"
     ]
    },
    {
     "name": "stderr",
     "output_type": "stream",
     "text": [
      "/usr/local/lib/python3.7/dist-packages/ipykernel_launcher.py:2: UserWarning: Not providing a value for linspace's steps is deprecated and will throw a runtime error in a future release. This warning will appear only once per process. (Triggered internally at  /pytorch/aten/src/ATen/native/RangeFactories.cpp:23.)\n",
      "  \n"
     ]
    },
    {
     "data": {
      "image/png": "[encoded data removed]",
      "text/plain": [
       "<Figure size 432x288 with 1 Axes>"
      ]
     },
     "metadata": {
      "needs_background": "light",
      "tags": []
     },
     "output_type": "display_data"
    }
   ],
   "source": [
    "def f(x): return x**2\n",
    "loss = f(xt)\n",
    "\n",
    "plot_function(f, 'x', 'x**2')\n",
    "plt.scatter(xt.detach().numpy(), loss.detach().numpy(), color='red')\n",
    "print('Loss: ', loss.item())"
   ]
  },
  {
   "cell_type": "markdown",
   "metadata": {
    "id": "rrvb8INMbEIy"
   },
   "source": [
    "So if our parameter is `-1.5` we get a loss = `2.25`. Since the direction of our slope is downward (negative), by changing its value to be a bit more positive, we get closer to achieving our goal of *minimizing our loss*"
   ]
  },
  {
   "cell_type": "code",
   "execution_count": null,
   "metadata": {
    "colab": {
     "base_uri": "https://localhost:8080/",
     "height": 296
    },
    "id": "1Zb4dLlMcJMD",
    "outputId": "cdfc5b45-dbd6-448f-b1f8-1076b7db3dfc"
   },
   "outputs": [
    {
     "name": "stdout",
     "output_type": "stream",
     "text": [
      "Loss:  1.0\n"
     ]
    },
    {
     "data": {
      "image/png": "[encoded data removed]",
      "text/plain": [
       "<Figure size 432x288 with 1 Axes>"
      ]
     },
     "metadata": {
      "needs_background": "light",
      "tags": []
     },
     "output_type": "display_data"
    }
   ],
   "source": [
    "xt = tensor(-1.).requires_grad_(); xt\n",
    "\n",
    "loss = f(xt)\n",
    "\n",
    "plot_function(f, 'x', 'x**2')\n",
    "plt.scatter(xt.detach().numpy(), loss.detach().numpy(), color='red')\n",
    "print('Loss: ', loss.item())"
   ]
  },
  {
   "cell_type": "markdown",
   "metadata": {
    "id": "5HPZrsmdcd9x"
   },
   "source": [
    "And yes, our loss has improved!  If the direction of our slope were upwards (positive), we would conversely want `x` to be smaller."
   ]
  },
  {
   "cell_type": "markdown",
   "metadata": {
    "id": "DGv43ojRdVkE"
   },
   "source": [
    "***BUT*** now ... imagine having to figure all this out for a million parameters.  Obviously, we wouldn't want to try doing this manually as we did before, and thanks to PyTorch, we don't have too :)\n",
    "\n",
    "Remember that by utilizing the `requires_grad_()` function, we have told PyTorch to keep track of how to compute the gradients based on the other calucations we perform, like running it through our loss function above.  Let's see what that looks like."
   ]
  },
  {
   "cell_type": "code",
   "execution_count": null,
   "metadata": {
    "colab": {
     "base_uri": "https://localhost:8080/"
    },
    "id": "l9YLALQ7dVR1",
    "outputId": "ac4db2fb-2de7-4ec1-c5b1-e967f1f9c14d"
   },
   "outputs": [
    {
     "name": "stdout",
     "output_type": "stream",
     "text": [
      "tensor(-1., requires_grad=True)\n",
      "tensor(1., grad_fn=<PowBackward0>)\n"
     ]
    }
   ],
   "source": [
    "xt = tensor(-1.).requires_grad_(); \n",
    "print(xt)\n",
    "\n",
    "loss = f(xt)\n",
    "print(loss)"
   ]
  },
  {
   "cell_type": "markdown",
   "metadata": {
    "id": "rIgLnDoqeXUY"
   },
   "source": [
    "That `<PowBackward0>` is the gradient function it will use to calculate the gradients when needed.  And when we need it, we call the `backward` method to do so."
   ]
  },
  {
   "cell_type": "code",
   "execution_count": null,
   "metadata": {
    "colab": {
     "base_uri": "https://localhost:8080/"
    },
    "id": "NA1tgKFzeh5d",
    "outputId": "912bbbb2-662f-4636-dbd1-ef3935c8f808"
   },
   "outputs": [
    {
     "name": "stdout",
     "output_type": "stream",
     "text": [
      "tensor(-2.)\n"
     ]
    }
   ],
   "source": [
    "loss.backward()\n",
    "print(xt.grad)"
   ]
  },
  {
   "cell_type": "markdown",
   "metadata": {
    "id": "pyCreCbhe2EP"
   },
   "source": [
    "And the calcuated gradient is exactly what we expected given that to calculate the derivate of `x**2` is `2x` ... `2*-1 = -2`.\n",
    "\n",
    "Again, the gradient tells us ***the slope of our function***.  Here have a a negative/downward slope and so at the very least, we know what moving in that direction will get us closer to the minimum.\n",
    "\n",
    "The question is now, **How far do we move in that direction?**"
   ]
  },
  {
   "cell_type": "markdown",
   "metadata": {
    "id": "N1RePernMIPn"
   },
   "source": [
    "### Step 5: Change all the weights based on the gradient using a \"Learning Rate\"\n",
    "\n",
    "The **learning rate** (or LR) is a number (usually a small number like 1e-3 or 0.1) that we multiply the gradient by to get a better parameter value.  For a given parameter/weight `w`, the calculation looks like this:\n",
    "\n",
    "` w -= w.grad * lr`\n",
    "\n",
    "Notice we take the negative of the grad * lr operation because we want to move in the opposite direction.\n",
    "\n",
    ":::{.callout-important}\n",
    "\n",
    "We do this in a `with torch.no_grad()` so that we don't calculate the gradient for the gradient calculating operation\n",
    "\n",
    ":::"
   ]
  },
  {
   "cell_type": "code",
   "execution_count": null,
   "metadata": {
    "colab": {
     "base_uri": "https://localhost:8080/"
    },
    "id": "zpproXJdodrR",
    "outputId": "9237bae3-589e-4748-f778-e19ca3460649"
   },
   "outputs": [
    {
     "name": "stdout",
     "output_type": "stream",
     "text": [
      "New value for xt:  tensor(-0.9800, requires_grad=True)\n",
      "New loss:  tensor(0.9604)\n"
     ]
    }
   ],
   "source": [
    "lr = 0.01\n",
    "\n",
    "with torch.no_grad():\n",
    " xt -= xt.grad * lr\n",
    "\n",
    " print('New value for xt: ', xt)\n",
    " print('New loss: ', f(xt))"
   ]
  },
  {
   "cell_type": "markdown",
   "metadata": {
    "id": "etZcxIkWoerO"
   },
   "source": [
    "You can see the loss get smaller which is exactly what we want!  \"The magnitude of the gradient (i.e., the steepness of the slope) [tells] us how big a step to take.\"\n",
    "\n",
    "The above operation is also called the **optimization step**\n",
    "\n",
    "See pp.156-157 for examples of what using a too small or too large LR might look like when training.  This could help you troubleshoot things if yours looks wonky."
   ]
  },
  {
   "cell_type": "markdown",
   "metadata": {
    "id": "LTKvbUUenaom"
   },
   "source": [
    "---\n",
    "\n",
    "## Datasets & DataLoaders\n",
    "\n",
    "\n",
    "\n",
    "\n"
   ]
  },
  {
   "cell_type": "markdown",
   "metadata": {
    "id": "BN0EZ3T1nq-V"
   },
   "source": [
    "A **Dataset** contains tuples of independent and dependent variables"
   ]
  },
  {
   "cell_type": "code",
   "execution_count": null,
   "metadata": {
    "colab": {
     "base_uri": "https://localhost:8080/"
    },
    "id": "-9WU7lMIns5B",
    "outputId": "23986db7-b9a7-4fe8-d071-bd266d826eb5"
   },
   "outputs": [
    {
     "data": {
      "text/plain": [
       "(#26) [(0, 'a'),(1, 'b'),(2, 'c'),(3, 'd'),(4, 'e'),(5, 'f'),(6, 'g'),(7, 'h'),(8, 'i'),(9, 'j')...]"
      ]
     },
     "execution_count": 17,
     "metadata": {
      "tags": []
     },
     "output_type": "execute_result"
    }
   ],
   "source": [
    "ds = L(enumerate(string.ascii_lowercase))\n",
    "ds"
   ]
  },
  {
   "cell_type": "markdown",
   "metadata": {
    "id": "YmSRb0BRnyKY"
   },
   "source": [
    "A **DataLoader** receives a dataset and gives us back as many *mini-batches* are necessary based on the *batch size* we specify"
   ]
  },
  {
   "cell_type": "code",
   "execution_count": null,
   "metadata": {
    "colab": {
     "base_uri": "https://localhost:8080/"
    },
    "id": "AE4FiJo0oArl",
    "outputId": "da2e2f86-cfd1-4e37-d1db-e17b4554e21b"
   },
   "outputs": [
    {
     "data": {
      "text/plain": [
       "[(tensor([17,  5,  9, 22, 18, 21]), ('r', 'f', 'j', 'w', 's', 'v')),\n",
       " (tensor([15,  3, 23,  1,  0, 19]), ('p', 'd', 'x', 'b', 'a', 't')),\n",
       " (tensor([ 4, 10, 16, 25,  8,  2]), ('e', 'k', 'q', 'z', 'i', 'c')),\n",
       " (tensor([24, 14,  7, 20, 13, 12]), ('y', 'o', 'h', 'u', 'n', 'm')),\n",
       " (tensor([11,  6]), ('l', 'g'))]"
      ]
     },
     "execution_count": 18,
     "metadata": {
      "tags": []
     },
     "output_type": "execute_result"
    }
   ],
   "source": [
    "dl = DataLoader(ds, bs=6, shuffle=True)\n",
    "list(dl)"
   ]
  },
  {
   "cell_type": "markdown",
   "metadata": {
    "id": "h2uxHGE5IK0a"
   },
   "source": [
    "---\n",
    "\n",
    "## Measuring distances\n",
    "\n",
    "See pp.141-142.  There are two main ways to measure distances.\n",
    "\n",
    "**L1 norm** (or mean absolute difference): Take the mean of the absolute value of differences\n",
    "\n",
    "` l1_loss = (tensor_a - tensor_b).abs().mean()`\n",
    "\n",
    "**L2 norm** (or root mean squared error, RMSE): Take the square root of the mean of the square differences. The squaring of differences makes everything positive and the square root undoes the squaring.\n",
    "\n",
    ":::{.callout-important}\n",
    "\n",
    "\"... the latter will penalize bigger mistakes more heavily than the former (and be more lenient with small mistakes)\"\n",
    "\n",
    ":::\n",
    "\n",
    "\n",
    "` l2_loss = ((tensor_a - tensor_b) ** 2).sqrt()`\n",
    "\n",
    "\n",
    "\n",
    "\n"
   ]
  },
  {
   "cell_type": "markdown",
   "metadata": {
    "id": "r7ZF3BdAItCG"
   },
   "source": [
    "---\n",
    "\n",
    "## Important PyTorch Modules\n",
    "\n",
    "A **module** is a class that inherits from PyTorch's `nn.Module` class. \"Every PyTorch module knows that **parameters** it has that can be trained.\"\n",
    "\n",
    "Here are some key ones ...\n"
   ]
  },
  {
   "cell_type": "markdown",
   "metadata": {
    "id": "r58ZltSu7IK2"
   },
   "source": [
    "### `nn.Linear`\n",
    "\n",
    "Initializes its parameters and performs a linear operation.  It contains both the weights and biases in a single class"
   ]
  },
  {
   "cell_type": "code",
   "execution_count": null,
   "metadata": {
    "colab": {
     "base_uri": "https://localhost:8080/"
    },
    "id": "hbKKnzAu7apS",
    "outputId": "ad3a236a-c759-4142-a815-167d1a55f02c"
   },
   "outputs": [
    {
     "name": "stdout",
     "output_type": "stream",
     "text": [
      "torch.Size([1, 784]) torch.Size([1])\n"
     ]
    }
   ],
   "source": [
    "lin1 = nn.Linear(28*28, 1)\n",
    "\n",
    "# the trainable parameters\n",
    "weights, bias = lin1.parameters()\n",
    "print(weights.shape, bias.shape)"
   ]
  },
  {
   "cell_type": "markdown",
   "metadata": {
    "id": "onTRIXF08vJm"
   },
   "source": [
    "### `nn.ReLU`\n",
    "\n",
    "Allows us to add a non-linearity between linear classifiers.  Simply put, it ensures that all activations passed to it are a positive number with every negative number replaced with a 0.  \n",
    "\n",
    "Notice below that it has no trainable parameters!"
   ]
  },
  {
   "cell_type": "code",
   "execution_count": null,
   "metadata": {
    "colab": {
     "base_uri": "https://localhost:8080/",
     "height": 265
    },
    "id": "NjHqHYiT96s_",
    "outputId": "03887384-7944-4094-b567-82977c05544f"
   },
   "outputs": [
    {
     "data": {
      "image/png": "[encoded data removed]",
      "text/plain": [
       "<Figure size 432x288 with 1 Axes>"
      ]
     },
     "metadata": {
      "needs_background": "light",
      "tags": []
     },
     "output_type": "display_data"
    }
   ],
   "source": [
    "plot_function(F.relu)"
   ]
  },
  {
   "cell_type": "code",
   "execution_count": null,
   "metadata": {
    "colab": {
     "base_uri": "https://localhost:8080/"
    },
    "id": "EFwEINU48X5b",
    "outputId": "d16af357-b5a4-418a-8d1c-d895cc1134fa"
   },
   "outputs": [
    {
     "name": "stdout",
     "output_type": "stream",
     "text": [
      "[]\n",
      "using nn.ReLU:  tensor(0) tensor(4)\n",
      "using max() tensor(0.) tensor(4.)\n"
     ]
    }
   ],
   "source": [
    "non_lin1 = nn.ReLU()\n",
    "print(list(non_lin1.parameters()))\n",
    "\n",
    "print('using nn.ReLU: ', non_lin1(tensor(-1)), non_lin1(tensor(4)))\n",
    "print('using max()', tensor(-1).max(tensor(0.0)), tensor(4).max(tensor(0.0)))"
   ]
  },
  {
   "cell_type": "markdown",
   "metadata": {
    "id": "qTwkZarZ-Baj"
   },
   "source": [
    "**Why do you want to have non-linearities?**\n",
    "\n",
    "> Because \"there's no point in just putting one linear layout directly after another one, because when we multiply things together and then add them up multiple times, that could be replaced by multiplying different things together and adding them up just once .... BUT if we put a non-linear between them ... this is no longer true. ***Now each linear layer is somewhat decoupled from the other ones and can do its own useful work***.\"\n",
    "\n",
    "These kind of functions are also called **\"activation functions\"**, because the only operate and produce activations ... there are no trainable parameters.\n"
   ]
  },
  {
   "cell_type": "markdown",
   "metadata": {
    "id": "Jdu_z1l-_CzS"
   },
   "source": [
    "### `nn.Sequential`\n",
    "\n",
    "A module that can be passed modules, which when called, calls each of those layers in turn."
   ]
  },
  {
   "cell_type": "code",
   "execution_count": null,
   "metadata": {
    "colab": {
     "base_uri": "https://localhost:8080/"
    },
    "id": "LgU1UAUd_eni",
    "outputId": "9f6f0d69-49ea-4939-9cf2-6e91cc431d12"
   },
   "outputs": [
    {
     "name": "stdout",
     "output_type": "stream",
     "text": [
      "4\n",
      "torch.Size([1, 784])\n",
      "torch.Size([1])\n",
      "torch.Size([10, 1])\n",
      "torch.Size([10])\n"
     ]
    }
   ],
   "source": [
    "lin2 = nn.Linear(1, 10)\n",
    "seq_model = nn.Sequential(lin1, non_lin1, lin2)\n",
    "\n",
    "seq_params = list(seq_model.parameters())\n",
    "print(len(seq_params))\n",
    "\n",
    "for p in seq_params: print(p.shape)"
   ]
  },
  {
   "cell_type": "markdown",
   "metadata": {
    "id": "0bC4j3qRALdL"
   },
   "source": [
    "Why `4`?  Simple, remember that each `nn.Linear` above has two trainable parameters (the weights and bias), 2+2 = 4."
   ]
  },
  {
   "cell_type": "markdown",
   "metadata": {
    "id": "GZoR3dj_Tu6C"
   },
   "source": [
    "---\n",
    "\n",
    "## Summary\n",
    "\n",
    "This chapter walks you through creating a baseline model to a full blown training loop in PyTorch. ***Read it, and read it again and again!*** (I do and have).\n",
    "\n",
    "**Important Vocb/Concepts**\n",
    "\n",
    "*Activations*: Numbers that are calculated by both linear and non-linear layers\n",
    "\n",
    "*Parameters*: Randomly initialized parameters that can be trained.\n",
    "\n",
    "*Neural Network*: A chain of linear and non-linear functions your data runs through to produce a result.\n",
    "\n",
    "*Gradient*: \"The derivative of the loss with respect to some parameter of the model\"\n",
    "\n",
    "*Backpropagation*: The computing of the gradients \"of the loss with respect to all model parameters\"\n",
    "\n",
    "*Gradient Descent*: \"Taking a step in the direction opposite to the gradients to make the model parameters a little bit better\"\n"
   ]
  },
  {
   "cell_type": "markdown",
   "metadata": {
    "id": "PSwEOzDpHHBj"
   },
   "source": [
    "---\n",
    "\n",
    "## Resources\n",
    "\n",
    "1. https://book.fast.ai - The book's website; it's updated regularly with new content and recommendations from everything to GPUs to use, how to run things locally and on the cloud, etc...\n"
   ]
  },
  {
   "cell_type": "code",
   "execution_count": null,
   "metadata": {
    "id": "B2wEfmj5CLA8"
   },
   "outputs": [],
   "source": []
  }
 ],
 "metadata": {
  "accelerator": "GPU",
  "colab": {
   "collapsed_sections": [],
   "name": "Copy of Copy of 2020-11-06-ajtfb-chapter-1.ipynb",
   "provenance": []
  },
  "kernelspec": {
   "display_name": "Python 3.10.8 ('ohmeow_website')",
   "language": "python",
   "name": "python3"
  },
  "language_info": {
   "name": "python",
   "version": "3.10.8"
  },
  "vscode": {
   "interpreter": {
    "hash": "9eb9bda8f49c57e6addc88daf9eb4f6c227a77e767b644e5d20488a497d532a2"
   }
  }
 },
 "nbformat": 4,
 "nbformat_minor": 0
}
