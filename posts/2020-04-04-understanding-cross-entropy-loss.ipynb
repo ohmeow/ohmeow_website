{
 "cells": [
  {
   "cell_type": "raw",
   "metadata": {},
   "source": [
    "---\n",
    "title: 'Loss Functions: Cross Entropy Loss and You!'\n",
    "image: images/highlander-there-can-be-only-one.png\n",
    "author: Wayde Gilliam\n",
    "date: '2020-04-04'\n",
    "description: Meet multi-classification's favorite loss function\n",
    "\n",
    "toc: true\n",
    "hide: false\n",
    "search: true\n",
    "\n",
    "output-file: 2020-04-04-understanding-cross-entropy-loss.html\n",
    "aliases:\n",
    "- /2020/04/04/understanding-cross-entropy-loss\n",
    "---\n",
    "\n"
   ]
  },
  {
   "cell_type": "code",
   "execution_count": null,
   "metadata": {
    "id": "YLwGIer_PuvM"
   },
   "outputs": [],
   "source": [
    "# only run this cell if you are in collab\n",
    "!pip install fastai"
   ]
  },
  {
   "cell_type": "code",
   "execution_count": null,
   "metadata": {
    "id": "sE_uZWg2PsMQ"
   },
   "outputs": [],
   "source": [
    "import torch\n",
    "from torch.nn import functional as F\n",
    "from fastai2.vision.all import *"
   ]
  },
  {
   "cell_type": "markdown",
   "metadata": {
    "id": "a7Ym-LmsPsMT"
   },
   "source": [
    "We've been doing multi-classification since week one, and last week, we learned about how a NN \"learns\" by evaluating its predictions as measured by something called a \"loss function.\"  \n",
    "\n",
    "So for multi-classification tasks, what is our loss function?"
   ]
  },
  {
   "cell_type": "code",
   "execution_count": null,
   "metadata": {
    "colab": {
     "base_uri": "https://localhost:8080/",
     "height": 100,
     "referenced_widgets": [
      "19c320dff2ce45eda01db6b143b755a7",
      "de997751a4f442fda8c64a4f8914ff69",
      "ac0a153adade42039c1260961a0fe685",
      "3ccace466a16403da2a3cc0fd520a742",
      "b57536e781644aa29794eeb3f9e60962",
      "adf5e23915a34a1ebb05966a7b3b6ea6",
      "e9d5830f489f4ee7b2d1e6d312c6cb4b",
      "ee63825ccde44308b91a0d84339f22b2"
     ]
    },
    "id": "CdNOtWT2PsMT",
    "outputId": "658323fe-9ce4-4eea-82d5-c35661fbd1c1"
   },
   "outputs": [
    {
     "data": {
      "text/html": [],
      "text/plain": [
       "<IPython.core.display.HTML object>"
      ]
     },
     "metadata": {
      "tags": []
     },
     "output_type": "display_data"
    },
    {
     "name": "stderr",
     "output_type": "stream",
     "text": [
      "Downloading: \"https://download.pytorch.org/models/resnet34-333f7ec4.pth\" to /root/.cache/torch/checkpoints/resnet34-333f7ec4.pth\n"
     ]
    },
    {
     "data": {
      "application/vnd.jupyter.widget-view+json": {
       "model_id": "19c320dff2ce45eda01db6b143b755a7",
       "version_major": 2,
       "version_minor": 0
      },
      "text/plain": [
       "HBox(children=(IntProgress(value=0, max=87306240), HTML(value='')))"
      ]
     },
     "metadata": {
      "tags": []
     },
     "output_type": "display_data"
    },
    {
     "name": "stdout",
     "output_type": "stream",
     "text": [
      "\n"
     ]
    },
    {
     "data": {
      "text/plain": [
       "FlattenedLoss of CrossEntropyLoss()"
      ]
     },
     "execution_count": 4,
     "metadata": {
      "tags": []
     },
     "output_type": "execute_result"
    }
   ],
   "source": [
    "path = untar_data(URLs.PETS)/'images'\n",
    "\n",
    "def is_cat(x): return x[0].isupper()\n",
    "dls = ImageDataLoaders.from_name_func(\n",
    "    path, get_image_files(path), valid_pct=0.2, seed=42,\n",
    "    label_func=is_cat, item_tfms=Resize(224))\n",
    "\n",
    "learn = cnn_learner(dls, resnet34, metrics=error_rate)\n",
    "learn.loss_func"
   ]
  },
  {
   "cell_type": "markdown",
   "metadata": {
    "heading_collapsed": true,
    "id": "Bi-w4SBlPsMX"
   },
   "source": [
    "To understand `CrossEntropyLoss`, we need to first understand something called `Negative Log-Likelihood`"
   ]
  },
  {
   "cell_type": "markdown",
   "metadata": {
    "hidden": true,
    "id": "ycDmjYVpPsMX"
   },
   "source": [
    "## Negative Log-Likelihood (NLL) Loss"
   ]
  },
  {
   "cell_type": "markdown",
   "metadata": {
    "hidden": true,
    "id": "VIPTuQhiPsMX"
   },
   "source": [
    "Let's imagine a model who's objective is to predict the label of an example given five possible classes to choose from.  Our predictions might look like this ..."
   ]
  },
  {
   "cell_type": "code",
   "execution_count": null,
   "metadata": {
    "colab": {
     "base_uri": "https://localhost:8080/",
     "height": 68
    },
    "hidden": true,
    "id": "FKyFlqWVPsMY",
    "outputId": "270fc1ea-817a-41de-bfbe-2858e983f231"
   },
   "outputs": [
    {
     "data": {
      "text/plain": [
       "tensor([[-0.3139,  0.6737, -0.0143,  1.9929, -0.6949],\n",
       "        [ 0.5285,  0.1311,  0.2628,  0.6450,  1.7745],\n",
       "        [-1.7458,  2.0199, -0.1365,  1.4622, -0.0940]])"
      ]
     },
     "execution_count": 5,
     "metadata": {
      "tags": []
     },
     "output_type": "execute_result"
    }
   ],
   "source": [
    "preds = torch.randn(3, 5); preds"
   ]
  },
  {
   "cell_type": "markdown",
   "metadata": {
    "hidden": true,
    "id": "iF2SWJVGPsMa"
   },
   "source": [
    "Because this is a supervised task, we know the actual labels of our three training examples above (e.g., the label of the first example is the first class, the label of the 2nd example the 4th class, and so forth)"
   ]
  },
  {
   "cell_type": "code",
   "execution_count": null,
   "metadata": {
    "hidden": true,
    "id": "kLOb-0epPsMb"
   },
   "outputs": [],
   "source": [
    "targets = torch.tensor([0, 3, 4])"
   ]
  },
  {
   "cell_type": "markdown",
   "metadata": {
    "hidden": true,
    "id": "bXRIwXR-PsMd"
   },
   "source": [
    "**Step 1**: Convert the predictions for each example into probabilities using `softmax`. This describes how confident your model is in predicting what it belongs to respectively for each class"
   ]
  },
  {
   "cell_type": "code",
   "execution_count": null,
   "metadata": {
    "colab": {
     "base_uri": "https://localhost:8080/",
     "height": 68
    },
    "hidden": true,
    "id": "ND5aDnWjPsMd",
    "outputId": "74e6b970-eab3-4983-b534-19f1631fa041"
   },
   "outputs": [
    {
     "data": {
      "text/plain": [
       "tensor([[0.0635, 0.1704, 0.0856, 0.6372, 0.0433],\n",
       "        [0.1421, 0.0955, 0.1089, 0.1596, 0.4939],\n",
       "        [0.0126, 0.5458, 0.0632, 0.3125, 0.0659]])"
      ]
     },
     "execution_count": 7,
     "metadata": {
      "tags": []
     },
     "output_type": "execute_result"
    }
   ],
   "source": [
    "probs = F.softmax(preds, dim=1); probs"
   ]
  },
  {
   "cell_type": "markdown",
   "metadata": {
    "hidden": true,
    "id": "MaOXXgFrPsMf"
   },
   "source": [
    "If we sum the probabilities across each example, you'll see they add up to 1"
   ]
  },
  {
   "cell_type": "code",
   "execution_count": null,
   "metadata": {
    "colab": {
     "base_uri": "https://localhost:8080/",
     "height": 34
    },
    "hidden": true,
    "id": "GQSUMrG5PsMg",
    "outputId": "4b45b4bc-2216-4042-979a-9a9a2a5e8fd2"
   },
   "outputs": [
    {
     "data": {
      "text/plain": [
       "tensor([1.0000, 1.0000, 1.0000])"
      ]
     },
     "execution_count": 8,
     "metadata": {
      "tags": []
     },
     "output_type": "execute_result"
    }
   ],
   "source": [
    "probs.sum(dim=1)"
   ]
  },
  {
   "cell_type": "markdown",
   "metadata": {
    "hidden": true,
    "id": "YnqLMjW9PsMi"
   },
   "source": [
    "**Step 2**: Calculate the \"negative log likelihood\" for each example where `y` = the probability of the correct class\n",
    "\n",
    "`loss = -log(y)`\n",
    "\n",
    "We can do this in one-line using something called ***tensor/array indexing***"
   ]
  },
  {
   "cell_type": "code",
   "execution_count": null,
   "metadata": {
    "colab": {
     "base_uri": "https://localhost:8080/",
     "height": 34
    },
    "hidden": true,
    "id": "CpUfJJvkPsMj",
    "outputId": "ff41f75c-a874-4dcd-ec86-8f4f160d11db"
   },
   "outputs": [
    {
     "data": {
      "text/plain": [
       "range(0, 3)"
      ]
     },
     "execution_count": 9,
     "metadata": {
      "tags": []
     },
     "output_type": "execute_result"
    }
   ],
   "source": [
    "example_idxs = range(len(preds)); example_idxs"
   ]
  },
  {
   "cell_type": "code",
   "execution_count": null,
   "metadata": {
    "colab": {
     "base_uri": "https://localhost:8080/",
     "height": 34
    },
    "hidden": true,
    "id": "3mdkr4F3PsMl",
    "outputId": "9e83e8eb-495b-4621-f5b2-ad0cd47473e2"
   },
   "outputs": [
    {
     "data": {
      "text/plain": [
       "tensor([0.0635, 0.1596, 0.0659])"
      ]
     },
     "execution_count": 10,
     "metadata": {
      "tags": []
     },
     "output_type": "execute_result"
    }
   ],
   "source": [
    "correct_class_probs = probs[example_idxs, targets]; correct_class_probs"
   ]
  },
  {
   "cell_type": "code",
   "execution_count": null,
   "metadata": {
    "colab": {
     "base_uri": "https://localhost:8080/",
     "height": 34
    },
    "hidden": true,
    "id": "_oJIu2yzPsMn",
    "outputId": "9c76b586-86be-4050-9789-17d4b5245781"
   },
   "outputs": [
    {
     "data": {
      "text/plain": [
       "tensor([2.7574, 1.8349, 2.7194])"
      ]
     },
     "execution_count": 11,
     "metadata": {
      "tags": []
     },
     "output_type": "execute_result"
    }
   ],
   "source": [
    "nll = -torch.log(correct_class_probs); nll"
   ]
  },
  {
   "cell_type": "markdown",
   "metadata": {
    "hidden": true,
    "id": "11X1Ers5PsMp"
   },
   "source": [
    "**Step 3**: The loss is the mean of the individual NLLs"
   ]
  },
  {
   "cell_type": "code",
   "execution_count": null,
   "metadata": {
    "colab": {
     "base_uri": "https://localhost:8080/",
     "height": 34
    },
    "hidden": true,
    "id": "wbxD9VeKPsMq",
    "outputId": "9a580569-b5b3-4f74-bdc1-7db4f8ed6738"
   },
   "outputs": [
    {
     "data": {
      "text/plain": [
       "tensor(2.4372)"
      ]
     },
     "execution_count": 12,
     "metadata": {
      "tags": []
     },
     "output_type": "execute_result"
    }
   ],
   "source": [
    "nll.mean()"
   ]
  },
  {
   "cell_type": "markdown",
   "metadata": {
    "hidden": true,
    "id": "Qkk_qWifPsMs"
   },
   "source": [
    "... or using PyTorch"
   ]
  },
  {
   "cell_type": "code",
   "execution_count": null,
   "metadata": {
    "colab": {
     "base_uri": "https://localhost:8080/",
     "height": 34
    },
    "hidden": true,
    "id": "ioYsZPS-PsMt",
    "outputId": "4b7e59ef-6ff7-4493-ea13-0f9202717981"
   },
   "outputs": [
    {
     "data": {
      "text/plain": [
       "tensor(2.4372)"
      ]
     },
     "execution_count": 13,
     "metadata": {
      "tags": []
     },
     "output_type": "execute_result"
    }
   ],
   "source": [
    "F.nll_loss(torch.log(probs), targets)"
   ]
  },
  {
   "cell_type": "markdown",
   "metadata": {
    "hidden": true,
    "id": "aD_N7Z5FPsMu"
   },
   "source": [
    "## Cross Entropy Loss"
   ]
  },
  {
   "cell_type": "markdown",
   "metadata": {
    "hidden": true,
    "id": "OXxIAeWRPsMv"
   },
   "source": [
    "... or we can do this all at once using PyTorch's `CrossEntropyLoss`"
   ]
  },
  {
   "cell_type": "code",
   "execution_count": null,
   "metadata": {
    "colab": {
     "base_uri": "https://localhost:8080/",
     "height": 34
    },
    "hidden": true,
    "id": "Dyq3q6abPsMx",
    "outputId": "deac6d92-7ed3-4d7c-8d42-7ffb59a05850"
   },
   "outputs": [
    {
     "data": {
      "text/plain": [
       "tensor(2.4372)"
      ]
     },
     "execution_count": 14,
     "metadata": {
      "tags": []
     },
     "output_type": "execute_result"
    }
   ],
   "source": [
    "F.cross_entropy(preds, targets)"
   ]
  },
  {
   "cell_type": "markdown",
   "metadata": {
    "hidden": true,
    "id": "kc9KHy9gPsMz"
   },
   "source": [
    "As you can see, cross entropy loss simply combines the `log_softmax` operation with the `negative log-likelihood` loss"
   ]
  },
  {
   "cell_type": "markdown",
   "metadata": {
    "id": "jLUinkZdPsMz"
   },
   "source": [
    "## Why not use accuracy?"
   ]
  },
  {
   "cell_type": "code",
   "execution_count": null,
   "metadata": {
    "id": "5NhnjzAoQHmr"
   },
   "outputs": [],
   "source": [
    "# this function is actually copied verbatim from the utils package in fastbook (see footnote 1)\n",
    "def plot_function(f, tx=None, ty=None, title=None, min=-2, max=2, figsize=(6,4)):\n",
    "    x = torch.linspace(min,max)\n",
    "    fig,ax = plt.subplots(figsize=figsize)\n",
    "    ax.plot(x,f(x))\n",
    "    if tx is not None: ax.set_xlabel(tx)\n",
    "    if ty is not None: ax.set_ylabel(ty)\n",
    "    if title is not None: ax.set_title(title)"
   ]
  },
  {
   "cell_type": "code",
   "execution_count": null,
   "metadata": {
    "colab": {
     "base_uri": "https://localhost:8080/",
     "height": 295
    },
    "id": "dDKtrDAVPsMz",
    "outputId": "241017a3-62bd-4600-c058-3d6d7fbdb6d1"
   },
   "outputs": [
    {
     "data": {
      "image/png": "[encoded data removed]",
      "text/plain": [
       "<Figure size 432x288 with 1 Axes>"
      ]
     },
     "metadata": {
      "tags": []
     },
     "output_type": "display_data"
    }
   ],
   "source": [
    "def f(x): return -torch.log(x)\n",
    "\n",
    "plot_function(f, 'x (prob correct class)', '-log(x)', title='Negative Log-Likelihood', min=0, max=1)"
   ]
  },
  {
   "cell_type": "markdown",
   "metadata": {
    "id": "H401ep7FPsM1"
   },
   "source": [
    "NLL loss will be higher the smaller the probability *of the correct class*\n",
    "\n",
    "**What does this all mean?** The lower the confidence it has in predicting the correct class, the higher the loss. It will:\n",
    "\n",
    "1) Penalize correct predictions that it isn't confident about more so than correct predictions it is very confident about.\n",
    "\n",
    "2) And vice-versa, it will penalize incorrect predictions it is very confident about more so than incorrect predictions it isn't very confident about\n",
    "\n",
    "**Why is this better than accuracy?**\n",
    "\n",
    "Because accuracy simply tells you whether you got it right or wrong (a 1 or a 0), whereast NLL incorporates the confidence as well.  That information provides you're model with a much better insight w/r/t to how well it is really doing in a single number (INF to 0), resulting in gradients that the model can actually use!\n",
    "\n",
    "*Rember that a loss function returns a number.* That's it!\n",
    "\n",
    "Or the more technical explanation from fastbook:\n",
    "\n",
    ">\"The gradient of a function is its slope, or its steepness, which can be defined as rise over run -- that is, how much the value of function goes up or down, divided by how much you changed the input. We can write this in maths: `(y_new-y_old) / (x_new-x_old)`. Specifically, it is defined when `x_new` is very similar to `x_old`, meaning that their difference is very small. **But accuracy only changes at all when a prediction changes from a 3 to a 7, or vice versa.** So the problem is that a small change in weights from `x_old` to `x_new` isn't likely to cause any prediction to change, so `(y_new - y_old)` will be zero. **In other words, the gradient is zero almost everywhere.**\n",
    "\n",
    ">As a result, **a very small change in the value of a weight will often not actually change the accuracy at all**. This means it is not useful to use accuracy as a loss function. When we use accuracy as a loss function, most of the time our gradients will actually be zero, and the model will not be able to learn from that number. That is not much use at all!\" {% fn 1 %}"
   ]
  },
  {
   "cell_type": "markdown",
   "metadata": {
    "id": "9JxHOO_IPsM2"
   },
   "source": [
    "## Summary"
   ]
  },
  {
   "cell_type": "markdown",
   "metadata": {
    "id": "8ylqNfL3PsM3"
   },
   "source": [
    "So to summarize, `accuracy` is a great metric for human intutition but not so much for your your model.  If you're doing multi-classification, your model will do much better with something that will provide it gradients it can actually use in improving your parameters, and that something is `cross-entropy loss`."
   ]
  },
  {
   "cell_type": "markdown",
   "metadata": {
    "id": "svoyG6ttPsM3"
   },
   "source": [
    "## References\n",
    "\n",
    "1. https://pytorch.org/docs/stable/nn.html#crossentropyloss\n",
    "2. http://wiki.fast.ai/index.php/Log_Loss\n",
    "3. https://ljvmiranda921.github.io/notebook/2017/08/13/softmax-and-the-negative-log-likelihood/\n",
    "4. https://ml-cheatsheet.readthedocs.io/en/latest/loss_functions.html#cross-entropy\n",
    "5. https://machinelearningmastery.com/loss-and-loss-functions-for-training-deep-learning-neural-networks/"
   ]
  },
  {
   "cell_type": "code",
   "execution_count": null,
   "metadata": {
    "id": "HoZf5854R7YA"
   },
   "outputs": [],
   "source": []
  }
 ],
 "metadata": {
  "colab": {
   "collapsed_sections": [],
   "name": "x_loss_cross_entropy.ipynb",
   "provenance": []
  },
  "kernelspec": {
   "display_name": "Python 3.10.8 ('ohmeow_website')",
   "language": "python",
   "name": "python3"
  },
  "language_info": {
   "codemirror_mode": {
    "name": "ipython",
    "version": 3
   },
   "file_extension": ".py",
   "mimetype": "text/x-python",
   "name": "python",
   "nbconvert_exporter": "python",
   "pygments_lexer": "ipython3",
   "version": "3.10.8"
  },
  "varInspector": {
   "cols": {
    "lenName": 16,
    "lenType": 16,
    "lenVar": 40
   },
   "kernels_config": {
    "python": {
     "delete_cmd_postfix": "",
     "delete_cmd_prefix": "del ",
     "library": "var_list.py",
     "varRefreshCmd": "print(var_dic_list())"
    },
    "r": {
     "delete_cmd_postfix": ") ",
     "delete_cmd_prefix": "rm(",
     "library": "var_list.r",
     "varRefreshCmd": "cat(var_dic_list()) "
    }
   },
   "types_to_exclude": [
    "module",
    "function",
    "builtin_function_or_method",
    "instance",
    "_Feature"
   ],
   "window_display": false
  },
  "vscode": {
   "interpreter": {
    "hash": "9eb9bda8f49c57e6addc88daf9eb4f6c227a77e767b644e5d20488a497d532a2"
   }
  },
  "widgets": {
   "application/vnd.jupyter.widget-state+json": {
    "19c320dff2ce45eda01db6b143b755a7": {
     "model_module": "@jupyter-widgets/controls",
     "model_module_version": "1.5.0",
     "model_name": "HBoxModel",
     "state": {
      "_dom_classes": [],
      "_model_module": "@jupyter-widgets/controls",
      "_model_module_version": "1.5.0",
      "_model_name": "HBoxModel",
      "_view_count": null,
      "_view_module": "@jupyter-widgets/controls",
      "_view_module_version": "1.5.0",
      "_view_name": "HBoxView",
      "box_style": "",
      "children": [
       "IPY_MODEL_ac0a153adade42039c1260961a0fe685",
       "IPY_MODEL_3ccace466a16403da2a3cc0fd520a742"
      ],
      "layout": "IPY_MODEL_de997751a4f442fda8c64a4f8914ff69"
     }
    },
    "3ccace466a16403da2a3cc0fd520a742": {
     "model_module": "@jupyter-widgets/controls",
     "model_module_version": "1.5.0",
     "model_name": "HTMLModel",
     "state": {
      "_dom_classes": [],
      "_model_module": "@jupyter-widgets/controls",
      "_model_module_version": "1.5.0",
      "_model_name": "HTMLModel",
      "_view_count": null,
      "_view_module": "@jupyter-widgets/controls",
      "_view_module_version": "1.5.0",
      "_view_name": "HTMLView",
      "description": "",
      "description_tooltip": null,
      "layout": "IPY_MODEL_ee63825ccde44308b91a0d84339f22b2",
      "placeholder": "​",
      "style": "IPY_MODEL_e9d5830f489f4ee7b2d1e6d312c6cb4b",
      "value": " 83.3M/83.3M [00:01&lt;00:00, 49.1MB/s]"
     }
    },
    "ac0a153adade42039c1260961a0fe685": {
     "model_module": "@jupyter-widgets/controls",
     "model_module_version": "1.5.0",
     "model_name": "IntProgressModel",
     "state": {
      "_dom_classes": [],
      "_model_module": "@jupyter-widgets/controls",
      "_model_module_version": "1.5.0",
      "_model_name": "IntProgressModel",
      "_view_count": null,
      "_view_module": "@jupyter-widgets/controls",
      "_view_module_version": "1.5.0",
      "_view_name": "ProgressView",
      "bar_style": "success",
      "description": "100%",
      "description_tooltip": null,
      "layout": "IPY_MODEL_adf5e23915a34a1ebb05966a7b3b6ea6",
      "max": 87306240,
      "min": 0,
      "orientation": "horizontal",
      "style": "IPY_MODEL_b57536e781644aa29794eeb3f9e60962",
      "value": 87306240
     }
    },
    "adf5e23915a34a1ebb05966a7b3b6ea6": {
     "model_module": "@jupyter-widgets/base",
     "model_module_version": "1.2.0",
     "model_name": "LayoutModel",
     "state": {
      "_model_module": "@jupyter-widgets/base",
      "_model_module_version": "1.2.0",
      "_model_name": "LayoutModel",
      "_view_count": null,
      "_view_module": "@jupyter-widgets/base",
      "_view_module_version": "1.2.0",
      "_view_name": "LayoutView",
      "align_content": null,
      "align_items": null,
      "align_self": null,
      "border": null,
      "bottom": null,
      "display": null,
      "flex": null,
      "flex_flow": null,
      "grid_area": null,
      "grid_auto_columns": null,
      "grid_auto_flow": null,
      "grid_auto_rows": null,
      "grid_column": null,
      "grid_gap": null,
      "grid_row": null,
      "grid_template_areas": null,
      "grid_template_columns": null,
      "grid_template_rows": null,
      "height": null,
      "justify_content": null,
      "justify_items": null,
      "left": null,
      "margin": null,
      "max_height": null,
      "max_width": null,
      "min_height": null,
      "min_width": null,
      "object_fit": null,
      "object_position": null,
      "order": null,
      "overflow": null,
      "overflow_x": null,
      "overflow_y": null,
      "padding": null,
      "right": null,
      "top": null,
      "visibility": null,
      "width": null
     }
    },
    "b57536e781644aa29794eeb3f9e60962": {
     "model_module": "@jupyter-widgets/controls",
     "model_module_version": "1.5.0",
     "model_name": "ProgressStyleModel",
     "state": {
      "_model_module": "@jupyter-widgets/controls",
      "_model_module_version": "1.5.0",
      "_model_name": "ProgressStyleModel",
      "_view_count": null,
      "_view_module": "@jupyter-widgets/base",
      "_view_module_version": "1.2.0",
      "_view_name": "StyleView",
      "bar_color": null,
      "description_width": "initial"
     }
    },
    "de997751a4f442fda8c64a4f8914ff69": {
     "model_module": "@jupyter-widgets/base",
     "model_module_version": "1.2.0",
     "model_name": "LayoutModel",
     "state": {
      "_model_module": "@jupyter-widgets/base",
      "_model_module_version": "1.2.0",
      "_model_name": "LayoutModel",
      "_view_count": null,
      "_view_module": "@jupyter-widgets/base",
      "_view_module_version": "1.2.0",
      "_view_name": "LayoutView",
      "align_content": null,
      "align_items": null,
      "align_self": null,
      "border": null,
      "bottom": null,
      "display": null,
      "flex": null,
      "flex_flow": null,
      "grid_area": null,
      "grid_auto_columns": null,
      "grid_auto_flow": null,
      "grid_auto_rows": null,
      "grid_column": null,
      "grid_gap": null,
      "grid_row": null,
      "grid_template_areas": null,
      "grid_template_columns": null,
      "grid_template_rows": null,
      "height": null,
      "justify_content": null,
      "justify_items": null,
      "left": null,
      "margin": null,
      "max_height": null,
      "max_width": null,
      "min_height": null,
      "min_width": null,
      "object_fit": null,
      "object_position": null,
      "order": null,
      "overflow": null,
      "overflow_x": null,
      "overflow_y": null,
      "padding": null,
      "right": null,
      "top": null,
      "visibility": null,
      "width": null
     }
    },
    "e9d5830f489f4ee7b2d1e6d312c6cb4b": {
     "model_module": "@jupyter-widgets/controls",
     "model_module_version": "1.5.0",
     "model_name": "DescriptionStyleModel",
     "state": {
      "_model_module": "@jupyter-widgets/controls",
      "_model_module_version": "1.5.0",
      "_model_name": "DescriptionStyleModel",
      "_view_count": null,
      "_view_module": "@jupyter-widgets/base",
      "_view_module_version": "1.2.0",
      "_view_name": "StyleView",
      "description_width": ""
     }
    },
    "ee63825ccde44308b91a0d84339f22b2": {
     "model_module": "@jupyter-widgets/base",
     "model_module_version": "1.2.0",
     "model_name": "LayoutModel",
     "state": {
      "_model_module": "@jupyter-widgets/base",
      "_model_module_version": "1.2.0",
      "_model_name": "LayoutModel",
      "_view_count": null,
      "_view_module": "@jupyter-widgets/base",
      "_view_module_version": "1.2.0",
      "_view_name": "LayoutView",
      "align_content": null,
      "align_items": null,
      "align_self": null,
      "border": null,
      "bottom": null,
      "display": null,
      "flex": null,
      "flex_flow": null,
      "grid_area": null,
      "grid_auto_columns": null,
      "grid_auto_flow": null,
      "grid_auto_rows": null,
      "grid_column": null,
      "grid_gap": null,
      "grid_row": null,
      "grid_template_areas": null,
      "grid_template_columns": null,
      "grid_template_rows": null,
      "height": null,
      "justify_content": null,
      "justify_items": null,
      "left": null,
      "margin": null,
      "max_height": null,
      "max_width": null,
      "min_height": null,
      "min_width": null,
      "object_fit": null,
      "object_position": null,
      "order": null,
      "overflow": null,
      "overflow_x": null,
      "overflow_y": null,
      "padding": null,
      "right": null,
      "top": null,
      "visibility": null,
      "width": null
     }
    }
   }
  }
 },
 "nbformat": 4,
 "nbformat_minor": 0
}
