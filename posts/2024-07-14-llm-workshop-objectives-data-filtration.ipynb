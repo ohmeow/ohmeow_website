{
 "cells": [
  {
   "cell_type": "raw",
   "metadata": {
    "vscode": {
     "languageId": "raw"
    }
   },
   "source": [
    "---\n",
    "title: 'LLM Workshop #2 - From Noise to Knowledge: Mastering the Art of Objective Definition and Data Refinement”'\n",
    "image: images/blog-20240714/blog-20240714-logo.png\n",
    "author: Wayde Gilliam\n",
    "date: '2024-07-14'\n",
    "description: In generative NLP applications, the effectiveness of your model hinges on the quality and relevance of the contextual \n",
    "  data your provide it. Whether tailored to a specific use case or unique business domain, whether generated synthetically or pulled from \n",
    "  existing data sources, good contextual data is key for later curating a dataset that can be used in effective evaluation pipelines \n",
    "  and potential fine tuning. To get this right, you need to clearly define your objectives ... and that's what we will be talking about \n",
    "  in this post.\n",
    "\n",
    "categories:\n",
    "- NLP\n",
    "- LLMS\n",
    "- data cleaning\n",
    "- learning\n",
    "- projects\n",
    "\n",
    "toc: true\n",
    "hide: false\n",
    "search: true\n",
    "\n",
    "output-file: 2024-07-14-llm-workshop-objectives-data-filtration.html\n",
    "---\n",
    "\n"
   ]
  },
  {
   "cell_type": "markdown",
   "metadata": {},
   "source": [
    "## What Do You Want To Build and Should You Build It?\n",
    "\n",
    "If you want to avoid a lot of needless back-and-forth as you go through the process of curating datasets for evaluation and/or fine tuning, building your eval pipeleines, training models, and so forth, stop and ask yourself, \"What do I want to build and why?\". How you answer those questions will inform everything going forward!\n",
    "\n",
    "Why am I making a big deal about this?\n",
    "\n",
    "Simple, when I started ... I didn't do it.\n",
    "\n",
    "I had a general idea of building a tool calling system for work and just dove in, and as I would get into various aspects of development I'd be like, \"Hold on, this isn't right ... why am I trying to do this when all I really need is this?\" In the end, I had to start over a few times, and before the last time, I decided to go outside with the dogs and a good cup of coffee and **_really_** think about what I wanted to accomplish and why.\n",
    "\n",
    "Below is the result of that quiet time well spent.\n",
    "\n",
    "::: {.callout-tip}\n",
    "\n",
    "## Tip: Give your objectices a good think!\n",
    "\n",
    "It’s crucial to deeply consider what you aim to achieve and understand the reasons behind it. Reflecting on your objectives and motivations helps ensure that your efforts are purposeful and aligned with your aspirations. It will also help prevent you from needlessly starting over, as well as, give you confidence that what you \"think you want\" is realistic, useful, and will add value.\n",
    "\n",
    "Things to ask yourself:\n",
    "\n",
    "- What do you want the model to do for your end users?\n",
    "\n",
    "- Can you define specifically what the model is supposed to do, or is it so general that you find it difficult to scope or measure quality?\n",
    "\n",
    "- How diverse and varied does your data need to be to get the model to do what you want?\n",
    "\n",
    ":::\n"
   ]
  },
  {
   "cell_type": "markdown",
   "metadata": {},
   "source": [
    "## Objective Definition\n",
    "\n",
    "For this project I'll be building a system where a user can ask an AI to perform various NLP tasks on one or more text documents. These documents represent survey comments sourced from several kinds of surveys delievered in higher education institutions (e.g., staff, faculty, student satisfaction and engagement surveys). There are core tasks that I need to perform like machine translation and sentiment analysis, but I'd also like to build a system whereby a user can provide it their own tools focused on NLP and the system figure out how to use them correctly.\n"
   ]
  },
  {
   "cell_type": "markdown",
   "metadata": {},
   "source": [
    "### Version 1.0\n",
    "\n",
    "Currently I have a pipeline, that for every task, makes a call to GPT-4 for every document. I did this because I couldn't get good results by giving GPT several somewhat complex tools for it to use based on what the user asked. The tools would get called but the results weren't great. Evaluation has been left to the eyeballs of myself and other human data scientists, which of course isn't optimal either.\n",
    "\n",
    "Given that this current system is slow to process any substantial set of survey comments, relatively expensive given the number of calls to OpenAI I'm making, and doesn't have a real evaluation-first workflow ... I figured it was a good candidate for the course project. At the very least I could build an eval framework to really understand how well things were working and maybe fine tune a smaller model that could understand how to properly call all the tools to satisfy an end user's ask in a single go.\n"
   ]
  },
  {
   "cell_type": "markdown",
   "metadata": {},
   "source": [
    "### The Surface Area\n",
    "\n",
    "If your objectives are too general, for example a general purpose chatbot or even a general purpose tool calling machine, you are likely headed to some rough times. Considering my objective above, what can I infer about what I really want to build here?\n",
    "\n",
    "1. The model should use **NLP tools** for specifically understanding **survey comments from staff, students, and faculty in higher education**. These comments are sourced from a number of surveys delievered to higher education audiences all over the country\n",
    "\n",
    "2. **Some clients allow for their surveys to be taken into Spanish**, so the machine translation tool will need to be called initially for each of these comments so that the remaining tasks can be performed wholistically on English texts.\n",
    "\n",
    "3. Aside from machine translation, **the core tools consist of functions for sentiment analysis, NER, summarization, and thematic analysis.**\n",
    "\n",
    "4. **Each task operations on either whole survey comments or on semantically chunked comments** that need to be associated to a \"topic\" for thematic analysis.\n",
    "\n",
    "5. The **tools should be focused on performing NLP tasks well, particular in the business domain of survey comments in higher educational settings.**\n"
   ]
  },
  {
   "cell_type": "markdown",
   "metadata": {},
   "source": [
    "### Retrospective\n",
    "\n",
    "Considering the above, this system definitely needs a solid eval workflow but also presents a potential great argument for fine tuning.\n",
    "\n",
    "::: {.callout-tip}\n",
    "\n",
    "## Narrow domains are great for fine tuning\n",
    "\n",
    "The more specific and specialized the task and/or data, the more likely you are to find success in fine tuning\n",
    "\n",
    ":::\n",
    "\n",
    "Both the domain and tasks are very specific to higher education and NLP analysis in that setting, I have access to a lot of diverse data, and there is definite business value in creating a model that might reduce costs, speed up processing, and perform at the same level as GPT-4.\n",
    "\n",
    "Given all this, I feel pretty good about proceeding.\n"
   ]
  },
  {
   "cell_type": "markdown",
   "metadata": {},
   "source": [
    "## Data Refinement\n",
    "\n",
    "Based on my objectives, I need to chiefly be able to support two uses cases:\n",
    "\n",
    "1. **Tasks that need to be performed on a single document** (e.g., translation, summary, NER, sentiment). Traditionally we have only done sentiment on chunks because it is the chunks that are associated to topics and we want to report sentiment by topic. This still needs to happen but it might also be interesting to predict sentiment across the full comment as well.\n",
    "\n",
    "2. **Tasks that need to be performed on a collection of related documents** (.e.,g thematic analysis, topic sentiment).\n",
    "\n",
    "In this section we ask, \"How can I curate a set of survey comments and semantically related chunks that are varied enough to support these two use cases across all our survey clients?\"\n"
   ]
  },
  {
   "cell_type": "markdown",
   "metadata": {},
   "source": [
    "### Build Some Datasets\n",
    "\n",
    "I need a diverse set of documents from different survey clients, delivered to different audiences (staff, student, and faculty), and with a subset being in Spanish. I also need to clean up these documents so they are actually useful. If they are too short or represent useless statements like \"N/A\" or \"I don't know\", they probably won't be very helpful.\n",
    "\n",
    "I don't need to synthetically create any of the raw documents since I created the survey sytem and have access to the Microsoft SQL Server database it lies in.\n",
    "\n",
    "Thinking about the use cases I need to support, the following four datasets will be created:\n",
    "\n",
    "1. `_clean`: A cleaned up version of the raw document dataset\n",
    "\n",
    "2. `_sample_Xk`: A sample of `X` rows from `cleaned` (mine will end up to be roughly 14k survey comments)\n",
    "\n",
    "3. `_sample_Xk_chunked`: A properly chunked version of `_sample_Xk` that includes predicted topics as well.\n",
    "\n",
    "4. `_sample_Xk_topics`: The chunks associated to each topic\n",
    "\n",
    "Document analysis tasks will use a mix of datasets #2 and #3 so they can learn to operate of both full and chunked comments. Related document analysis will use dataset #4 for thematic analysis and sentiment.\n",
    "\n",
    "I am prohibited from sharing the actual data, but I can share the code I wrote to create these datasets for this project.\n"
   ]
  },
  {
   "cell_type": "markdown",
   "metadata": {},
   "source": [
    "#### Step 1: Cleanup\n",
    "\n",
    "I have almost 500k comments that span decades of surveys. Before building a representative sample, I want to remove those comments that aren't likely to be used or even of much use for NLP tasks. For example, comments that are too short or uninformative (e.g., like \"N/A\", or \"Great\") shouldn't be part of eval/training datasets. Preprocessing in version 1.0 takes these comments out in current pipeline so we'll do so here as well.\n",
    "\n",
    "After loading the full dataset and filtering on the columns I need to build up the datasets above, my DataFrame looks like this:\n",
    "![The raw data from the production DB](images/blog-20240714/raw-dataframe.png)\n",
    "\n",
    "In particular, we'll run the functions below to slim this dataset down and give us quality comments we can confidently use in building out our sampled datasets.\n"
   ]
  },
  {
   "cell_type": "markdown",
   "metadata": {},
   "source": [
    "##### A. Remove NaNs and Trim Whitespaces\n",
    "\n",
    "```python\n",
    "def init_document_preprocessing(df: pd.DataFrame, text_col: str):\n",
    "    \"\"\"Remove empty documents and clean up whitespace.\"\"\"\n",
    "    df = df.copy()\n",
    "\n",
    "    # Remove all rows where `text_attr` is Nan\n",
    "    df = df.dropna(subset=list(set([attr for attr in [text_col] if attr is not None])), how=\"all\")\n",
    "\n",
    "    # Remove all whitespace from `text_attr`, `language_attr`, `non_english_text_attr`\n",
    "    for attr in list(set([text_col, \"AnswerLang\"])):\n",
    "        if attr is not None:\n",
    "            df[attr] = df[attr].apply(lambda v: str(v).strip())\n",
    "\n",
    "    return df\n",
    "\n",
    "df = init_document_preprocessing(raw_df, text_col=\"AnswerText\")\n",
    "```\n"
   ]
  },
  {
   "cell_type": "markdown",
   "metadata": {},
   "source": [
    "##### B. Remove Duplicate Documents\n",
    "\n",
    "Duplicate comments won't be helpful and they definitely exist even within a single survey. For example, some users try to game the system by repeating the same comment thoughout the survey in hopes of making sure their points float to the top.\n",
    "\n",
    "```python\n",
    "def remove_duplicate_documents(df: pd.DataFrame, text_col: str):\n",
    "    \"\"\"Eliminate duplicate documents.\"\"\"\n",
    "    df = df.copy()\n",
    "    unique_attrs = [text_col]\n",
    "\n",
    "    # Remove duplicate rows (keeping the first instance)\n",
    "    return df.drop_duplicates(subset=unique_attrs).copy()\n",
    "\n",
    "df = remove_duplicate_documents(verbatims_df, text_col=\"AnswerText\")\n",
    "```\n"
   ]
  },
  {
   "cell_type": "markdown",
   "metadata": {},
   "source": [
    "##### C. Remove Duplicated Sentences\n",
    "\n",
    "The same folks above also like to try and game the system by repeating the same phrase over and over again. The below code does a decent job at eliminating a string of repetitive content.\n",
    "\n",
    "```python\n",
    "def remove_duplicate_sentences(text: str):\n",
    "    \"\"\"Remove duplicated sentences throughout an entire text sequence.\"\"\"\n",
    "    if text is None:\n",
    "        text = \"\"\n",
    "\n",
    "    text = re.sub(r\"(?<=[.!?])\\s*\", \" \", text)\n",
    "    sentences = nltk.sent_tokenize(text)\n",
    "    unique_sentences = list(dict.fromkeys(sentences))\n",
    "\n",
    "    # Tokenize the text into sentences and remove duplicates by converting to set and back to list\n",
    "    return \" \".join(unique_sentences)\n",
    "\n",
    "\n",
    "def remove_duplicate_sentences_in_documents(df: pd.DataFrame, text_col: str):\n",
    "    df = df.copy()\n",
    "    df[text_col] = df[text_col].apply(lambda v: remove_duplicate_sentences(v))\n",
    "    return df\n",
    "\n",
    "df = remove_duplicate_sentences_in_documents(verbatims_df, text_col=\"AnswerText\")\n",
    "```\n"
   ]
  },
  {
   "cell_type": "markdown",
   "metadata": {},
   "source": [
    "##### D. Remove Meaningless and Short Documents\n",
    "\n",
    "Comments that are too short or uninformative aren't helpful to any NLP tasks. The code below removes much of this based on my examination of the data and running classification models that predicts whether a comment `is_nonsense`.\n",
    "\n",
    "```python\n",
    "remove_texts = [\n",
    "    \"none\",\n",
    "    \"nothing\",\n",
    "    \"not sure\",\n",
    "    \"no suggestions\",\n",
    "    \"no comment\",\n",
    "    \"no comments\",\n",
    "    \"nothing to add\",\n",
    "    \"n/a\",\n",
    "    \"none at this time\",\n",
    "    \"no comments at all\",\n",
    "    \"see previous comment\",\n",
    "    \"not really\",\n",
    "]\n",
    "\n",
    "def is_bad_value(s, remove_texts=[]):\n",
    "    is_bad = False\n",
    "    for rt in remove_texts:\n",
    "        is_bad = bool(re.match(rf\"^{rt.lower().strip()}[!.,;:?]*$\", str(s).lower().strip()))\n",
    "        if is_bad:\n",
    "            break\n",
    "\n",
    "    return is_bad\n",
    "\n",
    "\n",
    "def remove_meaningless_documents(df, text_col: str):\n",
    "    df = df.copy()\n",
    "    df[text_col] = df[text_col].apply(lambda v: str(v) if v is not None and not is_bad_value(v, remove_texts) else \"\")\n",
    "    return df\n",
    "\n",
    "\n",
    "def remove_short_documents(df: pd.DataFrame, text_col: str, min_text_length: int = 5):\n",
    "    df = df.copy()\n",
    "    df = df[pd.notna(df[text_col]) & (df[text_col].str.len() >= min_text_length)]\n",
    "    return df\n",
    "\n",
    "df = remove_meaningless_documents(verbatims_df, text_col=\"AnswerText\")\n",
    "df = remove_short_documents(verbatims_df, text_col=\"AnswerText\")\n",
    "```\n"
   ]
  },
  {
   "cell_type": "markdown",
   "metadata": {},
   "source": [
    "That's it for dataset #1, let's save it\n",
    "\n",
    "```python\n",
    "df.to_parquet(f\"{DATA_DIR}/clean/documents_all.parquet\")\n",
    "```\n"
   ]
  },
  {
   "cell_type": "markdown",
   "metadata": {},
   "source": [
    "#### Step 2: Sample\n",
    "\n",
    "There are a lot of documents so we'll create a subset of < 15k with enough variation for meaningful scoring functions and finetunes\n"
   ]
  },
  {
   "cell_type": "markdown",
   "metadata": {},
   "source": [
    "##### A. Build a Representative Subset\n",
    "\n",
    "There are two core types of surveys, satisfaction and engagement. There are many more instances of the satisfaction surveys so we'll want to have more of those in our sampled dataset to mimic reality.\n",
    "\n",
    "```python\n",
    "filtered_df = df[(df[\"BenchmarkSurveyType\"].str.startswith(\"CSS-\"))]\n",
    "\n",
    "# Calculate the number of samples for each BenchmarkSurveyType\n",
    "sample_sizes = filtered_df[\"BenchmarkSurveyType\"].value_counts(normalize=True) * 10000\n",
    "sample_sizes = sample_sizes.round().astype(int)\n",
    "\n",
    "# Sample records proportionally with a bias towards longer comments\n",
    "sampled_df = pd.DataFrame()\n",
    "for survey_type, size in sample_sizes.items():\n",
    "    subset = filtered_df[filtered_df[\"BenchmarkSurveyType\"] == survey_type]\n",
    "    weights = subset[\"AnswerTextCharacterCount\"] / subset[\"AnswerTextCharacterCount\"].sum()\n",
    "    sampled_records = subset.sample(n=size, weights=weights, random_state=42)\n",
    "    sampled_df = pd.concat([sampled_df, sampled_records])\n",
    "\n",
    "# Reset index if needed\n",
    "sampled_df = sampled_df.reset_index(drop=True)\n",
    "\n",
    "# This gets us down to 10k examples of customer satisfaction like surveys.\n",
    "\n",
    "sampled_df = pd.concat([sampled_df, df[(df[\"BenchmarkSurveyType\"].str.startswith(\"SAW\"))]])\n",
    "\n",
    "# Adding in these staff engagement surveys get us to a total of almost 14k examples\n",
    "```\n"
   ]
  },
  {
   "cell_type": "markdown",
   "metadata": {},
   "source": [
    "##### B. Add in some Spanish Documents\n",
    "\n",
    "I lied when I said there was no syntetically generated data because we're going to use an LLM to generate some Spanish content from our English survey comments. We'll use one of my favorite libraries, <a href=\"https://www.langchain.com/\" target=\"_blank\">LangChain</a>, to generate 250 Spanish examples.\n",
    "\n",
    "```python\n",
    "class SpanishTranslation(BaseModel):\n",
    "    \"\"\"The translation of a document from English to Spanish.\"\"\"\n",
    "\n",
    "    spanish_translation: str = Field(..., description=\"The English tranlsation\")\n",
    "\n",
    "def get_openai_translation_messages(domain: str = \"survey comments\"):\n",
    "    system_msg = f\"You are a world class translator. Translate the English {domain} below to Spanish. Properly escape strings.\"\n",
    "    human_msg = \"{input}\"\n",
    "\n",
    "    prompt_msgs = [SystemMessage(content=system_msg), HumanMessagePromptTemplate.from_template(human_msg)]\n",
    "    return prompt_msgs\n",
    "\n",
    "llm = ChatOpenAI(model=\"gpt-4\")\n",
    "messages = get_openai_translation_messages()\n",
    "\n",
    "prompt = ChatPromptTemplate(messages=messages)\n",
    "functions = [convert_to_openai_function(SpanishTranslation)]\n",
    "\n",
    "chain = prompt | llm.bind(function_call={\"name\": SpanishTranslation.__name__}, functions=functions) | JsonOutputFunctionsParser()\n",
    "\n",
    "spanish_sample_df = sampled_df.sample(250, random_state=9)\n",
    "\n",
    "spanish_translations = []\n",
    "for r_idx, r in spanish_sample_df.iterrows():\n",
    "    rsp = chain.invoke({\"input\": str(r[\"AnswerText\"])})\n",
    "    spanish_translations.append(rsp[\"spanish_translation\"])\n",
    "\n",
    "sampled_df[\"AnswerText_NonEnglish\"] = None\n",
    "sampled_df[\"AnswerLang\"] = \"English\"\n",
    "\n",
    "spanish_sample_df[\"AnswerText_NonEnglish\"] = spanish_translations\n",
    "spanish_sample_df[\"AnswerLang\"] = \"Spanish\"\n",
    "\n",
    "# Set 'MLVerbatId' as the index for both DataFrames\n",
    "sampled_df.set_index(\"MLVerbatimId\", inplace=True)\n",
    "spanish_sample_df.set_index(\"MLVerbatimId\", inplace=True)\n",
    "\n",
    "# Update df1 with values from df2\n",
    "sampled_df.update(spanish_sample_df)\n",
    "\n",
    "# Reset index if needed\n",
    "sampled_df.reset_index(inplace=True)\n",
    "```\n"
   ]
  },
  {
   "cell_type": "markdown",
   "metadata": {},
   "source": [
    "That's it for dataset #2, let's save it\n",
    "\n",
    "```python\n",
    "df.to_parquet(f\"{DATA_DIR}/clean/documents_sample_14k.parquet\")\n",
    "```\n"
   ]
  },
  {
   "cell_type": "markdown",
   "metadata": {},
   "source": [
    "#### Step 3: Chunk\n",
    "\n",
    "The core thematic analysis task we need to support operates on semantically related survey comment \"chunks\". In addition to predicting themes for these collections, we also need to report the sentiment for each chunk so that we can visualize sentiment as it relates to each topic.\n",
    "\n",
    "We'll use the <a href=\"https://github.com/aurelio-labs/semantic-chunkers\" target=\"\\_blank\">semantic-chunkers</a> library to build semantically related chunks which is something the current pipeline doesn't use yet, but makes a lot of sense to me after exploring chunking in depth over the past few months or so. I really like this library and it comes with some nifty visualization capabilities for tuning its hyperparameters.\n",
    "\n",
    "Chunking can be somewhat complex and use case specific, but for the puposes of survey comments we are usually working with paragraphs and sentences sometimes containing bullet points to further deliniate different topics. Given this, I've asked chatGPT about general token usage for English paragraphs and sentences to set a few of these hyperparameters and do some basic preliminary chunking before using the `semantic-chunkers` library.\n",
    "\n",
    "According to chatGPT, the average number of characters in an English sentence and paragraph can vary based on factors such as writing style, purpose, and medium. However, general estimates are as follows:\n",
    "\n",
    "1. **Average Characters in an English Sentence:**\n",
    "\n",
    "   - An average English sentence typically contains around 15 to 20 words.\n",
    "   - Assuming an average word length of 5 characters (including spaces and punctuation), an average sentence would be approximately 75 to 100 characters.\n",
    "\n",
    "2. **Average Characters in an English Paragraph:**\n",
    "   - An average English paragraph usually contains about 3 to 5 sentences.\n",
    "   - Using the upper bound of 5 sentences and assuming each sentence is 100 characters, an average paragraph would be around 300 to 500 characters.\n",
    "\n",
    "These averages can fluctuate based on the type of text (e.g., academic writing, casual writing, technical documentation) and individual writing styles but it seems reasonable to assume on average:\n",
    "\n",
    "- A min sentence has 15 \\* 1.5 = 23 tokens\n",
    "- A max paragrpah as 20 _ 5 _ 1.5 = 150 tokens\n",
    "\n",
    "If you're interested in learning about the `semantic-chunkers`, check out these resources:\n",
    "\n",
    "<a href=\"https://github.com/aurelio-labs/semantic-chunkers/blob/main/docs/00-chunkers-intro.ipynb\" target=\"\\_blank\">Semantic Chunkers Into (Colab)</a>\n",
    "\n",
    "<a href=\"https://www.youtube.com/watch?v=TcRRfcbsApw\" target=\"\\_blank\">Semantic Chunking for RAG (James Briggs)</a>\n"
   ]
  },
  {
   "cell_type": "markdown",
   "metadata": {},
   "source": [
    "##### A. Preliminary Chunking\n",
    "\n",
    "We start with the assumption that paragraphs likely represent distinct topics a user is trying to get at in any given survey comment. If there are bullet points, regardless of format, we also assume that each of these likely represent a distinct idea or \"chunk.\" Given this, we will do some initial chunking based on those assumptions.\n",
    "\n",
    "Also, I have and continue to look at a lot of this data, so they aren't really assumptions as much as they simply reflect what I see.\n",
    "\n",
    "```python\n",
    "def chunk_paragraphs(text):\n",
    "    paragraphs = re.split(\n",
    "        \"\\n\\n|\\r\\n|\\\\\\\\n\\\\\\\\n|\\\\\\\\r\\\\\\\\n|\" + r\"\\\\n\\s*[-•*o]|\\\\n\\s*\\d+[.)]\", text\n",
    "    )  # text.split(\"\\n\\n\")  # Split text by double line breaks to identify paragraphs\n",
    "\n",
    "    return [chunk.strip() for chunk in paragraphs if len(chunk.strip()) > 4]\n",
    "\n",
    "def chunk_texts(df: pd.DataFrame):\n",
    "    \"\"\"Chunk the paragraphs keeping any bullet points alongside their context.\"\"\"\n",
    "    df = df.copy()\n",
    "\n",
    "    df.insert(1, \"_seq\", df[\"AnswerText\"].apply(lambda v: chunk_paragraphs(v)))\n",
    "\n",
    "    df = df.explode(\"_seq\").reset_index(drop=True)\n",
    "    df[\"_seq\"] = df[\"_seq\"].str.strip()\n",
    "    df.insert(2, \"_seq_id\", df.groupby([\"MLVerbatimId\"]).cumcount())\n",
    "    df[\"_seq_length\"] = df[\"_seq\"].str.len()\n",
    "\n",
    "    return df\n",
    "\n",
    "def remove_bullet_points(text):\n",
    "    return re.sub(r\"(^|\\n)\\s*[-•*o]\\s*|\\n\\s*\\d+[.)]\\s*\", \" \", text).strip()\n",
    "\n",
    "chunked_df = chunk_texts(sampled_df)\n",
    "chunked_df[\"_seq\"] = chunked_df[\"_seq\"].apply(remove_bullet_points)\n",
    "```\n"
   ]
  },
  {
   "cell_type": "markdown",
   "metadata": {},
   "source": [
    "##### B. Semantic Chunking\n",
    "\n",
    "From the `semantic-chunkers` intro notebook mentioned above:\n",
    "\n",
    "> The statistical chunking method our most robust chunking method, it uses a varying similarity threshold to identify more dynamic and local similarity splits. It offers a good balance between accuracy and efficiency but can only be used for text documents (unlike the multi-modal ConsecutiveChunker).\n",
    "\n",
    "> The StatisticalChunker can automatically identify a good threshold value to use while chunking our text, so it tends to require less customization than our other chunkers.\n",
    "\n",
    "I did some review of specific examples and played with the hyperparameters to get what looked like decent results. Here is what I came up with ultimately for perform the final chunking of the dataset.\n",
    "\n",
    "```python\n",
    "encoder = HuggingFaceEncoder(name=\"thenlper/gte-large\")\n",
    "\n",
    "chunker = StatisticalChunker(\n",
    "    encoder=encoder,\n",
    "    threshold_adjustment=0.01,\n",
    "    dynamic_threshold=True,\n",
    "    window_size=5,  # 5,\n",
    "    min_split_tokens=23,  # 100,\n",
    "    max_split_tokens=300,  # 500\n",
    "    split_tokens_tolerance=10,\n",
    "    plot_chunks=False,\n",
    "    enable_statistics=False,\n",
    ")\n",
    "\n",
    "def get_semantic_chunks(txt: str, min_chars_to_chunk: int = 90):\n",
    "    try:\n",
    "        if len(txt.strip()) < min_chars_to_chunk:\n",
    "            return [txt.strip()]\n",
    "        chunks = chunker(docs=[txt])\n",
    "        return [chunk.content.strip() for chunk in chunks[0]]\n",
    "    except Exception as e:\n",
    "        return [txt.strip()]\n",
    "\n",
    "\n",
    "seqs = chunked_df[\"_seq\"].values.tolist()\n",
    "chunked_docs = []\n",
    "for seq in tqdm(seqs):\n",
    "    chunked_docs.append(get_semantic_chunks(seq))\n",
    "\n",
    "chunked_df.insert(1, \"_chunk\", chunked_docs)\n",
    "chunked_df = chunked_df.explode(\"_chunk\").reset_index(drop=True)\n",
    "chunked_df[\"_chunk\"] = chunked_df[\"_chunk\"].str.strip()\n",
    "chunked_df.insert(2, \"_chunk_id\", chunked_df.groupby([\"MLVerbatimId\", \"_seq_id\"]).cumcount())\n",
    "chunked_df[\"_chunk_length\"] = chunked_df[\"_chunk\"].str.len()\n",
    "```\n"
   ]
  },
  {
   "cell_type": "markdown",
   "metadata": {},
   "source": [
    "##### C. Use `BertTopic` Associate Each Chunk To A Topic\n",
    "\n",
    "I'm not going to go into the specifics of this step since I don't get detract from the focuse of this article anymore than I likely already have. Suffice to say, I use <a href=\"https://maartengr.github.io/BERTopic/index.html\" target=\"\\_blank\">BERTopic</a> to create and assign topics to each \"chunk\". This is another great and feature rich library that I've been using for a few years.\n",
    "\n",
    "The artifact produced at the conclusion of this step is a DataFrame with topic identiferis associated to each `_chunk`. It looks like this:\n",
    "![The chunked dataset with topic identifiers](images/blog-20240714/raw-chunked-df.png)\n"
   ]
  },
  {
   "cell_type": "markdown",
   "metadata": {},
   "source": [
    "That's it for dataset #3, let's save it\n",
    "\n",
    "```python\n",
    "chunked_df.to_parquet(f\"{DATA_DIR}/clean/documents_sample_14k_chunked.parquet\")\n",
    "```\n"
   ]
  },
  {
   "cell_type": "markdown",
   "metadata": {},
   "source": [
    "#### Step 4: Topic Summaries\n",
    "\n",
    "We need to evaluate the ability for the model to summarize and define action plans for related \"chunks\" as identified by a topic model. We'll use the chunked dataset create above to put something together we can use to predict/evaluate the themes and action plans we assign to topics.\n",
    "\n",
    "Fortunately for you, the reader, there isn't alot of code to make this happen :)\n"
   ]
  },
  {
   "cell_type": "markdown",
   "metadata": {},
   "source": [
    "```python\n",
    "topics_df = chunked_df.copy()\n",
    "\n",
    "cols = [\"pred_theme_id\", \"pred_orig_theme_name\"]\n",
    "\n",
    "topics_df[\"pred_theme_id\"] = topics_df[\"pred_theme_id\"].astype(int)\n",
    "topics_df[\"_chunk\"] = topics_df[\"_chunk\"].astype(str)\n",
    "\n",
    "summaries_df = topics_df.groupby(by=cols)[\"_chunk\"].agg(list).reset_index()\n",
    "```\n"
   ]
  },
  {
   "cell_type": "markdown",
   "metadata": {},
   "source": [
    "That's it for dataset #4, let's save it\n",
    "\n",
    "```python\n",
    "summaries_df.to_parquet(f\"{DATA_DIR}/clean/documents_sample_14k_topics.parquet\")\n",
    "```\n"
   ]
  },
  {
   "cell_type": "markdown",
   "metadata": {},
   "source": [
    "## Next Steps\n"
   ]
  },
  {
   "cell_type": "markdown",
   "metadata": {},
   "source": [
    "With some high quality context, we'll move on to getting a \"vibe check\" for how likely what we want to build is possible by seeing what kinds of structured outputs we get when using the big dogs. In particular we'll be running some tests with OpenAI, Anthropic, Fireworks, and Replicate to develop a good intutition of how well to expect things might work with both closed and open source models.\n",
    "\n",
    "Again, I'm using <a href=\"https://github.com/parlance-labs/ftcourse\" target=\"\\_blank\">Hamel's ftcourse repo</a> as a general guide for building this project out so make sure to check it out as y'all start your own journeys. The topic in this blog post isn't necessarily covered in any of his notebooks so consider this the `00` notebook that is more or less implied in the course.\n",
    "\n",
    "Also, I welcome any ideas on improving anything and everything presented above. Especially if you notice any really egregious and glaring errors in my thinking or workflow, I'd defintely appreciate your thoughts. Either way, thanks for reading to the end :)\n"
   ]
  },
  {
   "cell_type": "markdown",
   "metadata": {},
   "source": []
  }
 ],
 "metadata": {
  "accelerator": "GPU",
  "colab": {
   "collapsed_sections": [],
   "name": "2022-04-12-ajtfb-chapter-9.ipynb",
   "provenance": []
  },
  "kernelspec": {
   "display_name": "Python 3.10.8 ('ohmeow_website')",
   "language": "python",
   "name": "python3"
  },
  "language_info": {
   "name": "python",
   "version": "3.12.3"
  },
  "vscode": {
   "interpreter": {
    "hash": "9eb9bda8f49c57e6addc88daf9eb4f6c227a77e767b644e5d20488a497d532a2"
   }
  }
 },
 "nbformat": 4,
 "nbformat_minor": 0
}
