{
 "cells": [
  {
   "cell_type": "raw",
   "metadata": {},
   "source": [
    "---\n",
    "aliases:\n",
    "- /bag of tricks/classification/computer vision/fastai/fastbook/techniques/2022/03/28/ajtfb-chapter-7\n",
    "author: Wayde Gilliam\n",
    "badges: true\n",
    "branch: master\n",
    "categories:\n",
    "- fastai\n",
    "- fastbook\n",
    "- classification\n",
    "- computer vision\n",
    "- techniques\n",
    "- bag of tricks\n",
    "date: '2022-03-28'\n",
    "description: This chapter of [\\\"Deep Learning for Coders with fastai & PyTorch\\\"](https://github.com/fastai/fastbook) details several \n",
    "  techniques you can apply to getting SOTA results with your image classification models! It's the last chapter dedicated to computer \n",
    "  vision before diving into colloborate filtering, tabular, and NLP models\n",
    "hide: false\n",
    "hide_binder_badge: true\n",
    "image: images/fastbook.jpg\n",
    "output-file: 2022-03-28-ajtfb-chapter-7.html\n",
    "search_exclude: false\n",
    "title: 'A Journey Through Fastbook (AJTFB) - Chapter 7: Advanced techniques for training image classification models'\n",
    "toc: true\n",
    "\n",
    "---\n",
    "\n"
   ]
  },
  {
   "cell_type": "markdown",
   "metadata": {
    "id": "WfcRNESotGLU"
   },
   "source": [
    "Other posts in this series:  \n",
    "[A Journey Through Fastbook (AJTFB) - Chapter 1](2020-11-06-ajtfb-chapter-1.ipynb)  \n",
    "[A Journey Through Fastbook (AJTFB) - Chapter 2](2020-11-16-ajtfb-chapter-2.ipynb)  \n",
    "[A Journey Through Fastbook (AJTFB) - Chapter 3](2020-11-22-ajtfb-chapter-3.ipynb)  \n",
    "[A Journey Through Fastbook (AJTFB) - Chapter 4](2021-05-23-ajtfb-chapter-4.ipynb)  \n",
    "[A Journey Through Fastbook (AJTFB) - Chapter 5](2021-06-03-ajtfb-chapter-5.ipynb)  \n",
    "[A Journey Through Fastbook (AJTFB) - Chapter 6a](2021-06-10-ajtfb-chapter-6-multilabel.ipynb)  \n",
    "[A Journey Through Fastbook (AJTFB) - Chapter 6b](2022-02-09-ajtfb-chapter-6-regression.ipynb)  \n",
    "[A Journey Through Fastbook (AJTFB) - Chapter 8](2022-03-31-ajtfb-chapter-8.ipynb)    \n",
    "[A Journey Through Fastbook (AJTFB) - Chapter 9](2022-04-25-ajtfb-chapter-9.ipynb)    "
   ]
  },
  {
   "cell_type": "code",
   "execution_count": null,
   "metadata": {
    "id": "gWxCOulE-ACJ"
   },
   "outputs": [],
   "source": [
    "#| include: false\n",
    "! pip install fastai -Uqq"
   ]
  },
  {
   "cell_type": "code",
   "execution_count": null,
   "metadata": {
    "id": "lGlBrkfiY71Q"
   },
   "outputs": [],
   "source": [
    "#| include: false\n",
    "def plot_function(f, tx=None, ty=None, title=None, min=-2, max=2, figsize=(6,4)):\n",
    "    x = torch.linspace(min,max)\n",
    "    fig,ax = plt.subplots(figsize=figsize)\n",
    "    ax.plot(x,f(x))\n",
    "    if tx is not None: ax.set_xlabel(tx)\n",
    "    if ty is not None: ax.set_ylabel(ty)\n",
    "    if title is not None: ax.set_title(title)"
   ]
  },
  {
   "cell_type": "markdown",
   "metadata": {
    "id": "Xn6OyriNApwH"
   },
   "source": [
    "---\n",
    "\n",
    "## Imagenette\n",
    "\n",
    "The **Imagenette** is a subset of the **ImageNet** dataset that \"contains a subset of 10 very different categories from the orginal ImageNet dataset, making for quicker training when we want to experiment\" \n",
    "\n",
    "\n",
    ":::{.callout-tip}\n",
    "\n",
    "Start with small datasets and models for initial experimentation and prototyping. Both will allow you to iterate over your experiments more quickly and verify your code works from beginning to end without having to wait hours for your training/validation loops to finish. \"You should aim to have an iteration speed of no more than a couple of minutes .... *If it's taking longer to do an experiment, think about how you could cut down your dataset, or simply your model, to improve your experimentation speed.*\"\n",
    "\n",
    ":::"
   ]
  },
  {
   "cell_type": "code",
   "execution_count": null,
   "metadata": {
    "id": "Nz1Kfy7Djvc6"
   },
   "outputs": [],
   "source": [
    "from fastai.vision.all import *\n",
    "path = untar_data(URLs.IMAGENETTE)"
   ]
  },
  {
   "cell_type": "markdown",
   "metadata": {
    "id": "hDqyb9CYkDR6"
   },
   "source": [
    "---\n",
    "\n",
    "## Tip 1: Use the \"presizing trick\"\n",
    "\n",
    "See chapter 5, pp.189-191.  The idea here is to first crop the image **so that further augmentations can be applied without creating empty space** (via `item_tfms`), with further augmentations being applied on the GPU on batches of images for speed (via `batch_tfms`).  \n",
    "\n",
    "On the training set, the initial crop area is chosen randomly with the size set to cover the entire width/height of the image with random crop and other augmentations done on the GPU.\n",
    "\n",
    "On the validation set, a center square is always used in the first step and only a resize is applied on the GPU to get the image width/height equal to the final size needed."
   ]
  },
  {
   "cell_type": "code",
   "execution_count": null,
   "metadata": {
    "id": "gc6lEuzYj_jh"
   },
   "outputs": [],
   "source": [
    "dblock = DataBlock(\n",
    "    blocks=(ImageBlock(), CategoryBlock()),\n",
    "    get_items = get_image_files,\n",
    "    get_y = parent_label,\n",
    "    item_tfms = Resize(460),\n",
    "    batch_tfms = aug_transforms(size=224, min_scale=0.75)\n",
    ")\n",
    "\n",
    "dls = dblock.dataloaders(path, bs=64)"
   ]
  },
  {
   "cell_type": "markdown",
   "metadata": {
    "id": "yoBHs0wwbqG6"
   },
   "source": [
    "---\n",
    "\n",
    "## Tip 2: Create a \"baseline\"\n",
    "\n",
    ":::{.callout-note}\n",
    "\n",
    "we are ***not*** using a pretrained model here, we are training one from scratch.\n",
    "\n",
    ":::\n"
   ]
  },
  {
   "cell_type": "code",
   "execution_count": null,
   "metadata": {
    "colab": {
     "base_uri": "https://localhost:8080/",
     "height": 206
    },
    "id": "geCms8IQGW8m",
    "outputId": "21e8d6b8-156d-41b6-81bf-da6be73f8166"
   },
   "outputs": [
    {
     "data": {
      "text/html": [
       "\n",
       "<style>\n",
       "    /* Turns off some styling */\n",
       "    progress {\n",
       "        /* gets rid of default border in Firefox and Opera. */\n",
       "        border: none;\n",
       "        /* Needs to be in here for Safari polyfill so background images work as expected. */\n",
       "        background-size: auto;\n",
       "    }\n",
       "    .progress-bar-interrupted, .progress-bar-interrupted::-webkit-progress-bar {\n",
       "        background: #F44336;\n",
       "    }\n",
       "</style>\n"
      ],
      "text/plain": [
       "<IPython.core.display.HTML object>"
      ]
     },
     "metadata": {},
     "output_type": "display_data"
    },
    {
     "data": {
      "text/html": [
       "<table border=\"1\" class=\"dataframe\">\n",
       "  <thead>\n",
       "    <tr style=\"text-align: left;\">\n",
       "      <th>epoch</th>\n",
       "      <th>train_loss</th>\n",
       "      <th>valid_loss</th>\n",
       "      <th>accuracy</th>\n",
       "      <th>time</th>\n",
       "    </tr>\n",
       "  </thead>\n",
       "  <tbody>\n",
       "    <tr>\n",
       "      <td>0</td>\n",
       "      <td>1.654316</td>\n",
       "      <td>4.794844</td>\n",
       "      <td>0.320015</td>\n",
       "      <td>05:21</td>\n",
       "    </tr>\n",
       "    <tr>\n",
       "      <td>1</td>\n",
       "      <td>1.217274</td>\n",
       "      <td>1.211676</td>\n",
       "      <td>0.612024</td>\n",
       "      <td>05:19</td>\n",
       "    </tr>\n",
       "    <tr>\n",
       "      <td>2</td>\n",
       "      <td>0.964628</td>\n",
       "      <td>1.417025</td>\n",
       "      <td>0.617252</td>\n",
       "      <td>05:06</td>\n",
       "    </tr>\n",
       "    <tr>\n",
       "      <td>3</td>\n",
       "      <td>0.736836</td>\n",
       "      <td>0.677910</td>\n",
       "      <td>0.787155</td>\n",
       "      <td>05:12</td>\n",
       "    </tr>\n",
       "    <tr>\n",
       "      <td>4</td>\n",
       "      <td>0.596578</td>\n",
       "      <td>0.539180</td>\n",
       "      <td>0.833831</td>\n",
       "      <td>05:05</td>\n",
       "    </tr>\n",
       "  </tbody>\n",
       "</table>"
      ],
      "text/plain": [
       "<IPython.core.display.HTML object>"
      ]
     },
     "metadata": {},
     "output_type": "display_data"
    }
   ],
   "source": [
    "model = xresnet50()\n",
    "learn = Learner(dls, model, loss_func=CrossEntropyLossFlat(), metrics=accuracy)\n",
    "learn.fit_one_cycle(5, 3e-3)"
   ]
  },
  {
   "cell_type": "markdown",
   "metadata": {
    "id": "LaEMinigoHFe"
   },
   "source": [
    "---\n",
    "\n",
    "## Tip 3: Normalize your data\n",
    "\n",
    ":::{.callout-tip}\n",
    "\n",
    "\"When training a model, it helps if your input data is *normalized* - this is, **has a mean of 0 and a standard deviation of 1**.\"\"\n",
    "\n",
    ":::\n",
    "\n",
    "For images we do this over each channel (the 1 dimension) but averaging over all axes with the exception of the channel axis.  In fastai, we can utilize the **`Normalize`** transform to apply this a batch at a time.  \n",
    "\n",
    "\n",
    ":::{.callout-important}\n",
    "\n",
    "If we don't tell this transform what mean/std to use, \"fastai will automatically calculate them from a single batch of your data\"\n",
    "\n",
    ":::\n",
    "\n",
    "\n",
    ":::{.callout-important}\n",
    "\n",
    "If we are using ImageNet images, we can use `imagenet_stats` instead of calculating the mean/std ourselves).\n",
    "\n",
    ":::"
   ]
  },
  {
   "cell_type": "code",
   "execution_count": null,
   "metadata": {
    "colab": {
     "base_uri": "https://localhost:8080/"
    },
    "id": "8jnVoELsoneg",
    "outputId": "630e0453-3ac1-476f-dfa1-e6ce0c0759c3"
   },
   "outputs": [
    {
     "data": {
      "text/plain": [
       "(TensorImage([0.4518, 0.4554, 0.4344], device='cuda:0'),\n",
       " TensorImage([0.2868, 0.2783, 0.2998], device='cuda:0'))"
      ]
     },
     "execution_count": 7,
     "metadata": {},
     "output_type": "execute_result"
    }
   ],
   "source": [
    "# an example of normalization calculated on a batch of images\n",
    "# (because we aren't using normalization yet, you'll see the mean and standard deviation are not very close to\n",
    "# 0 and 1 respectively)\n",
    "x, y = dls.one_batch()\n",
    "\n",
    "x.mean(dim=[0,2,3]), x.std(dim=[0,2,3])"
   ]
  },
  {
   "cell_type": "code",
   "execution_count": null,
   "metadata": {
    "id": "3PG64aXDpt2F"
   },
   "outputs": [],
   "source": [
    "def get_dls(batch_size, image_size):\n",
    "  dblock = DataBlock(\n",
    "      blocks=(ImageBlock(), CategoryBlock()),\n",
    "      get_items = get_image_files,\n",
    "      get_y = parent_label,\n",
    "      item_tfms = Resize(460),\n",
    "      batch_tfms = [*aug_transforms(size=image_size, min_scale=0.75), Normalize.from_stats(*imagenet_stats)]\n",
    "  )\n",
    "\n",
    "  dls = dblock.dataloaders(path, bs=batch_size)\n",
    "  return dls"
   ]
  },
  {
   "cell_type": "code",
   "execution_count": null,
   "metadata": {
    "colab": {
     "base_uri": "https://localhost:8080/",
     "height": 224
    },
    "id": "YiSuZmDCqLLH",
    "outputId": "a5ef96de-aff0-47d5-9412-8bb2088ef77a"
   },
   "outputs": [
    {
     "name": "stdout",
     "output_type": "stream",
     "text": [
      "TensorImage([-0.0816, -0.0114,  0.0695], device='cuda:0') TensorImage([1.1806, 1.1762, 1.2825], device='cuda:0')\n"
     ]
    },
    {
     "data": {
      "text/html": [
       "\n",
       "<style>\n",
       "    /* Turns off some styling */\n",
       "    progress {\n",
       "        /* gets rid of default border in Firefox and Opera. */\n",
       "        border: none;\n",
       "        /* Needs to be in here for Safari polyfill so background images work as expected. */\n",
       "        background-size: auto;\n",
       "    }\n",
       "    .progress-bar-interrupted, .progress-bar-interrupted::-webkit-progress-bar {\n",
       "        background: #F44336;\n",
       "    }\n",
       "</style>\n"
      ],
      "text/plain": [
       "<IPython.core.display.HTML object>"
      ]
     },
     "metadata": {},
     "output_type": "display_data"
    },
    {
     "data": {
      "text/html": [
       "<table border=\"1\" class=\"dataframe\">\n",
       "  <thead>\n",
       "    <tr style=\"text-align: left;\">\n",
       "      <th>epoch</th>\n",
       "      <th>train_loss</th>\n",
       "      <th>valid_loss</th>\n",
       "      <th>accuracy</th>\n",
       "      <th>time</th>\n",
       "    </tr>\n",
       "  </thead>\n",
       "  <tbody>\n",
       "    <tr>\n",
       "      <td>0</td>\n",
       "      <td>1.701530</td>\n",
       "      <td>1.856552</td>\n",
       "      <td>0.468633</td>\n",
       "      <td>05:07</td>\n",
       "    </tr>\n",
       "    <tr>\n",
       "      <td>1</td>\n",
       "      <td>1.280709</td>\n",
       "      <td>1.384676</td>\n",
       "      <td>0.573562</td>\n",
       "      <td>05:05</td>\n",
       "    </tr>\n",
       "    <tr>\n",
       "      <td>2</td>\n",
       "      <td>1.007325</td>\n",
       "      <td>1.073023</td>\n",
       "      <td>0.656460</td>\n",
       "      <td>05:06</td>\n",
       "    </tr>\n",
       "    <tr>\n",
       "      <td>3</td>\n",
       "      <td>0.762624</td>\n",
       "      <td>0.666320</td>\n",
       "      <td>0.784541</td>\n",
       "      <td>05:06</td>\n",
       "    </tr>\n",
       "    <tr>\n",
       "      <td>4</td>\n",
       "      <td>0.606407</td>\n",
       "      <td>0.573812</td>\n",
       "      <td>0.823376</td>\n",
       "      <td>05:02</td>\n",
       "    </tr>\n",
       "  </tbody>\n",
       "</table>"
      ],
      "text/plain": [
       "<IPython.core.display.HTML object>"
      ]
     },
     "metadata": {},
     "output_type": "display_data"
    }
   ],
   "source": [
    "dls = get_dls(64, 224)\n",
    "\n",
    "# an example of normalization calculated on a batch of images\n",
    "# (because we are using normalization now, the mean and standard deviation are very close to 0 and 1 respectively)\n",
    "x, y = dls.one_batch()\n",
    "print(x.mean(dim=[0,2,3]), x.std(dim=[0,2,3]))\n",
    "\n",
    "# does this normalization improve our model? Let's see ...\n",
    "model = xresnet50()\n",
    "learn = Learner(dls, model, loss_func=CrossEntropyLossFlat(), metrics=accuracy)\n",
    "learn.fit_one_cycle(5, 3e-3)"
   ]
  },
  {
   "cell_type": "markdown",
   "metadata": {
    "id": "DOZUVfllq78D"
   },
   "source": [
    ":::{.callout-important}\n",
    "\n",
    "\"... when you distribute a model, you need to also distribute the statistics used for normalization, since anyone using it for inference or transfer learning will need to use the same statistics .... **If you're using a model that someone else has trained, make sure you find out what normalization statistics they used and match them.**\"\n",
    "\n",
    ":::"
   ]
  },
  {
   "cell_type": "markdown",
   "metadata": {
    "id": "RGuADSOdtARd"
   },
   "source": [
    "---\n",
    "\n",
    "## Tip 4: Use \"progressive resizing\"\n",
    "\n",
    "\"... start training using small images, and end training using large images. **Spending most of the epochs training with small images helps training complete faster**.\"\n",
    "\n",
    "\n",
    ":::{.callout-note}\n",
    "\n",
    "Think of this as a form of ***transfer learning***\n",
    "\n",
    ":::\n",
    "\n",
    "\n",
    "\"... **the kinds of features that are learned by convolutional neural networks are not in any way specific to the size of the image** .... So, when we change the image size in the middle of training, it doesn't mean that we have to find totally different parameters for our model.\"\n",
    "\n",
    "\n",
    ":::{.callout-note}\n",
    "\n",
    "\"Progressive resizing has an additional benefit: it is another form of data augmentation. Therefore, you should expect to see better generalization\"\n",
    "\n",
    ":::"
   ]
  },
  {
   "cell_type": "code",
   "execution_count": null,
   "metadata": {
    "colab": {
     "base_uri": "https://localhost:8080/",
     "height": 428
    },
    "id": "zOTNu6euuaun",
    "outputId": "06f07856-897c-41b1-9ac1-c0579d7457c2"
   },
   "outputs": [
    {
     "data": {
      "text/html": [
       "\n",
       "<style>\n",
       "    /* Turns off some styling */\n",
       "    progress {\n",
       "        /* gets rid of default border in Firefox and Opera. */\n",
       "        border: none;\n",
       "        /* Needs to be in here for Safari polyfill so background images work as expected. */\n",
       "        background-size: auto;\n",
       "    }\n",
       "    .progress-bar-interrupted, .progress-bar-interrupted::-webkit-progress-bar {\n",
       "        background: #F44336;\n",
       "    }\n",
       "</style>\n"
      ],
      "text/plain": [
       "<IPython.core.display.HTML object>"
      ]
     },
     "metadata": {},
     "output_type": "display_data"
    },
    {
     "data": {
      "text/html": [
       "<table border=\"1\" class=\"dataframe\">\n",
       "  <thead>\n",
       "    <tr style=\"text-align: left;\">\n",
       "      <th>epoch</th>\n",
       "      <th>train_loss</th>\n",
       "      <th>valid_loss</th>\n",
       "      <th>accuracy</th>\n",
       "      <th>time</th>\n",
       "    </tr>\n",
       "  </thead>\n",
       "  <tbody>\n",
       "    <tr>\n",
       "      <td>0</td>\n",
       "      <td>1.848093</td>\n",
       "      <td>1.582196</td>\n",
       "      <td>0.526512</td>\n",
       "      <td>03:02</td>\n",
       "    </tr>\n",
       "    <tr>\n",
       "      <td>1</td>\n",
       "      <td>1.297791</td>\n",
       "      <td>1.205059</td>\n",
       "      <td>0.616878</td>\n",
       "      <td>03:01</td>\n",
       "    </tr>\n",
       "    <tr>\n",
       "      <td>2</td>\n",
       "      <td>0.985249</td>\n",
       "      <td>1.022758</td>\n",
       "      <td>0.690067</td>\n",
       "      <td>02:55</td>\n",
       "    </tr>\n",
       "    <tr>\n",
       "      <td>3</td>\n",
       "      <td>0.762485</td>\n",
       "      <td>0.688779</td>\n",
       "      <td>0.787155</td>\n",
       "      <td>02:53</td>\n",
       "    </tr>\n",
       "  </tbody>\n",
       "</table>"
      ],
      "text/plain": [
       "<IPython.core.display.HTML object>"
      ]
     },
     "metadata": {},
     "output_type": "display_data"
    },
    {
     "data": {
      "text/html": [
       "\n",
       "<style>\n",
       "    /* Turns off some styling */\n",
       "    progress {\n",
       "        /* gets rid of default border in Firefox and Opera. */\n",
       "        border: none;\n",
       "        /* Needs to be in here for Safari polyfill so background images work as expected. */\n",
       "        background-size: auto;\n",
       "    }\n",
       "    .progress-bar-interrupted, .progress-bar-interrupted::-webkit-progress-bar {\n",
       "        background: #F44336;\n",
       "    }\n",
       "</style>\n"
      ],
      "text/plain": [
       "<IPython.core.display.HTML object>"
      ]
     },
     "metadata": {},
     "output_type": "display_data"
    },
    {
     "data": {
      "text/html": [
       "<table border=\"1\" class=\"dataframe\">\n",
       "  <thead>\n",
       "    <tr style=\"text-align: left;\">\n",
       "      <th>epoch</th>\n",
       "      <th>train_loss</th>\n",
       "      <th>valid_loss</th>\n",
       "      <th>accuracy</th>\n",
       "      <th>time</th>\n",
       "    </tr>\n",
       "  </thead>\n",
       "  <tbody>\n",
       "    <tr>\n",
       "      <td>0</td>\n",
       "      <td>0.845315</td>\n",
       "      <td>1.171858</td>\n",
       "      <td>0.650112</td>\n",
       "      <td>05:08</td>\n",
       "    </tr>\n",
       "  </tbody>\n",
       "</table>"
      ],
      "text/plain": [
       "<IPython.core.display.HTML object>"
      ]
     },
     "metadata": {},
     "output_type": "display_data"
    },
    {
     "data": {
      "text/html": [
       "\n",
       "<style>\n",
       "    /* Turns off some styling */\n",
       "    progress {\n",
       "        /* gets rid of default border in Firefox and Opera. */\n",
       "        border: none;\n",
       "        /* Needs to be in here for Safari polyfill so background images work as expected. */\n",
       "        background-size: auto;\n",
       "    }\n",
       "    .progress-bar-interrupted, .progress-bar-interrupted::-webkit-progress-bar {\n",
       "        background: #F44336;\n",
       "    }\n",
       "</style>\n"
      ],
      "text/plain": [
       "<IPython.core.display.HTML object>"
      ]
     },
     "metadata": {},
     "output_type": "display_data"
    },
    {
     "data": {
      "text/html": [
       "<table border=\"1\" class=\"dataframe\">\n",
       "  <thead>\n",
       "    <tr style=\"text-align: left;\">\n",
       "      <th>epoch</th>\n",
       "      <th>train_loss</th>\n",
       "      <th>valid_loss</th>\n",
       "      <th>accuracy</th>\n",
       "      <th>time</th>\n",
       "    </tr>\n",
       "  </thead>\n",
       "  <tbody>\n",
       "    <tr>\n",
       "      <td>0</td>\n",
       "      <td>0.635858</td>\n",
       "      <td>0.834369</td>\n",
       "      <td>0.751307</td>\n",
       "      <td>05:06</td>\n",
       "    </tr>\n",
       "    <tr>\n",
       "      <td>1</td>\n",
       "      <td>0.664283</td>\n",
       "      <td>0.665261</td>\n",
       "      <td>0.796117</td>\n",
       "      <td>05:10</td>\n",
       "    </tr>\n",
       "    <tr>\n",
       "      <td>2</td>\n",
       "      <td>0.585543</td>\n",
       "      <td>0.634785</td>\n",
       "      <td>0.796490</td>\n",
       "      <td>05:11</td>\n",
       "    </tr>\n",
       "    <tr>\n",
       "      <td>3</td>\n",
       "      <td>0.478250</td>\n",
       "      <td>0.495538</td>\n",
       "      <td>0.840926</td>\n",
       "      <td>05:02</td>\n",
       "    </tr>\n",
       "    <tr>\n",
       "      <td>4</td>\n",
       "      <td>0.429075</td>\n",
       "      <td>0.448893</td>\n",
       "      <td>0.855489</td>\n",
       "      <td>05:08</td>\n",
       "    </tr>\n",
       "  </tbody>\n",
       "</table>"
      ],
      "text/plain": [
       "<IPython.core.display.HTML object>"
      ]
     },
     "metadata": {},
     "output_type": "display_data"
    }
   ],
   "source": [
    "dls = get_dls(128,128)\n",
    "learn = Learner(dls, xresnet50(), loss_func=CrossEntropyLossFlat(), metrics=accuracy)\n",
    "learn.fit_one_cycle(4, 3e-3)\n",
    "\n",
    "# simply replace the `Learner.dls` with new `DataLoaders` and continue traning.\n",
    "learn.dls = get_dls(64, 224)\n",
    "learn.fine_tune(5, 1e-3)"
   ]
  },
  {
   "cell_type": "markdown",
   "metadata": {
    "id": "MX4kLg2XvGQq"
   },
   "source": [
    ":::{.callout-note}\n",
    "\n",
    "To use the `DataLoaders` with bigger images, we simply assign it to `Learner.dls`.\n",
    "\n",
    ":::\n",
    "\n",
    "\n",
    ":::{.callout-important}\n",
    "\n",
    "Bigger images will require smaller batch sizes. Also, you will not get a benefit of using images sized larger than the size of your images on disk!\n",
    "\n",
    ":::\n",
    "\n",
    "\n",
    ":::{.callout-important}\n",
    "\n",
    "\"... for transfer learning, progressive resizing *may* acutally hurt performance .... This is most likely to happen **if your pretrained model was quite similar to your transfer learning task and the dataset and was trained on similar-sized images**, so the weights don't need to be changed much. In that case, **training on smaller images may damage the pretrained weights.**\n",
    "\n",
    ":::\n",
    "\n",
    "\n",
    "\"On the other hand, if the transfer learning task is going to use **images that are of different sizes, shapes, or styles than those used in the pretraining task**, progressive resizing will probably help\"\n",
    "\n",
    "\n",
    ":::{.callout-tip}\n",
    "\n",
    "If you are unsure, try it!\n",
    "\n",
    ":::"
   ]
  },
  {
   "cell_type": "markdown",
   "metadata": {
    "id": "XuSyFc8BwXaa"
   },
   "source": [
    "---\n",
    "\n",
    "## Tip 5: Use Test Time Augmentation (TTA)\n",
    "\n",
    ":::{.callout-important}\n",
    "\n",
    "TTA is a form of data augmentation applied to the validation set that adds augmented versions of the images. \"**During inference or validation**, creating multiple versions of each image using data augmentation, and then taking the average or maximum of the predictions for each augmented version of the image.\"\n",
    "\n",
    ":::\n",
    "\n",
    "\n",
    "\"... select a number of areas to crop from the original rectangular image, pass each of them through our model, and take the maximum or average of the predictions. In fact, we can do this not just for different crops, but for different values across all of our test time augmentation parameters\"\n",
    "\n",
    "**What is the problem TTA addresses and why use it?**\n",
    "\n",
    "\"When we use random cropping, fastai will automatically **use center-cropping for the validation set**\" which can be probelmatic, for example, in multi-label tasks where \"sometimes there are small objects toward the edges of an image\" that might be cropped out entirely or perhaps features on the fringe that are required for any classification task."
   ]
  },
  {
   "cell_type": "code",
   "execution_count": null,
   "metadata": {
    "colab": {
     "base_uri": "https://localhost:8080/",
     "height": 54
    },
    "id": "FCBaeNTS4D3g",
    "outputId": "421d320f-26ce-497b-dd77-2fbecbb3eb27"
   },
   "outputs": [
    {
     "data": {
      "text/html": [
       "\n",
       "<style>\n",
       "    /* Turns off some styling */\n",
       "    progress {\n",
       "        /* gets rid of default border in Firefox and Opera. */\n",
       "        border: none;\n",
       "        /* Needs to be in here for Safari polyfill so background images work as expected. */\n",
       "        background-size: auto;\n",
       "    }\n",
       "    .progress-bar-interrupted, .progress-bar-interrupted::-webkit-progress-bar {\n",
       "        background: #F44336;\n",
       "    }\n",
       "</style>\n"
      ],
      "text/plain": [
       "<IPython.core.display.HTML object>"
      ]
     },
     "metadata": {},
     "output_type": "display_data"
    },
    {
     "data": {
      "text/html": [
       "\n",
       "    <div>\n",
       "      <progress value='0' class='' max='5' style='width:300px; height:20px; vertical-align: middle;'></progress>\n",
       "      \n",
       "    </div>\n",
       "    \n"
      ],
      "text/plain": [
       "<IPython.core.display.HTML object>"
      ]
     },
     "metadata": {},
     "output_type": "display_data"
    },
    {
     "data": {
      "text/html": [
       "\n",
       "<style>\n",
       "    /* Turns off some styling */\n",
       "    progress {\n",
       "        /* gets rid of default border in Firefox and Opera. */\n",
       "        border: none;\n",
       "        /* Needs to be in here for Safari polyfill so background images work as expected. */\n",
       "        background-size: auto;\n",
       "    }\n",
       "    .progress-bar-interrupted, .progress-bar-interrupted::-webkit-progress-bar {\n",
       "        background: #F44336;\n",
       "    }\n",
       "</style>\n"
      ],
      "text/plain": [
       "<IPython.core.display.HTML object>"
      ]
     },
     "metadata": {},
     "output_type": "display_data"
    },
    {
     "data": {
      "text/html": [],
      "text/plain": [
       "<IPython.core.display.HTML object>"
      ]
     },
     "metadata": {},
     "output_type": "display_data"
    },
    {
     "data": {
      "text/plain": [
       "0.861090362071991"
      ]
     },
     "execution_count": 11,
     "metadata": {},
     "output_type": "execute_result"
    }
   ],
   "source": [
    "# you can pass any `DataLoaders` to `tta()` (by default it uses your validation `DataLoader`)\n",
    "preds, targs = learn.tta()\n",
    "accuracy(preds, targs).item()"
   ]
  },
  {
   "cell_type": "markdown",
   "metadata": {
    "id": "Lvz_1fNF4S9F"
   },
   "source": [
    "\"TTA gives us a good boost in performance, **with no additional training required.**"
   ]
  },
  {
   "cell_type": "markdown",
   "metadata": {
    "id": "xEDN3zrx4ekA"
   },
   "source": [
    "---\n",
    "\n",
    "## Tip 6: Use `MixUp`\n",
    "\n",
    "\"**Mixup** ... is a powerful data augmentation technique that can provide dramatically higher accuracy, **especially when you don't have much data and don't have a pretrained model that was trained on data similar to your dataset**\"\n",
    "\n",
    "It is a dataset-independent form of data augmentation = can be applied without domain knowledge of the dataset to configure other forms of data augmentation (e.g., flipping and to what degree, etc...)\n",
    "\n",
    "**How does Mixup work?**\n",
    "\n",
    "1. Select another random image\n",
    "2. Pick a weight at random\n",
    "3. Take a weighted average of the selected image with your image = **Your independent variable**\n",
    "4. Take a weighted average of the selected image's labels with your image's labels = **Your dependent variable**\n",
    "5. Use #3 to predict #4\n",
    "\n",
    "In pseudocode:\n",
    "\n",
    "```\n",
    "img2, targ2 = dataset[randint(0, len(dataset))]\n",
    "t = random_float(0.5, 1.0)\n",
    "new_img = t * img1 + (1-t) * img2\n",
    "new_targ = t * targ1 + (1-t) * targ2\n",
    "```\n",
    "\n",
    "\n",
    ":::{.callout-note}\n",
    "\n",
    "\"For this to work, our targets need to be one-hot encoded\"\n",
    "\n",
    ":::\n",
    "\n",
    "\n",
    ":::{.callout-important}\n",
    "\n",
    "\"Mixup requires far more epochs\"\n",
    "\n",
    ":::\n",
    "\n",
    "\n",
    ":::{.callout-note}\n",
    "\n",
    "\"One of the reasons Mixup is so exciting is that it can be applied to types of data other than photos. In fact, some people have even shown good results by **using Mixup on activations inside their models, not just on inputs - this allows Mixup to be used for NLP and other data types too.\"\n",
    "\n",
    ":::\n",
    "\n",
    "\n",
    "See pp.247-249 for a detailed example of how Mixup works and is used in fastai"
   ]
  },
  {
   "cell_type": "code",
   "execution_count": null,
   "metadata": {
    "colab": {
     "base_uri": "https://localhost:8080/",
     "height": 206
    },
    "id": "uZ7kFtxg7l84",
    "outputId": "ef31ac42-65b4-4a10-bb63-39d0c19bad8d"
   },
   "outputs": [
    {
     "data": {
      "text/html": [
       "\n",
       "<style>\n",
       "    /* Turns off some styling */\n",
       "    progress {\n",
       "        /* gets rid of default border in Firefox and Opera. */\n",
       "        border: none;\n",
       "        /* Needs to be in here for Safari polyfill so background images work as expected. */\n",
       "        background-size: auto;\n",
       "    }\n",
       "    .progress-bar-interrupted, .progress-bar-interrupted::-webkit-progress-bar {\n",
       "        background: #F44336;\n",
       "    }\n",
       "</style>\n"
      ],
      "text/plain": [
       "<IPython.core.display.HTML object>"
      ]
     },
     "metadata": {},
     "output_type": "display_data"
    },
    {
     "data": {
      "text/html": [
       "<table border=\"1\" class=\"dataframe\">\n",
       "  <thead>\n",
       "    <tr style=\"text-align: left;\">\n",
       "      <th>epoch</th>\n",
       "      <th>train_loss</th>\n",
       "      <th>valid_loss</th>\n",
       "      <th>accuracy</th>\n",
       "      <th>time</th>\n",
       "    </tr>\n",
       "  </thead>\n",
       "  <tbody>\n",
       "    <tr>\n",
       "      <td>0</td>\n",
       "      <td>2.183965</td>\n",
       "      <td>2.523945</td>\n",
       "      <td>0.320762</td>\n",
       "      <td>02:57</td>\n",
       "    </tr>\n",
       "    <tr>\n",
       "      <td>1</td>\n",
       "      <td>1.729223</td>\n",
       "      <td>1.974045</td>\n",
       "      <td>0.461538</td>\n",
       "      <td>03:01</td>\n",
       "    </tr>\n",
       "    <tr>\n",
       "      <td>2</td>\n",
       "      <td>1.479313</td>\n",
       "      <td>1.131723</td>\n",
       "      <td>0.630695</td>\n",
       "      <td>03:07</td>\n",
       "    </tr>\n",
       "    <tr>\n",
       "      <td>3</td>\n",
       "      <td>1.294975</td>\n",
       "      <td>0.872954</td>\n",
       "      <td>0.724421</td>\n",
       "      <td>03:08</td>\n",
       "    </tr>\n",
       "    <tr>\n",
       "      <td>4</td>\n",
       "      <td>1.183486</td>\n",
       "      <td>0.731506</td>\n",
       "      <td>0.776699</td>\n",
       "      <td>03:06</td>\n",
       "    </tr>\n",
       "  </tbody>\n",
       "</table>"
      ],
      "text/plain": [
       "<IPython.core.display.HTML object>"
      ]
     },
     "metadata": {},
     "output_type": "display_data"
    }
   ],
   "source": [
    "model = xresnet50()\n",
    "learn = Learner(dls, model, loss_func=CrossEntropyLossFlat(), metrics=accuracy, cbs=MixUp)\n",
    "learn.fit_one_cycle(5, 3e-3)"
   ]
  },
  {
   "cell_type": "markdown",
   "metadata": {
    "id": "wAJbp8YN72ku"
   },
   "source": [
    ":::{.callout-note}\n",
    "\n",
    "\"... it's going to be hard to train, because ... the model has to predict two labels per image rather than just one .... Overfitting seems less likely to be a problem.\"\n",
    "\n",
    ":::"
   ]
  },
  {
   "cell_type": "markdown",
   "metadata": {
    "id": "R8C2N0zK8OVQ"
   },
   "source": [
    "---\n",
    "\n",
    "## Tip 7: Use \"Label Smoothing\"\n",
    "\n",
    "\"In the theoretical expression of loss, **in classification problems**, our targets are one hot encoded .... That means the model is trained to return 0 for all categories but one, for which it is trained to return 1.... This encourages overfitting and gives you at inference time a model that is not going to give meaningful probabilities: it will always say 1 for the predicted category **even if it's not too sure**, just because it was trained that way.\n",
    "\n",
    "\n",
    ":::{.callout-important}\n",
    "\n",
    "\"This can become very harmful if your data is not perfectly labeled.\"\n",
    "\n",
    ":::\n",
    "\n",
    "\n",
    "\"In general, your data will never be perfect. Even if the labels were manually produced by humans, they could make mistakes, or have differences of opinions on images that are harder to label\"\n",
    "\n",
    "**What is the solution this this?**\n",
    "\n",
    "\"... we could replace all our 1s with a number a bit less than 1, and our 0s with a number a bit more than 0, and then train. This is\" = **Label smoothing**. \"By encouraging your model to be a less confident, label smoothing will make your training more robust, **even if there is mislabeled data. The result will be a model that generalizes better at inference**.\"\n",
    "\n",
    "See pp.249-251 for a detailed explanation and example of how label smoothing operates. **To use it, we just have to change our loss function.**"
   ]
  },
  {
   "cell_type": "code",
   "execution_count": null,
   "metadata": {
    "colab": {
     "base_uri": "https://localhost:8080/",
     "height": 206
    },
    "id": "ZRtp8SY--aLg",
    "outputId": "4a510d06-b7ea-4a4a-a971-16cbcb0fddbd"
   },
   "outputs": [
    {
     "data": {
      "text/html": [
       "\n",
       "<style>\n",
       "    /* Turns off some styling */\n",
       "    progress {\n",
       "        /* gets rid of default border in Firefox and Opera. */\n",
       "        border: none;\n",
       "        /* Needs to be in here for Safari polyfill so background images work as expected. */\n",
       "        background-size: auto;\n",
       "    }\n",
       "    .progress-bar-interrupted, .progress-bar-interrupted::-webkit-progress-bar {\n",
       "        background: #F44336;\n",
       "    }\n",
       "</style>\n"
      ],
      "text/plain": [
       "<IPython.core.display.HTML object>"
      ]
     },
     "metadata": {},
     "output_type": "display_data"
    },
    {
     "data": {
      "text/html": [
       "<table border=\"1\" class=\"dataframe\">\n",
       "  <thead>\n",
       "    <tr style=\"text-align: left;\">\n",
       "      <th>epoch</th>\n",
       "      <th>train_loss</th>\n",
       "      <th>valid_loss</th>\n",
       "      <th>accuracy</th>\n",
       "      <th>time</th>\n",
       "    </tr>\n",
       "  </thead>\n",
       "  <tbody>\n",
       "    <tr>\n",
       "      <td>0</td>\n",
       "      <td>2.757509</td>\n",
       "      <td>3.500999</td>\n",
       "      <td>0.253921</td>\n",
       "      <td>03:06</td>\n",
       "    </tr>\n",
       "    <tr>\n",
       "      <td>1</td>\n",
       "      <td>2.257501</td>\n",
       "      <td>2.817133</td>\n",
       "      <td>0.440627</td>\n",
       "      <td>03:00</td>\n",
       "    </tr>\n",
       "    <tr>\n",
       "      <td>2</td>\n",
       "      <td>1.968483</td>\n",
       "      <td>2.138581</td>\n",
       "      <td>0.617625</td>\n",
       "      <td>02:59</td>\n",
       "    </tr>\n",
       "    <tr>\n",
       "      <td>3</td>\n",
       "      <td>1.781833</td>\n",
       "      <td>1.700527</td>\n",
       "      <td>0.772591</td>\n",
       "      <td>03:05</td>\n",
       "    </tr>\n",
       "    <tr>\n",
       "      <td>4</td>\n",
       "      <td>1.648491</td>\n",
       "      <td>1.632251</td>\n",
       "      <td>0.798357</td>\n",
       "      <td>03:01</td>\n",
       "    </tr>\n",
       "  </tbody>\n",
       "</table>"
      ],
      "text/plain": [
       "<IPython.core.display.HTML object>"
      ]
     },
     "metadata": {},
     "output_type": "display_data"
    }
   ],
   "source": [
    "model = xresnet50()\n",
    "learn = Learner(dls, model, loss_func=LabelSmoothingCrossEntropy(), metrics=accuracy)\n",
    "learn.fit_one_cycle(5, 3e-3)"
   ]
  },
  {
   "cell_type": "markdown",
   "metadata": {
    "id": "YSMcpAF5-hgf"
   },
   "source": [
    ":::{.callout-important}\n",
    "\n",
    "\"As with Mixup, you won't generally see significant improvements from label smoothing until you train more epochs.\"\n",
    "\n",
    ":::"
   ]
  },
  {
   "cell_type": "markdown",
   "metadata": {
    "id": "PSwEOzDpHHBj"
   },
   "source": [
    "---\n",
    "\n",
    "## Resources\n",
    "\n",
    "1. https://book.fast.ai - The book's website; it's updated regularly with new content and recommendations from everything to GPUs to use, how to run things locally and on the cloud, etc...\n",
    "\n",
    "2. [Bag of Tricks for Image Classification with Convolutional Neural Networks](https://arxiv.org/abs/1812.01187) discusses a variety of techniques you can use with CNNs\n",
    "\n",
    "3. [How to Train Your ResNet 8: Bag of Tricks](https://myrtle.ai/how-to-train-your-resnet-8-bag-of-tricks/) discusses a variety of techniques you can use to training ResNets.\n",
    "\n",
    "4. [IceVision](https://airctic.com/0.12.0/) is a great resource for all things computer vision and a fastai friendly library.  You may want to follow these twitter accounts as well: [@ai_fast_track](https://twitter.com/ai_fast_track) and [@Fra_Pochetti](https://twitter.com/fra_pochetti) (creator of IceVision).\n"
   ]
  },
  {
   "cell_type": "code",
   "execution_count": null,
   "metadata": {
    "id": "B2wEfmj5CLA8"
   },
   "outputs": [],
   "source": []
  }
 ],
 "metadata": {
  "accelerator": "GPU",
  "colab": {
   "collapsed_sections": [
    "Xn6OyriNApwH",
    "hDqyb9CYkDR6",
    "yoBHs0wwbqG6",
    "LaEMinigoHFe",
    "RGuADSOdtARd",
    "XuSyFc8BwXaa",
    "xEDN3zrx4ekA",
    "R8C2N0zK8OVQ"
   ],
   "name": "Copy of Copy of Copy of Copy of Copy of Copy of 2020-11-06-ajtfb-chapter-1.ipynb",
   "provenance": []
  },
  "kernelspec": {
   "display_name": "Python 3.10.8 ('ohmeow_website')",
   "language": "python",
   "name": "python3"
  },
  "language_info": {
   "name": "python",
   "version": "3.10.8"
  },
  "vscode": {
   "interpreter": {
    "hash": "9eb9bda8f49c57e6addc88daf9eb4f6c227a77e767b644e5d20488a497d532a2"
   }
  }
 },
 "nbformat": 4,
 "nbformat_minor": 0
}
